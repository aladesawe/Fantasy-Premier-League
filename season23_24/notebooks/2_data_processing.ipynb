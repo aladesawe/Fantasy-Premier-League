{
 "cells": [
  {
   "cell_type": "markdown",
   "metadata": {},
   "source": [
    "- Need to add data processing for gameweeks where one team has multiple games. This needs to be done for the \"Add team data to FPL data\" section. Should be doable utilizing fpl_df.data_retrieved to pick right games (the previous game before the given date).\n",
    "- Fix Son first_name, second_name issue"
   ]
  },
  {
   "cell_type": "code",
   "execution_count": null,
   "metadata": {},
   "outputs": [],
   "source": [
    "shift_param = 1"
   ]
  },
  {
   "cell_type": "code",
   "execution_count": null,
   "metadata": {},
   "outputs": [],
   "source": [
    "import pandas as pd\n",
    "import numpy as np\n",
    "\n",
    "from pathlib import Path\n",
    "import os\n",
    "import datetime as dt\n",
    "import pickle\n",
    "\n",
    "from src.utils import fetch_latest_fpl_data\n",
    "\n",
    "from sklearn.linear_model import LogisticRegression\n",
    "from scipy.stats import poisson\n",
    "\n",
    "import matplotlib.pyplot as plt\n",
    "import plotly.express as px\n",
    "\n",
    "pd.set_option('display.max_columns', 500)\n",
    "pd.set_option('display.max_rows', 100)"
   ]
  },
  {
   "cell_type": "code",
   "execution_count": null,
   "metadata": {},
   "outputs": [],
   "source": [
    "# model for estimating bonus points based on gameweek bps\n",
    "model_path = Path(f\"../models/logistic_regression_for_bonus_points.pkl\")\n",
    "with open(model_path, \"rb\") as f:\n",
    "    clf = pickle.load(f)"
   ]
  },
  {
   "cell_type": "markdown",
   "metadata": {},
   "source": [
    "# Functions"
   ]
  },
  {
   "cell_type": "code",
   "execution_count": null,
   "metadata": {},
   "outputs": [],
   "source": [
    "def fpl_data_processing(df, columns):\n",
    "\n",
    "    xg_data = []\n",
    "    xa_data = []\n",
    "    xga_data = []\n",
    "    for ix, row in df.iterrows():\n",
    "        my_gameweek = row['gameweek']\n",
    "        xg_data.append( row[f'xG_week{my_gameweek}'] )\n",
    "        xa_data.append( row[f'xA_week{my_gameweek}'] )\n",
    "        xga_data.append( row[f'xGA_week{my_gameweek}'] )\n",
    "\n",
    "    df['gameweek_xG'] = xg_data\n",
    "    df['gameweek_xA'] = xa_data\n",
    "    df['gameweek_xGA'] = xga_data\n",
    "\n",
    "    df_new = df[columns].copy()\n",
    "\n",
    "    return df_new"
   ]
  },
  {
   "cell_type": "code",
   "execution_count": null,
   "metadata": {},
   "outputs": [],
   "source": [
    "def my_fill_na(x, gameweek_col, diff_col):\n",
    "    '''Fill nan values for first items for grouped variables where diff is calculated. But also don't fill for season 22-23,\n",
    "    where data is missing for a number of weeks at the beginning of the season.'''\n",
    "    my_value = x[diff_col] if (np.isnan(x[gameweek_col])) & (x['minutes']<=90) else x[gameweek_col]\n",
    "    return my_value\n",
    "    "
   ]
  },
  {
   "cell_type": "code",
   "execution_count": null,
   "metadata": {},
   "outputs": [],
   "source": [
    "def calculate_xPoints(x,clf):\n",
    "    \"\"\"Expected points for a given gameweek given underlying stats for that gameweek.\"\"\"\n",
    "\n",
    "    clean_sheet_points = np.array([4,4,1,0])\n",
    "    goal_points = np.array([6,6,5,4])\n",
    "\n",
    "    # calculate expexted points\n",
    "    points_played = np.array([1 if x['gameweek_minutes']>0 else 0])\n",
    "    points_played_over_60 = np.array([1 if x['gameweek_minutes']>=60 else 0])\n",
    "    points_xG = goal_points[x['element_type']-1] * x['gameweek_xG']\n",
    "    points_xA = x['gameweek_xA'] * 3\n",
    "    clean_sheet_probability = np.array(poisson.pmf(0,x['team_xGA']))\n",
    "    points_clean_sheet = [clean_sheet_points[x['element_type']-1] * clean_sheet_probability if x['gameweek_minutes']>=60 else 0]\n",
    "    points_saves = x['gameweek_saves'] // 3\n",
    "    points_penalty_saves = x['gameweek_penalties_saved'] * 5 * 0.21 #points for save times approx. probability of penalty save\n",
    "    #penalty_for_penalty_miss = x['Performance_PKatt'] * (-2*0.21) # this data only on fbref\n",
    "    # estimate bonus points\n",
    "    if not np.isnan(x['gameweek_bps']):\n",
    "        y_pred_prob = clf.predict_proba(np.array(x['gameweek_bps']).reshape(-1, 1))\n",
    "    else:\n",
    "        # return nan if bonus points can't be estimated \n",
    "        return np.nan\n",
    "    points_bonus = np.matmul(y_pred_prob, np.array([0,1,2,3]).reshape((4,1)))\n",
    "    \n",
    "    # penalty for possible points deductions based on goals conceded\n",
    "    xGA = x['team_xGA']\n",
    "    # calculate penalty\n",
    "    xGA_conceded_penalty = -(poisson.pmf(2,xGA)+poisson.pmf(3,xGA))-(poisson.pmf(4,xGA)+poisson.pmf(5,xGA))-(poisson.pmf(6,xGA)+poisson.pmf(7,xGA))-(poisson.pmf(8,xGA)+poisson.pmf(9,xGA)-(poisson.pmf(10,xGA)+poisson.pmf(11,xGA)))\n",
    "    # apply penalty only to GK and DEF\n",
    "    if (x['element_type']==1) | (x['element_type']==2):\n",
    "        xGA_conceded_penalty = xGA_conceded_penalty\n",
    "    else:\n",
    "        xGA_conceded_penalty = 0\n",
    "    # scale penalty with playing time\n",
    "    xGA_conceded_penalty = (x['gameweek_minutes'] / 90) * xGA_conceded_penalty\n",
    "\n",
    "    penalty_for_cards = [-3 if x['gameweek_red_cards']==1 else -1 if x['gameweek_yellow_cards']==1 else 0]\n",
    "    penalty_for_own_goal = -2 * x['gameweek_own_goals']\n",
    "\n",
    "    # add up all point components\n",
    "    total_points = float(points_played + points_played_over_60 + points_xG + points_xA + points_clean_sheet + points_saves +\\\n",
    "                    points_penalty_saves + points_bonus + xGA_conceded_penalty +\\\n",
    "                    penalty_for_cards + penalty_for_own_goal)\n",
    "    \n",
    "    return total_points"
   ]
  },
  {
   "cell_type": "markdown",
   "metadata": {},
   "source": [
    "# Fetch data"
   ]
  },
  {
   "cell_type": "code",
   "execution_count": null,
   "metadata": {},
   "outputs": [],
   "source": [
    "# fpl data from previous seasons\n",
    "filepath = Path('../data/modeling/fpl_df.csv')\n",
    "fpl_df = pd.read_csv(filepath, index_col=0)\n",
    "display(fpl_df.head())\n",
    "display(fpl_df.shape)"
   ]
  },
  {
   "cell_type": "code",
   "execution_count": null,
   "metadata": {},
   "outputs": [],
   "source": [
    "# fpl data from this season\n",
    "fpl_df_new = fetch_latest_fpl_data()\n",
    "# get gameweek data\n",
    "fpl_df_new['gameweek_xG'] = fpl_df_new.groupby('name')['expected_goals'].diff().fillna(fpl_df_new['expected_goals'])\n",
    "fpl_df_new['gameweek_xA'] = fpl_df_new.groupby('name')['expected_assists'].diff().fillna(fpl_df_new['expected_assists'])\n",
    "fpl_df_new['gameweek_xGA'] = fpl_df_new.groupby('name')['expected_goals_conceded'].diff().fillna(fpl_df_new['expected_goals_conceded'])\n",
    "\n",
    "display(fpl_df_new.head())\n",
    "display(fpl_df_new.shape)"
   ]
  },
  {
   "cell_type": "code",
   "execution_count": null,
   "metadata": {},
   "outputs": [],
   "source": [
    "# concatenate new fpl data with old\n",
    "fpl_df = pd.concat([fpl_df, fpl_df_new], join='outer').reset_index(drop=True)\n",
    "display(fpl_df.head())\n",
    "display(fpl_df.shape)"
   ]
  },
  {
   "cell_type": "code",
   "execution_count": null,
   "metadata": {},
   "outputs": [],
   "source": [
    "# rolling team data from past seasons\n",
    "filepath = Path('../data/modeling/team_data.csv')\n",
    "team_data = pd.read_csv(filepath, index_col=0)\n",
    "display(team_data.head())\n",
    "display(team_data.tail())\n",
    "display(team_data.shape)"
   ]
  },
  {
   "cell_type": "code",
   "execution_count": null,
   "metadata": {},
   "outputs": [],
   "source": [
    "# fpl fixtures data from this season\n",
    "filepath = Path('../data/fixtures/fpl_fixtures.csv')\n",
    "fixtures_fpl = pd.read_csv(filepath, index_col=0)\n",
    "fixtures_fpl = fixtures_fpl[fixtures_fpl.finished]\n",
    "display(fixtures_fpl.head())\n",
    "display(fixtures_fpl.shape)"
   ]
  },
  {
   "cell_type": "code",
   "execution_count": null,
   "metadata": {},
   "outputs": [],
   "source": [
    "# fbref fixtures data from this season\n",
    "filepath = Path('../data/fixtures/fbref_fixtures.csv')\n",
    "fixtures_fbref = pd.read_csv(filepath, index_col=0)\n",
    "display(fixtures_fbref.head())\n",
    "display(fixtures_fbref.shape)"
   ]
  },
  {
   "cell_type": "markdown",
   "metadata": {},
   "source": [
    "# Data processing"
   ]
  },
  {
   "cell_type": "markdown",
   "metadata": {},
   "source": [
    "### Fix certain player identification issues"
   ]
  },
  {
   "cell_type": "code",
   "execution_count": null,
   "metadata": {},
   "outputs": [],
   "source": [
    "# for Heung-Min Son, the first_name and second_name change along the data\n",
    "# here we fix the first_name and second_name so that player can be correctly identified in the data\n",
    "fpl_df.loc[fpl_df.web_name=='Son', 'first_name'] = 'Heung-Min'\n",
    "fpl_df.loc[fpl_df.web_name=='Son', 'second_name'] = 'Son'"
   ]
  },
  {
   "cell_type": "markdown",
   "metadata": {},
   "source": [
    "### Process FPL data"
   ]
  },
  {
   "cell_type": "code",
   "execution_count": null,
   "metadata": {},
   "outputs": [],
   "source": [
    "# find how many minutes a player played on a given gameweek\n",
    "fpl_df['gameweek_minutes'] = fpl_df.groupby(['first_name', 'second_name', 'season'])['minutes'].diff()\n",
    "# fill na caused at the start of each season by taking diff (but don't fill for season 22-23 where early season data is missing)\n",
    "fpl_df['gameweek_minutes'] = fpl_df.apply(lambda x: my_fill_na(x, 'gameweek_minutes', 'minutes'), axis=1)\n",
    "print('Number of rows with zero minutes played in a gameweek:')\n",
    "display(fpl_df[fpl_df.gameweek_minutes==0].shape[0])\n",
    "print('Number of rows with over 90 minutes played in a gameweek:')\n",
    "display(fpl_df[fpl_df.gameweek_minutes>90].shape[0])"
   ]
  },
  {
   "cell_type": "code",
   "execution_count": null,
   "metadata": {},
   "outputs": [],
   "source": [
    "# check does the latest season have any problem data (ok if '23-24' does not appear here)\n",
    "display(fpl_df.loc[fpl_df.gameweek_minutes>90, 'season'].unique())\n",
    "display(fpl_df.loc[fpl_df.gameweek_minutes==0, 'season'].unique())"
   ]
  },
  {
   "cell_type": "code",
   "execution_count": null,
   "metadata": {},
   "outputs": [],
   "source": [
    "# drop rows with 0 minutes or more than 90 minutes\n",
    "fpl_df = fpl_df[(fpl_df.gameweek_minutes>0) & (fpl_df.gameweek_minutes<=90)].reset_index(drop=True)\n",
    "display(fpl_df.head())\n",
    "display(fpl_df.shape)"
   ]
  },
  {
   "cell_type": "markdown",
   "metadata": {},
   "source": [
    "### Add xG data to FPL fixtures data"
   ]
  },
  {
   "cell_type": "code",
   "execution_count": null,
   "metadata": {},
   "outputs": [],
   "source": [
    "np.sort(pd.concat([fixtures_fpl.home_team, fixtures_fpl.away_team]).unique())"
   ]
  },
  {
   "cell_type": "code",
   "execution_count": null,
   "metadata": {},
   "outputs": [],
   "source": [
    "# map fbref team names to fpl team names\n",
    "fbref_teams = np.sort(pd.concat([fixtures_fbref.Home, fixtures_fbref.Away]).unique())\n",
    "fpl_teams = np.sort(pd.concat([fixtures_fpl.home_team, fixtures_fpl.away_team]).unique())\n",
    "team_name_dict = dict(zip(fbref_teams, fpl_teams))\n",
    "display(team_name_dict)\n",
    "\n",
    "fixtures_fbref['Home'] = fixtures_fbref['Home'].apply(lambda x: team_name_dict[x])\n",
    "fixtures_fbref['Away'] = fixtures_fbref['Away'].apply(lambda x: team_name_dict[x])\n",
    "display(fixtures_fbref.head())"
   ]
  },
  {
   "cell_type": "code",
   "execution_count": null,
   "metadata": {},
   "outputs": [],
   "source": [
    "home_xg = []\n",
    "away_xg = []\n",
    "for ix, row in fixtures_fpl.iterrows():\n",
    "    home_team = row.home_team\n",
    "    away_team = row.away_team\n",
    "    home_team_xg = fixtures_fbref.loc[(fixtures_fbref['Home']==home_team) & (fixtures_fbref['Away']==away_team), 'xG_home'].values[0]\n",
    "    away_team_xg = fixtures_fbref.loc[(fixtures_fbref['Home']==home_team) & (fixtures_fbref['Away']==away_team), 'xG_away'].values[0]\n",
    "    home_xg.append( home_team_xg )\n",
    "    away_xg.append( away_team_xg )\n",
    "\n",
    "fixtures_fpl['xg_home'] = home_xg\n",
    "fixtures_fpl['xg_away'] = away_xg\n",
    "\n",
    "display(fixtures_fpl.head())\n",
    "print('Nulls:')\n",
    "display(fixtures_fpl[['xg_home', 'xg_away']].isnull().sum())"
   ]
  },
  {
   "cell_type": "markdown",
   "metadata": {},
   "source": [
    "### Calculate exponentially weighted moving averages for each teams' xG data"
   ]
  },
  {
   "cell_type": "code",
   "execution_count": null,
   "metadata": {},
   "outputs": [],
   "source": [
    "fixtures_melt = fixtures_fpl.melt(id_vars=['xg_home', 'xg_away', 'team_h_score', 'team_a_score', 'event', 'kickoff_time', 'id'], value_vars=['home_team', 'away_team'])\n",
    "fixtures_melt['season'] = '23-24'\n",
    "display(fixtures_melt)"
   ]
  },
  {
   "cell_type": "code",
   "execution_count": null,
   "metadata": {},
   "outputs": [],
   "source": [
    "# concatenate fixtures_melt with team data (previous seasons)\n",
    "fixtures_melt = pd.concat([team_data, fixtures_melt], ignore_index=True)\n",
    "display(fixtures_melt)"
   ]
  },
  {
   "cell_type": "code",
   "execution_count": null,
   "metadata": {},
   "outputs": [],
   "source": [
    "# get team's xG (home xG if at home, away xG if at an away game)\n",
    "fixtures_melt['xG'] = fixtures_melt.apply(lambda x: x['xg_home'] if x['variable']=='home_team' else x['xg_away'], axis=1)\n",
    "fixtures_melt['xGA'] = fixtures_melt.apply(lambda x: x['xg_away'] if x['variable']=='home_team' else x['xg_home'], axis=1)\n",
    "\n",
    "# sort by date\n",
    "fixtures_melt = fixtures_melt.sort_values(by='kickoff_time').reset_index(drop=True)\n",
    "\n",
    "# calculate rolling averages\n",
    "rolling_windows = [5,10,20,40]\n",
    "\n",
    "for i in rolling_windows:\n",
    "    fixtures_melt[f'xG_ewm_{i}'] = (fixtures_melt[['value','xG']].groupby(by='value').ewm(alpha=1/i).mean()\n",
    "                                    .reset_index().sort_values(by='level_1')['xG'].values)\n",
    "    fixtures_melt[f'xGA_ewm_{i}'] = (fixtures_melt[['value','xGA']].groupby(by='value').ewm(alpha=1/i).mean()\n",
    "                                    .reset_index().sort_values(by='level_1')['xGA'].values)\n",
    "    \n",
    "display(fixtures_melt)"
   ]
  },
  {
   "cell_type": "code",
   "execution_count": null,
   "metadata": {},
   "outputs": [],
   "source": [
    "# save fixtures_melt\n",
    "filepath = Path('../data/team_data.csv')\n",
    "fixtures_melt.to_csv(filepath)"
   ]
  },
  {
   "cell_type": "code",
   "execution_count": null,
   "metadata": {},
   "outputs": [],
   "source": [
    "# shift team xg data by one so that the target game result is not included\n",
    "cols_to_shift = [col for col in fixtures_melt if 'ewm' in col]\n",
    "fixtures_melt[cols_to_shift] = fixtures_melt.groupby('value')[cols_to_shift].shift(shift_param)"
   ]
  },
  {
   "cell_type": "code",
   "execution_count": null,
   "metadata": {},
   "outputs": [],
   "source": [
    "# check what a given team's stats look like\n",
    "fixtures_melt[fixtures_melt.value=='Fulham']"
   ]
  },
  {
   "cell_type": "code",
   "execution_count": null,
   "metadata": {},
   "outputs": [],
   "source": [
    "# save fixtures_melt with shifted variables\n",
    "filepath = Path(f'../data/team_data_shift{shift_param}.csv')\n",
    "fixtures_melt.to_csv(filepath)"
   ]
  },
  {
   "cell_type": "markdown",
   "metadata": {},
   "source": [
    "### Add team data to FPL data"
   ]
  },
  {
   "cell_type": "code",
   "execution_count": null,
   "metadata": {},
   "outputs": [],
   "source": [
    "# columns to be fetched from team data\n",
    "col_names = ['xG', 'xGA']\n",
    "col_names += [f'xG_ewm_{i}' for i in rolling_windows]\n",
    "col_names += [f'xGA_ewm_{i}' for i in rolling_windows]\n",
    "nr_cols = len(col_names) \n",
    "team_data = []\n",
    "opponent_data = []\n",
    "home_indicator = []\n",
    "count_non_one_games = 0\n",
    "for ix, row in fpl_df[fpl_df.season=='23-24'].iterrows():\n",
    "    gameweek = row.gameweek\n",
    "    team = row.team_name\n",
    "    season = row.season\n",
    "    games = fixtures_melt[(fixtures_melt.value==team) & (fixtures_melt.event==gameweek) & (fixtures_melt.season==season)]\n",
    "    if games.shape[0]!=1:\n",
    "        team_data.append( np.array([np.nan]*nr_cols) )\n",
    "        opponent_data.append( np.array([np.nan]*nr_cols) )\n",
    "        home_indicator.append( np.array([np.nan]) )\n",
    "        count_non_one_games += 1\n",
    "    elif games.shape[0]==1:\n",
    "        # add team data\n",
    "        team_data.append( games[col_names].values.flatten() )\n",
    "        # find opponent data\n",
    "        home_game = games.variable.values[0]=='home_team'\n",
    "        game_id = games.id.values[0]\n",
    "        if home_game:\n",
    "            home_indicator.append( np.array([1]) )\n",
    "            opponent_team = fixtures_fpl.loc[(fixtures_fpl.home_team==team) & (fixtures_fpl.event==gameweek), 'away_team'].values[0]\n",
    "        else:\n",
    "            home_indicator.append( np.array([0]) )\n",
    "            opponent_team = fixtures_fpl.loc[(fixtures_fpl.away_team==team) & (fixtures_fpl.event==gameweek), 'home_team'].values[0]\n",
    "        opponent_games = fixtures_melt[(fixtures_melt.value==opponent_team) & (fixtures_melt.event==gameweek) & (fixtures_melt.season==season) & (fixtures_melt.id==game_id)]\n",
    "        # add opponent data\n",
    "        opponent_data.append( opponent_games[col_names].values.flatten() )\n",
    "    else:\n",
    "        print(f'Check number of games for ix {ix}!')\n",
    "     \n",
    "\n",
    "new_col_names = ['team_'+col for col in col_names]\n",
    "team_data_df = pd.DataFrame(team_data, columns=new_col_names, index=fpl_df[fpl_df.season=='23-24'].index)\n",
    "new_oppo_col_names = ['opponent_'+col for col in col_names]\n",
    "opponent_data_df = pd.DataFrame(opponent_data, columns=new_oppo_col_names, index=fpl_df[fpl_df.season=='23-24'].index)\n",
    "home_indicator_df = pd.DataFrame(home_indicator, columns=['home'], index=fpl_df[fpl_df.season=='23-24'].index)\n",
    "\n",
    "fpl_df.loc[fpl_df.season=='23-24', new_col_names] = team_data_df\n",
    "fpl_df.loc[fpl_df.season=='23-24', new_oppo_col_names] = opponent_data_df\n",
    "fpl_df.loc[fpl_df.season=='23-24', 'home'] = home_indicator_df\n",
    "\n",
    "display(fpl_df.head())\n",
    "display(fpl_df.tail())\n",
    "display(fpl_df.shape)\n",
    "print(f'Number of non-one-games: {count_non_one_games}')\n"
   ]
  },
  {
   "cell_type": "markdown",
   "metadata": {},
   "source": [
    "### FPL gameweek stats"
   ]
  },
  {
   "cell_type": "code",
   "execution_count": null,
   "metadata": {},
   "outputs": [],
   "source": [
    "# calculate gameweek stats by looking at differences in cumulative stats\n",
    "\n",
    "diff_columns = ['assists', 'bps', 'creativity', 'goals_scored', 'goals_conceded', 'own_goals', 'penalties_saved', \n",
    "                'red_cards', 'saves', 'threat', 'yellow_cards']\n",
    "\n",
    "for col in diff_columns:\n",
    "    fpl_df[f'gameweek_{col}'] = fpl_df.groupby(['web_name', 'season'])[col].diff()\n",
    "    fpl_df[f'gameweek_{col}'] = fpl_df.apply(lambda x: my_fill_na(x, f'gameweek_{col}', col), axis=1)"
   ]
  },
  {
   "cell_type": "code",
   "execution_count": null,
   "metadata": {},
   "outputs": [],
   "source": [
    "# sanity check\n",
    "fpl_df.loc[fpl_df.web_name=='Aubameyang', ['goals_scored', 'gameweek_goals_scored']]"
   ]
  },
  {
   "cell_type": "markdown",
   "metadata": {},
   "source": [
    "### FPL expected points"
   ]
  },
  {
   "cell_type": "code",
   "execution_count": null,
   "metadata": {},
   "outputs": [],
   "source": [
    "fpl_df['gameweek_xPoints'] = fpl_df.apply(lambda x: calculate_xPoints(x,clf), axis=1)"
   ]
  },
  {
   "cell_type": "code",
   "execution_count": null,
   "metadata": {},
   "outputs": [],
   "source": [
    "# proportion of nans\n",
    "fpl_df['gameweek_xPoints'].isnull().sum() / fpl_df.shape[0]"
   ]
  },
  {
   "cell_type": "code",
   "execution_count": null,
   "metadata": {},
   "outputs": [],
   "source": [
    "fig = px.histogram(fpl_df, x='gameweek_xPoints', nbins=40)\n",
    "fig.show()"
   ]
  },
  {
   "cell_type": "code",
   "execution_count": null,
   "metadata": {},
   "outputs": [],
   "source": [
    "# sanity check\n",
    "fpl_df.loc[fpl_df.web_name=='Aubameyang', ['gameweek_xPoints']]"
   ]
  },
  {
   "cell_type": "code",
   "execution_count": null,
   "metadata": {},
   "outputs": [],
   "source": [
    "fpl_df.loc[(fpl_df.season=='23-24') & (fpl_df.gameweek_xPoints.isnull())].shape"
   ]
  },
  {
   "cell_type": "markdown",
   "metadata": {},
   "source": [
    "### FPL moving averages"
   ]
  },
  {
   "cell_type": "code",
   "execution_count": null,
   "metadata": {},
   "outputs": [],
   "source": [
    "# calculate moving averages based on gameweek stats\n",
    "\n",
    "ewm_columns = ['gameweek_assists', 'gameweek_bps', 'gameweek_creativity', 'event_points', 'gameweek_goals_scored', 'gameweek_goals_conceded', 'gameweek_saves', \n",
    "               'gameweek_threat', 'gameweek_xG', 'gameweek_xA', 'gameweek_xGA', 'gameweek_minutes', 'gameweek_xPoints']\n",
    "\n",
    "for i in rolling_windows:\n",
    "    new_columns = [col+f'_ewm_{i}' for col in ewm_columns]\n",
    "    fpl_df[new_columns] = fpl_df.groupby('web_name')[ewm_columns].ewm(alpha=1/i).mean().reset_index().sort_values(by='level_1')[ewm_columns].values\n",
    "    #fpl_df[new_columns] = fpl_df.groupby('web_name')[ewm_columns].rolling(i, min_periods=1, closed='left').mean().reset_index().sort_values(by='level_1')[ewm_columns].values\n",
    "\n",
    "display(fpl_df.head())\n",
    "display(fpl_df.shape)"
   ]
  },
  {
   "cell_type": "code",
   "execution_count": null,
   "metadata": {},
   "outputs": [],
   "source": [
    "# sanity check\n",
    "fpl_df.loc[fpl_df.web_name=='Aubameyang', ['gameweek_goals_scored', 'gameweek_goals_scored_ewm_5', 'gameweek_goals_scored_ewm_10', \n",
    "                                           'gameweek_goals_scored_ewm_20', 'gameweek_goals_scored_ewm_40']]"
   ]
  },
  {
   "cell_type": "markdown",
   "metadata": {},
   "source": [
    "# FPL expanding stats"
   ]
  },
  {
   "cell_type": "code",
   "execution_count": null,
   "metadata": {},
   "outputs": [],
   "source": [
    "expanding_columns = ['gameweek_assists', 'gameweek_bps', 'gameweek_creativity', 'event_points', 'gameweek_goals_scored', 'gameweek_goals_conceded', 'gameweek_saves', \n",
    "               'gameweek_threat', 'gameweek_xG', 'gameweek_xA', 'gameweek_xGA', 'gameweek_minutes', 'gameweek_xPoints']\n",
    "expanding_col_names = [col+'_expanding' for col in expanding_columns]\n",
    "\n",
    "fpl_df[expanding_col_names] = (\n",
    "    fpl_df\n",
    "    .groupby(['first_name', 'second_name'])[expanding_columns]\n",
    "    .expanding()\n",
    "    .sum()\n",
    "    .reset_index()\n",
    "    .sort_values('level_2')[expanding_columns]\n",
    "    .values\n",
    ")\n",
    "\n",
    "display(fpl_df.head())\n",
    "display(fpl_df.shape)"
   ]
  },
  {
   "cell_type": "code",
   "execution_count": null,
   "metadata": {},
   "outputs": [],
   "source": [
    "# sanity check\n",
    "fpl_df.loc[fpl_df.web_name=='Aubameyang', expanding_columns + expanding_col_names + ['season']]"
   ]
  },
  {
   "cell_type": "markdown",
   "metadata": {},
   "source": [
    "# FPL per 90 stats"
   ]
  },
  {
   "cell_type": "code",
   "execution_count": null,
   "metadata": {},
   "outputs": [],
   "source": [
    "per_90_columns = [col+'_per90' for col in expanding_col_names]\n",
    "\n",
    "for i in range(len(per_90_columns)):\n",
    "    fpl_df[per_90_columns[i]] = fpl_df[expanding_col_names[i]] / fpl_df['gameweek_minutes_expanding'] * 90"
   ]
  },
  {
   "cell_type": "code",
   "execution_count": null,
   "metadata": {},
   "outputs": [],
   "source": [
    "# sanity check\n",
    "fpl_df.loc[fpl_df.web_name=='Aubameyang', per_90_columns + expanding_col_names + ['season']]"
   ]
  },
  {
   "cell_type": "markdown",
   "metadata": {},
   "source": [
    "# Add xG overperfomance"
   ]
  },
  {
   "cell_type": "code",
   "execution_count": null,
   "metadata": {},
   "outputs": [],
   "source": [
    "fpl_df['xG_overperformance'] = fpl_df['gameweek_goals_scored_expanding'] / fpl_df['gameweek_xG_expanding']\n",
    "# fix if division with zero\n",
    "fpl_df.loc[np.isinf(fpl_df['xG_overperformance']), 'xG_overperformance'] = 1"
   ]
  },
  {
   "cell_type": "code",
   "execution_count": null,
   "metadata": {},
   "outputs": [],
   "source": [
    "# sanity check\n",
    "fpl_df.loc[fpl_df.web_name=='Son', ['gameweek_goals_scored', 'gameweek_xG', \n",
    "                'gameweek_goals_scored_expanding', 'gameweek_xG_expanding', 'gameweek_minutes_expanding',\n",
    "                'xG_overperformance', 'season']]"
   ]
  },
  {
   "cell_type": "code",
   "execution_count": null,
   "metadata": {},
   "outputs": [],
   "source": [
    "fpl_df.loc[fpl_df.web_name=='Son', ['first_name', 'second_name', 'web_name', 'season']]"
   ]
  },
  {
   "cell_type": "markdown",
   "metadata": {},
   "source": [
    "# Save data"
   ]
  },
  {
   "cell_type": "code",
   "execution_count": null,
   "metadata": {},
   "outputs": [],
   "source": [
    "filepath = Path('../data/fpl_df.csv')\n",
    "fpl_df.to_csv(filepath)"
   ]
  },
  {
   "cell_type": "code",
   "execution_count": null,
   "metadata": {},
   "outputs": [],
   "source": []
  }
 ],
 "metadata": {
  "kernelspec": {
   "display_name": "venv23-24",
   "language": "python",
   "name": "python3"
  },
  "language_info": {
   "codemirror_mode": {
    "name": "ipython",
    "version": 3
   },
   "file_extension": ".py",
   "mimetype": "text/x-python",
   "name": "python",
   "nbconvert_exporter": "python",
   "pygments_lexer": "ipython3",
   "version": "3.10.6"
  },
  "orig_nbformat": 4
 },
 "nbformat": 4,
 "nbformat_minor": 2
}
