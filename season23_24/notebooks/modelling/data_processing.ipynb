{
 "cells": [
  {
   "cell_type": "code",
   "execution_count": null,
   "metadata": {},
   "outputs": [],
   "source": [
    "import pandas as pd\n",
    "import numpy as np\n",
    "\n",
    "from pathlib import Path\n",
    "import os\n",
    "import datetime as dt\n",
    "\n",
    "pd.set_option('display.max_columns', 500)\n",
    "pd.set_option('display.max_rows', 100)"
   ]
  },
  {
   "cell_type": "markdown",
   "metadata": {},
   "source": [
    "# Functions"
   ]
  },
  {
   "cell_type": "code",
   "execution_count": null,
   "metadata": {},
   "outputs": [],
   "source": [
    "def fpl_data_processing(df, columns):\n",
    "\n",
    "    xg_data = []\n",
    "    xa_data = []\n",
    "    xga_data = []\n",
    "    for ix, row in df.iterrows():\n",
    "        my_gameweek = row['gameweek']\n",
    "        xg_data.append( row[f'xG_week{my_gameweek}'] )\n",
    "        xa_data.append( row[f'xA_week{my_gameweek}'] )\n",
    "        xga_data.append( row[f'xGA_week{my_gameweek}'] )\n",
    "\n",
    "    df['gameweek_xG'] = xg_data\n",
    "    df['gameweek_xA'] = xa_data\n",
    "    df['gameweek_xGA'] = xga_data\n",
    "\n",
    "    df_new = df[columns].copy()\n",
    "\n",
    "    return df_new"
   ]
  },
  {
   "cell_type": "markdown",
   "metadata": {},
   "source": [
    "# Fetch data"
   ]
  },
  {
   "cell_type": "code",
   "execution_count": null,
   "metadata": {},
   "outputs": [],
   "source": [
    "# name all seasons for which data is fetched\n",
    "seasons = ['20-21', '21-22', '22-23']\n",
    "\n",
    "# which columns to get for each season\n",
    "columns = ['assists', 'bonus', 'bps', 'clean_sheets', 'corners_and_indirect_freekicks_order', 'creativity', 'creativity_rank', \n",
    "                 'creativity_rank_type', 'direct_freekicks_order', 'dreamteam_count', 'element_type', 'event_points', 'first_name', \n",
    "                 'goals_conceded', 'goals_scored', 'ict_index', 'ict_index_rank', 'ict_index_rank_type', 'influence', 'influence_rank',\n",
    "                 'influence_rank_type', 'minutes', 'now_cost', 'own_goals', 'penalties_missed', 'penalties_order', 'penalties_saved',\n",
    "                 'points_per_game', 'red_cards', 'saves', 'second_name', 'selected_by_percent', 'threat', 'threat_rank', 'threat_rank_type',\n",
    "                 'total_points', 'web_name', 'yellow_cards', 'team_name', 'gameweek', 'season', 'gameweek_xG', 'gameweek_xA', 'gameweek_xGA']"
   ]
  },
  {
   "cell_type": "code",
   "execution_count": null,
   "metadata": {},
   "outputs": [],
   "source": [
    "data = []\n",
    "\n",
    "# all data for season 20-21\n",
    "for i in range(38):\n",
    "    filepath = Path(f'../../../season20_21/data/fpl/data_week{i+1}.csv')\n",
    "    gameweek_data = pd.read_csv(filepath, index_col=0)\n",
    "    gameweek_data['gameweek'] = i+1\n",
    "    gameweek_data['season'] = '20-21'\n",
    "    gameweek_data = fpl_data_processing(gameweek_data, columns)\n",
    "    data.append(gameweek_data)\n",
    "\n",
    "# all data for season 21-22\n",
    "for i in range(38):\n",
    "    filepath = Path(f'../../../season21_22/data/fpl/data_week{i+1}.csv')\n",
    "    gameweek_data = pd.read_csv(filepath, index_col=0)\n",
    "    gameweek_data['gameweek'] = i+1\n",
    "    gameweek_data['season'] = '21-22'\n",
    "    gameweek_data = fpl_data_processing(gameweek_data, columns)\n",
    "    data.append(gameweek_data)\n",
    "\n",
    "# all data for season 22-23\n",
    "for i in range(17,38):\n",
    "    filepath = Path(f'../../../season22_23/data/fpl_data/fpl_week_{i+1}.csv')\n",
    "    gameweek_data = pd.read_csv(filepath, index_col=0)\n",
    "    gameweek_data['gameweek'] = i+1\n",
    "    gameweek_data['season'] = '22-23'\n",
    "    # the gamweek variables are here season sum totals, will be fixed in processing\n",
    "    gameweek_data = gameweek_data.rename(columns={'team':'team_name', 'expected_goals':'gameweek_xG', \n",
    "                                                  'expected_assists':'gameweek_xA', 'expected_goals_conceded':'gameweek_xGA'})\n",
    "    gameweek_data = gameweek_data[columns]\n",
    "    data.append(gameweek_data)\n",
    "\n",
    "fpl_df = pd.concat(data, ignore_index=True)\n",
    "\n",
    "display(fpl_df.head())\n",
    "display(fpl_df.tail())\n",
    "display(fpl_df.shape)"
   ]
  },
  {
   "cell_type": "code",
   "execution_count": null,
   "metadata": {},
   "outputs": [],
   "source": [
    "# FPL fixtures needed to get correct gameweeks for each match\n",
    "# team names have been preprocessed to be compatible\n",
    "\n",
    "fixtures = []\n",
    "filepaths = [\n",
    "    Path(f'../../../season20_21/data/fpl/fixtures.csv'),\n",
    "    Path(f'../../../season21_22/data/fpl/fixtures.csv'),\n",
    "    Path(f'../../../season22_23/data/fpl_data/fixtures.csv')\n",
    "]\n",
    "\n",
    "for filepath in filepaths:\n",
    "    df = pd.read_csv(filepath, index_col=0)\n",
    "    df['kickoff_time'] = pd.to_datetime(df.kickoff_time)\n",
    "    fixtures.append(df)\n",
    "    \n",
    "for i in range(len(filepaths)):\n",
    "    fixtures[i]['season'] = seasons[i]\n",
    "    display(fixtures[i].head())\n",
    "    display(fixtures[i].shape)"
   ]
  },
  {
   "cell_type": "code",
   "execution_count": null,
   "metadata": {},
   "outputs": [],
   "source": [
    "# FBREF data needed for xg values\n",
    "\n",
    "fixtures_fbref = []\n",
    "filepaths = [\n",
    "    Path(f'../../../season20_21/data/fbref/fixtures20_21.csv'),\n",
    "    Path(f'../../../season21_22/data/fbref/fixtures21_22.csv'),\n",
    "    Path(f'../../../season22_23/data/fbref_data/fixtures22_23.csv')\n",
    "]\n",
    "\n",
    "for filepath in filepaths:\n",
    "    df = pd.read_csv(filepath, index_col=0)\n",
    "    df['Date'] = pd.to_datetime(df['Date'])\n",
    "    #drop null rows\n",
    "    df = df[~df.isnull().all(axis=1)] \n",
    "    fixtures_fbref.append(df)\n",
    "\n",
    "for i in range(len(filepaths)):\n",
    "    display(fixtures_fbref[i].head())\n",
    "    display(fixtures_fbref[i].shape)"
   ]
  },
  {
   "cell_type": "markdown",
   "metadata": {},
   "source": [
    "# Data processing"
   ]
  },
  {
   "cell_type": "markdown",
   "metadata": {},
   "source": [
    "### Fix season 22-23 xg data"
   ]
  },
  {
   "cell_type": "code",
   "execution_count": null,
   "metadata": {},
   "outputs": [],
   "source": [
    "# fix season 22-23 xg data\n",
    "fpl_df.loc[fpl_df.season=='22-23', 'gameweek_xG'] = fpl_df[fpl_df.season=='22-23'].groupby('web_name')['gameweek_xG'].diff()\n",
    "fpl_df.loc[fpl_df.season=='22-23', 'gameweek_xA'] = fpl_df[fpl_df.season=='22-23'].groupby('web_name')['gameweek_xA'].diff()\n",
    "fpl_df.loc[fpl_df.season=='22-23', 'gameweek_xGA'] = fpl_df[fpl_df.season=='22-23'].groupby('web_name')['gameweek_xGA'].diff()\n",
    "\n",
    "fpl_df[['gameweek_xG', 'gameweek_xA', 'gameweek_xGA']] = fpl_df[['gameweek_xG', 'gameweek_xA', 'gameweek_xGA']].fillna(0)"
   ]
  },
  {
   "cell_type": "code",
   "execution_count": null,
   "metadata": {},
   "outputs": [],
   "source": [
    "# make sure xg data is always non-negative\n",
    "fpl_df['gameweek_xG'] = fpl_df['gameweek_xG'].apply(lambda x: np.max((0,x)))\n",
    "fpl_df['gameweek_xA'] = fpl_df['gameweek_xA'].apply(lambda x: np.max((0,x)))\n",
    "fpl_df['gameweek_xGA'] = fpl_df['gameweek_xGA'].apply(lambda x: np.max((0,x)))"
   ]
  },
  {
   "cell_type": "markdown",
   "metadata": {},
   "source": [
    "### Process FPL data"
   ]
  },
  {
   "cell_type": "code",
   "execution_count": null,
   "metadata": {},
   "outputs": [],
   "source": [
    "# only use data for players that played, i.e., had positive minutes in a given gameweek\n",
    "fpl_df['gameweek_minutes'] = fpl_df.groupby(['web_name', 'season'])['minutes'].diff().fillna(fpl_df['minutes'])\n",
    "print('Number of rows with zero minutes played in a gameweek:')\n",
    "display(fpl_df[fpl_df.gameweek_minutes==0].shape[0])\n",
    "print('Number of rows with over 90 minutes played in a gameweek:')\n",
    "display(fpl_df[fpl_df.gameweek_minutes>90].shape[0])"
   ]
  },
  {
   "cell_type": "code",
   "execution_count": null,
   "metadata": {},
   "outputs": [],
   "source": [
    "# drop rows with 0 minutes or more than 90 minutes\n",
    "fpl_df = fpl_df[(fpl_df.gameweek_minutes>0) & (fpl_df.gameweek_minutes<=90)].reset_index()\n",
    "display(fpl_df.head())\n",
    "display(fpl_df.tail())\n",
    "display(fpl_df.shape)"
   ]
  },
  {
   "cell_type": "code",
   "execution_count": null,
   "metadata": {},
   "outputs": [],
   "source": [
    "fpl_df.isnull().sum() / fpl_df.shape[0]"
   ]
  },
  {
   "cell_type": "code",
   "execution_count": null,
   "metadata": {},
   "outputs": [],
   "source": [
    "fpl_df[fpl_df.web_name=='Aubameyang']"
   ]
  },
  {
   "cell_type": "markdown",
   "metadata": {},
   "source": [
    "### Add xG data to FPL fixtures data"
   ]
  },
  {
   "cell_type": "code",
   "execution_count": null,
   "metadata": {},
   "outputs": [],
   "source": [
    "# map fbref team names to fpl team names\n",
    "\n",
    "for i in range(len(fixtures_fbref)):\n",
    "    # map fbref team names to fpl team names\n",
    "    team_name_dict = dict(zip(np.sort(fixtures_fbref[i].Home.unique()), np.sort(fixtures[i].home_team.unique())))\n",
    "    display(team_name_dict)\n",
    "\n",
    "    fixtures_fbref[i]['Home'] = fixtures_fbref[i]['Home'].apply(lambda x: team_name_dict[x])\n",
    "    fixtures_fbref[i]['Away'] = fixtures_fbref[i]['Away'].apply(lambda x: team_name_dict[x])\n",
    "    display(fixtures_fbref[i].head())"
   ]
  },
  {
   "cell_type": "code",
   "execution_count": null,
   "metadata": {},
   "outputs": [],
   "source": [
    "# get xg data to fpl fixtures df\n",
    "\n",
    "for i in range(len(fixtures)):\n",
    "\n",
    "    home_xg = []\n",
    "    away_xg = []\n",
    "    for ix, row in fixtures[i].iterrows():\n",
    "        home_team = row.home_team\n",
    "        away_team = row.away_team\n",
    "        home_team_xg = fixtures_fbref[i].loc[(fixtures_fbref[i]['Home']==home_team) & (fixtures_fbref[i]['Away']==away_team), 'xG_home'].values[0]\n",
    "        away_team_xg = fixtures_fbref[i].loc[(fixtures_fbref[i]['Home']==home_team) & (fixtures_fbref[i]['Away']==away_team), 'xG_away'].values[0]\n",
    "        home_xg.append( home_team_xg )\n",
    "        away_xg.append( away_team_xg )\n",
    "\n",
    "    fixtures[i]['xg_home'] = home_xg\n",
    "    fixtures[i]['xg_away'] = away_xg\n",
    "\n",
    "    display(fixtures[i].head())\n",
    "    print('Nulls:')\n",
    "    display(fixtures[i][['xg_home', 'xg_away']].isnull().sum())"
   ]
  },
  {
   "cell_type": "markdown",
   "metadata": {},
   "source": [
    "### Calculate exponentially weighted moving averages for each teams' xG data"
   ]
  },
  {
   "cell_type": "code",
   "execution_count": null,
   "metadata": {},
   "outputs": [],
   "source": [
    "# get each team's data on one row\n",
    "\n",
    "fixtures_melt_list = []\n",
    "for i in range(len(fixtures)):\n",
    "\n",
    "    df = fixtures[i].melt(id_vars=['xg_home', 'xg_away', 'team_h_score', 'team_a_score', 'event', 'kickoff_time', 'id'], value_vars=['home_team', 'away_team'])\n",
    "    df['season'] = seasons[i]\n",
    "    fixtures_melt_list.append( df )\n",
    "\n",
    "fixtures_melt = pd.concat(fixtures_melt_list, ignore_index=True)\n",
    "\n",
    "display(fixtures_melt.head())\n",
    "display(fixtures_melt.tail())\n",
    "display(fixtures_melt.shape)\n"
   ]
  },
  {
   "cell_type": "code",
   "execution_count": null,
   "metadata": {},
   "outputs": [],
   "source": [
    "# get team's xG (home xG if at home, away xG if at an away game)\n",
    "fixtures_melt['xG'] = fixtures_melt.apply(lambda x: x['xg_home'] if x['variable']=='home_team' else x['xg_away'], axis=1)\n",
    "fixtures_melt['xGA'] = fixtures_melt.apply(lambda x: x['xg_away'] if x['variable']=='home_team' else x['xg_home'], axis=1)\n",
    "\n",
    "# sort by date\n",
    "fixtures_melt = fixtures_melt.sort_values(by='kickoff_time').reset_index(drop=True)\n",
    "\n",
    "# calculate rolling averages\n",
    "rolling_windows = [5,10,20,40]\n",
    "\n",
    "for i in rolling_windows:\n",
    "    fixtures_melt[f'xG_ewm_{i}'] = fixtures_melt[['value','xG']].groupby(by='value').ewm(alpha=1/i).mean().reset_index().sort_values(by='level_1')['xG'].values\n",
    "    fixtures_melt[f'xGA_ewm_{i}'] = fixtures_melt[['value','xGA']].groupby(by='value').ewm(alpha=1/i).mean().reset_index().sort_values(by='level_1')['xGA'].values\n",
    "\n",
    "fixtures_melt"
   ]
  },
  {
   "cell_type": "code",
   "execution_count": null,
   "metadata": {},
   "outputs": [],
   "source": [
    "# check what a given team's stats look like\n",
    "fixtures_melt[fixtures_melt.value=='Fulham']"
   ]
  },
  {
   "cell_type": "markdown",
   "metadata": {},
   "source": [
    "### Add team data to FPL data"
   ]
  },
  {
   "cell_type": "code",
   "execution_count": null,
   "metadata": {},
   "outputs": [],
   "source": [
    "fixtures_df = pd.concat(fixtures, ignore_index=True)\n",
    "fixtures_df"
   ]
  },
  {
   "cell_type": "code",
   "execution_count": null,
   "metadata": {},
   "outputs": [],
   "source": [
    "# columns to be fetched from team data\n",
    "col_names = [f'xG_ewm_{i}' for i in rolling_windows]\n",
    "col_names += [f'xGA_ewm_{i}' for i in rolling_windows]\n",
    "nr_cols = len(col_names) \n",
    "team_data = []\n",
    "opponent_data = []\n",
    "count_non_one_games = 0\n",
    "for ix, row in fpl_df.iterrows():\n",
    "    gameweek = row.gameweek\n",
    "    team = row.team_name\n",
    "    season = row.season\n",
    "    games = fixtures_melt[(fixtures_melt.value==team) & (fixtures_melt.event==gameweek) & (fixtures_melt.season==season)]\n",
    "    if games.shape[0]!=1:\n",
    "        team_data.append( np.array([np.nan]*nr_cols) )\n",
    "        opponent_data.append( np.array([np.nan]*nr_cols) )\n",
    "        count_non_one_games += 1\n",
    "    elif games.shape[0]==1:\n",
    "        # add team data\n",
    "        team_data.append( games[col_names].values.flatten() )\n",
    "        # find opponent data\n",
    "        home_game = games.variable.values[0]=='home_team'\n",
    "        game_id = games.id.values[0]\n",
    "        if home_game:\n",
    "            opponent_team = fixtures_df.loc[(fixtures_df.home_team==team) & (fixtures_df.event==gameweek) & (fixtures_df.season==season), 'away_team'].values[0]\n",
    "        else:\n",
    "            opponent_team = fixtures_df.loc[(fixtures_df.away_team==team) & (fixtures_df.event==gameweek) & (fixtures_df.season==season), 'home_team'].values[0]\n",
    "        opponent_games = fixtures_melt[(fixtures_melt.value==opponent_team) & (fixtures_melt.event==gameweek) & (fixtures_melt.season==season) & (fixtures_melt.id==game_id)]\n",
    "        # add opponent data\n",
    "        opponent_data.append( opponent_games[col_names].values.flatten() )\n",
    "    else:\n",
    "        print(f'Check number of games for ix {ix}!')\n",
    "     \n",
    "\n",
    "new_col_names = ['team_'+col for col in col_names]\n",
    "team_data_df = pd.DataFrame(team_data, columns=new_col_names)\n",
    "new_oppo_col_names = ['opponent_'+col for col in col_names]\n",
    "opponent_data_df = pd.DataFrame(opponent_data, columns=new_oppo_col_names)\n",
    "\n",
    "fpl_df = fpl_df.join([team_data_df, opponent_data_df])\n",
    "\n",
    "display(fpl_df.head())\n",
    "display(fpl_df.tail())\n",
    "display(fpl_df.shape)\n",
    "print(f'Number of non-one-games: {count_non_one_games}')\n"
   ]
  },
  {
   "cell_type": "code",
   "execution_count": null,
   "metadata": {},
   "outputs": [],
   "source": [
    "fpl_df.isnull().sum() "
   ]
  },
  {
   "cell_type": "code",
   "execution_count": null,
   "metadata": {},
   "outputs": [],
   "source": [
    "# drop player data from gameweeks where they had more than one game and team xg data could not be correctly attributed\n",
    "fpl_df = fpl_df[fpl_df.opponent_xGA_ewm_5.notnull()].reset_index(drop=True)"
   ]
  },
  {
   "cell_type": "code",
   "execution_count": null,
   "metadata": {},
   "outputs": [],
   "source": [
    "fpl_df.isnull().sum() / fpl_df.shape[0]"
   ]
  },
  {
   "cell_type": "markdown",
   "metadata": {},
   "source": [
    "### FPL moving averages"
   ]
  },
  {
   "cell_type": "code",
   "execution_count": null,
   "metadata": {},
   "outputs": [],
   "source": [
    "# calculate gameweek stats by looking at differences in cumulative stats\n",
    "\n",
    "diff_columns = ['assists', 'bps', 'creativity', 'goals_scored', 'goals_conceded', 'saves', 'threat']\n",
    "\n",
    "for col in diff_columns:\n",
    "    fpl_df[f'gameweek_{col}'] = fpl_df.groupby(['web_name', 'season'])[col].diff().fillna(fpl_df[col])"
   ]
  },
  {
   "cell_type": "code",
   "execution_count": null,
   "metadata": {},
   "outputs": [],
   "source": [
    "# sanity check\n",
    "fpl_df.loc[fpl_df.web_name=='Aubameyang', ['goals_scored', 'gameweek_goals_scored']]"
   ]
  },
  {
   "cell_type": "code",
   "execution_count": null,
   "metadata": {},
   "outputs": [],
   "source": [
    "# calculate moving averages based on gameweek stats\n",
    "\n",
    "ewm_columns = ['gameweek_assists', 'gameweek_bps', 'gameweek_creativity', 'event_points', 'gameweek_goals_scored', 'gameweek_goals_conceded', 'gameweek_saves', \n",
    "               'gameweek_threat', 'gameweek_xG', 'gameweek_xA', 'gameweek_xGA', 'gameweek_minutes']\n",
    "\n",
    "for i in rolling_windows:\n",
    "    new_columns = [col+f'_ewm_{i}' for col in ewm_columns]\n",
    "    fpl_df[new_columns] = fpl_df.groupby('web_name')[ewm_columns].ewm(alpha=1/i).mean().reset_index().sort_values(by='level_1')[ewm_columns].values\n",
    "\n",
    "display(fpl_df.head())\n",
    "display(fpl_df.shape)"
   ]
  },
  {
   "cell_type": "code",
   "execution_count": null,
   "metadata": {},
   "outputs": [],
   "source": [
    "# sanity check\n",
    "fpl_df.loc[fpl_df.web_name=='Aubameyang', ['gameweek_goals_scored', 'gameweek_goals_scored_ewm_5', 'gameweek_goals_scored_ewm_10', \n",
    "                                           'gameweek_goals_scored_ewm_20', 'gameweek_goals_scored_ewm_40']]"
   ]
  },
  {
   "cell_type": "code",
   "execution_count": null,
   "metadata": {},
   "outputs": [],
   "source": [
    "filepath = Path('../../data/modelling/fpl_df.csv')\n",
    "fpl_df.to_csv(filepath)"
   ]
  },
  {
   "cell_type": "markdown",
   "metadata": {},
   "source": [
    "### "
   ]
  }
 ],
 "metadata": {
  "kernelspec": {
   "display_name": "venv23-24",
   "language": "python",
   "name": "python3"
  },
  "language_info": {
   "codemirror_mode": {
    "name": "ipython",
    "version": 3
   },
   "file_extension": ".py",
   "mimetype": "text/x-python",
   "name": "python",
   "nbconvert_exporter": "python",
   "pygments_lexer": "ipython3",
   "version": "3.10.6"
  },
  "orig_nbformat": 4
 },
 "nbformat": 4,
 "nbformat_minor": 2
}
