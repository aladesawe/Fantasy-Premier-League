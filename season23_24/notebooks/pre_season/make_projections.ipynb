{
 "cells": [
  {
   "cell_type": "code",
   "execution_count": null,
   "metadata": {},
   "outputs": [],
   "source": [
    "import pandas as pd\n",
    "import numpy as np\n",
    "\n",
    "import json\n",
    "import requests\n",
    "from pathlib import Path\n",
    "\n",
    "import catboost\n",
    "\n",
    "pd.set_option('display.max_columns', 100)\n",
    "pd.set_option('display.max_rows', 100)"
   ]
  },
  {
   "cell_type": "code",
   "execution_count": null,
   "metadata": {},
   "outputs": [],
   "source": [
    "# offline FPL data from previous seasons\n",
    "filepath = Path('../../data/modeling/fpl_df.csv')\n",
    "fpl_offline_df = pd.read_csv(filepath, index_col=0)\n",
    "display(fpl_offline_df.head())\n",
    "display(fpl_offline_df.shape)"
   ]
  },
  {
   "cell_type": "code",
   "execution_count": null,
   "metadata": {},
   "outputs": [],
   "source": [
    "teams = ['Arsenal', 'Aston Villa', 'Bournemouth', 'Brentford', 'Brighton',\n",
    "         'Burnley', 'Chelsea', 'Crystal Palace', 'Everton', 'Fulham',\n",
    "         'Liverpool', 'Luton', 'Manchester City', 'Manchester Utd',\n",
    "         'Newcastle Utd', 'Nottingham Forest', 'Sheffield Utd', 'Tottenham',\n",
    "         'West Ham', 'Wolves']"
   ]
  },
  {
   "cell_type": "code",
   "execution_count": null,
   "metadata": {},
   "outputs": [],
   "source": [
    "# fetch FPL data online\n",
    "fpl_online_data = json.loads(requests.get('https://fantasy.premierleague.com/api/bootstrap-static/').text)\n",
    "fpl_online_df = pd.DataFrame(fpl_online_data['elements'])\n",
    "fpl_online_df['team_name'] = [teams[i] for i in fpl_online_df['team']-1]\n",
    "fpl_online_df"
   ]
  },
  {
   "cell_type": "code",
   "execution_count": null,
   "metadata": {},
   "outputs": [],
   "source": [
    "# get FPL fixtures data\n",
    "fpl_fixtures_data = json.loads(requests.get('https://fantasy.premierleague.com/api/fixtures/').text)\n",
    "fpl_fixtures = pd.DataFrame(fpl_fixtures_data)\n",
    "fpl_fixtures['home_team'] = [teams[i] for i in fpl_fixtures['team_h']-1]\n",
    "fpl_fixtures['away_team'] = [teams[i] for i in fpl_fixtures['team_a']-1]\n",
    "fpl_fixtures"
   ]
  },
  {
   "cell_type": "code",
   "execution_count": null,
   "metadata": {},
   "outputs": [],
   "source": [
    "features_no_shift = ['element_type', 'home']\n",
    "\n",
    "features_shift = ['corners_and_indirect_freekicks_order', 'creativity_rank', \n",
    "       'direct_freekicks_order', 'ict_index_rank', 'influence_rank',\n",
    "       'minutes', 'now_cost', 'penalties_order', 'points_per_game', \n",
    "       'selected_by_percent', 'threat_rank',\n",
    "       'team_xG_ewm_5', 'team_xG_ewm_10', 'team_xG_ewm_20',\n",
    "       'team_xG_ewm_40', 'team_xGA_ewm_5', 'team_xGA_ewm_10',\n",
    "       'team_xGA_ewm_20', 'team_xGA_ewm_40', \n",
    "       'opponent_xG_ewm_5', 'opponent_xG_ewm_10',\n",
    "       'opponent_xG_ewm_20', 'opponent_xG_ewm_40', 'opponent_xGA_ewm_5',\n",
    "       'opponent_xGA_ewm_10', 'opponent_xGA_ewm_20',\n",
    "       'opponent_xGA_ewm_40', \n",
    "       'gameweek_assists_ewm_5', 'gameweek_bps_ewm_5',\n",
    "       'gameweek_creativity_ewm_5', 'event_points_ewm_5',\n",
    "       'gameweek_goals_scored_ewm_5', 'gameweek_goals_conceded_ewm_5',\n",
    "       'gameweek_saves_ewm_5', 'gameweek_threat_ewm_5',\n",
    "       'gameweek_xG_ewm_5', 'gameweek_xA_ewm_5', 'gameweek_xGA_ewm_5',\n",
    "       'gameweek_minutes_ewm_5', 'gameweek_xPoints_ewm_5',\n",
    "       'gameweek_assists_ewm_10', 'gameweek_bps_ewm_10',\n",
    "       'gameweek_creativity_ewm_10', 'event_points_ewm_10',\n",
    "       'gameweek_goals_scored_ewm_10', 'gameweek_goals_conceded_ewm_10',\n",
    "       'gameweek_saves_ewm_10', 'gameweek_threat_ewm_10',\n",
    "       'gameweek_xG_ewm_10', 'gameweek_xA_ewm_10', 'gameweek_xGA_ewm_10',\n",
    "       'gameweek_minutes_ewm_10', 'gameweek_xPoints_ewm_10',\n",
    "       'gameweek_assists_ewm_20', 'gameweek_bps_ewm_20',\n",
    "       'gameweek_creativity_ewm_20', 'event_points_ewm_20',\n",
    "       'gameweek_goals_scored_ewm_20', 'gameweek_goals_conceded_ewm_20',\n",
    "       'gameweek_saves_ewm_20', 'gameweek_threat_ewm_20',\n",
    "       'gameweek_xG_ewm_20', 'gameweek_xA_ewm_20', 'gameweek_xGA_ewm_20',\n",
    "       'gameweek_minutes_ewm_20', 'gameweek_xPoints_ewm_20',\n",
    "       'gameweek_assists_ewm_40', 'gameweek_bps_ewm_40',\n",
    "       'gameweek_creativity_ewm_40', 'event_points_ewm_40',\n",
    "       'gameweek_goals_scored_ewm_40', 'gameweek_goals_conceded_ewm_40',\n",
    "       'gameweek_saves_ewm_40', 'gameweek_threat_ewm_40',\n",
    "       'gameweek_xG_ewm_40', 'gameweek_xA_ewm_40', 'gameweek_xGA_ewm_40',\n",
    "       'gameweek_minutes_ewm_40', 'gameweek_xPoints_ewm_40',\n",
    "       'gameweek_assists_expanding', 'gameweek_bps_expanding',\n",
    "       'gameweek_creativity_expanding', 'event_points_expanding',\n",
    "       'gameweek_goals_scored_expanding',\n",
    "       'gameweek_goals_conceded_expanding', 'gameweek_saves_expanding',\n",
    "       'gameweek_threat_expanding', 'gameweek_xG_expanding',\n",
    "       'gameweek_xA_expanding', 'gameweek_xGA_expanding',\n",
    "       'gameweek_minutes_expanding', 'gameweek_xPoints_expanding',\n",
    "       'gameweek_assists_expanding_per90', 'gameweek_bps_expanding_per90',\n",
    "       'gameweek_creativity_expanding_per90',\n",
    "       'event_points_expanding_per90',\n",
    "       'gameweek_goals_scored_expanding_per90',\n",
    "       'gameweek_goals_conceded_expanding_per90',\n",
    "       'gameweek_saves_expanding_per90',\n",
    "       'gameweek_threat_expanding_per90', 'gameweek_xG_expanding_per90',\n",
    "       'gameweek_xA_expanding_per90', 'gameweek_xGA_expanding_per90',\n",
    "       'gameweek_xPoints_expanding_per90', 'xG_overperformance'\n",
    "    ]\n",
    "\n",
    "features = features_no_shift + features_shift"
   ]
  },
  {
   "cell_type": "code",
   "execution_count": null,
   "metadata": {},
   "outputs": [],
   "source": [
    "# list of players who appear both on old and new data\n",
    "#player_list_online = fpl_online_df['web_name'].unique()\n",
    "#player_list_offline = fpl_offline_df['web_name'].unique()\n",
    "#player_list = list((set(player_list_online).intersection(set(player_list_offline))))\n",
    "#len(player_list)"
   ]
  },
  {
   "cell_type": "code",
   "execution_count": null,
   "metadata": {},
   "outputs": [],
   "source": [
    "df = fpl_online_df.copy()\n",
    "display(df.head())\n",
    "display(df.shape)"
   ]
  },
  {
   "cell_type": "code",
   "execution_count": null,
   "metadata": {},
   "outputs": [],
   "source": [
    "# get necessary features not in df yet\n",
    "extra_features = list(set(features).difference(set(df.columns)))\n",
    "extra_data = fpl_offline_df.groupby('web_name').last()[extra_features]\n",
    "df = df.join(extra_data, on='web_name', how='left')\n",
    "display(df.head())\n",
    "display(df.shape)\n",
    "\n",
    "# get necessary features not in df yet\n",
    "#extra_features = list(set(features).difference(set(df.columns)))\n",
    "#extra_data = fpl_offline_df[fpl_offline_df.web_name.isin(player_list)].groupby('web_name').last()[extra_features]\n",
    "#df = df.join(extra_data, on='web_name')\n",
    "#display(df.head())\n",
    "#display(df.shape)"
   ]
  },
  {
   "cell_type": "code",
   "execution_count": null,
   "metadata": {},
   "outputs": [],
   "source": [
    "path = Path('../../data/modeling/team_data.csv')\n",
    "team_data = pd.read_csv(path, index_col=0)\n",
    "# get latest moving average info for each team\n",
    "team_data = team_data.groupby('value').last()\n",
    "ewm_cols = [col for col in team_data.columns if 'ewm' in col]\n",
    "team_data = team_data[ewm_cols]\n",
    "# change col names to have 'opponent' in front\n",
    "new_cols = ['opponent_' + col for col in ewm_cols]\n",
    "team_data.columns = new_cols\n",
    "team_data = team_data.reset_index()\n",
    "# add data for luton\n",
    "new_row = pd.DataFrame(np.array(['Luton', 0.8, 2.3, 0.8, 2.3, 0.8, 2.3, 0.8, 2.3]).reshape(1,9), columns=team_data.columns)\n",
    "team_data = pd.concat([team_data, new_row], ignore_index=True)\n",
    "display(team_data)\n"
   ]
  },
  {
   "cell_type": "code",
   "execution_count": null,
   "metadata": {},
   "outputs": [],
   "source": [
    "# get prediction data by adding rows for each future game for each player and getting the right opponent data\n",
    "prediction_data = []\n",
    "first_gameweek = 1\n",
    "last_gameweek = 10\n",
    "for ix, row in df.iterrows():\n",
    "    my_team = row['team_name']\n",
    "    for gameweek in range(first_gameweek,last_gameweek+1):\n",
    "        \n",
    "        opponent_data = []\n",
    "        opponent_names = []\n",
    "        home_game = []\n",
    "        date_data = []\n",
    "\n",
    "        # home games\n",
    "        home_games = fpl_fixtures[(fpl_fixtures.event==gameweek) & (fpl_fixtures.home_team==my_team)]\n",
    "        for ix2, row2 in home_games.iterrows():\n",
    "            opponent_name = row2['away_team']\n",
    "            # get opponents xg data            \n",
    "            opponent_data.append( team_data.loc[team_data.value==opponent_name, new_cols] )\n",
    "            # record opponent name\n",
    "            opponent_names.append( opponent_name )\n",
    "            # record whether home game\n",
    "            home_game.append( 1 )\n",
    "            # record date of game\n",
    "            date_data.append( row2['kickoff_time'] )\n",
    "        \n",
    "        # away games\n",
    "        away_games = fpl_fixtures[(fpl_fixtures.event==gameweek) & (fpl_fixtures.away_team==my_team)]\n",
    "        for ix2, row2 in away_games.iterrows():\n",
    "            opponent_name = row2['home_team']\n",
    "            opponent_data.append( team_data.loc[team_data.value==opponent_name, new_cols] )            \n",
    "            opponent_names.append( opponent_name )\n",
    "            home_game.append( 0 )\n",
    "            date_data.append( row2['kickoff_time'] )\n",
    "\n",
    "        # create duplicate rows of the target player for each game and replace opponent data with correct info\n",
    "        copy_of_row = row.copy()\n",
    "        for i in range(0,len(opponent_data)):\n",
    "            copy_of_row[new_cols] = opponent_data[i].squeeze()\n",
    "            copy_of_row['opponent_team'] = opponent_names[i]\n",
    "            copy_of_row['home'] = home_game[i]\n",
    "            copy_of_row['date'] = date_data[i]\n",
    "            prediction_data.append( copy_of_row )\n",
    "\n",
    "prediction_df = pd.DataFrame(prediction_data).reset_index(drop=True)\n",
    "display(prediction_df.head())\n",
    "display(prediction_df.shape)"
   ]
  },
  {
   "cell_type": "code",
   "execution_count": null,
   "metadata": {},
   "outputs": [],
   "source": [
    "# load prediction model\n",
    "model = catboost.CatBoostRegressor()\n",
    "path = Path('../../models/catboost_20230809-201635.cbm')\n",
    "model.load_model(path)"
   ]
  },
  {
   "cell_type": "code",
   "execution_count": null,
   "metadata": {},
   "outputs": [],
   "source": [
    "# make projections\n",
    "X = prediction_df[features]\n",
    "prediction_df['expected_points'] = model.predict(X)"
   ]
  },
  {
   "cell_type": "code",
   "execution_count": null,
   "metadata": {},
   "outputs": [],
   "source": [
    "prediction_df.loc[prediction_df.web_name=='Rashford', ['web_name', 'team_name', 'opponent_team', 'home', 'date', 'expected_points']]"
   ]
  },
  {
   "cell_type": "code",
   "execution_count": null,
   "metadata": {},
   "outputs": [],
   "source": [
    "path = Path('../../data/predictions/gameweek0.csv')\n",
    "prediction_df.to_csv(path)"
   ]
  },
  {
   "cell_type": "code",
   "execution_count": null,
   "metadata": {},
   "outputs": [],
   "source": []
  }
 ],
 "metadata": {
  "kernelspec": {
   "display_name": "venv23-24",
   "language": "python",
   "name": "python3"
  },
  "language_info": {
   "codemirror_mode": {
    "name": "ipython",
    "version": 3
   },
   "file_extension": ".py",
   "mimetype": "text/x-python",
   "name": "python",
   "nbconvert_exporter": "python",
   "pygments_lexer": "ipython3",
   "version": "3.10.6"
  },
  "orig_nbformat": 4
 },
 "nbformat": 4,
 "nbformat_minor": 2
}
