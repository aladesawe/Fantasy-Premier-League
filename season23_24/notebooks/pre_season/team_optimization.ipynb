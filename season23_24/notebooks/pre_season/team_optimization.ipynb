{
 "cells": [
  {
   "cell_type": "code",
   "execution_count": null,
   "metadata": {},
   "outputs": [],
   "source": [
    "import pandas as pd\n",
    "import numpy as np\n",
    "from pathlib import Path\n",
    "from pulp import LpMaximize, LpProblem, LpStatus, lpSum, LpVariable"
   ]
  },
  {
   "cell_type": "markdown",
   "metadata": {},
   "source": [
    "# Solver"
   ]
  },
  {
   "cell_type": "code",
   "execution_count": null,
   "metadata": {},
   "outputs": [],
   "source": [
    "# function to solve the optimization problem\n",
    "def optimize(df, max_price, expected_column):\n",
    "    \n",
    "    # PRELIMINARIES\n",
    "\n",
    "    # Create the model\n",
    "    model = LpProblem(name=\"FPL\", sense=LpMaximize)    \n",
    "    variables = [LpVariable(name=f'{ix}', cat='Binary') for ix in df.index]\n",
    "    captaincy_variables = [LpVariable(name=f'cap_{ix}', cat='Binary') for ix in df.index]\n",
    "    prices = [df.loc[ix,'price'] for ix in df.index]\n",
    "    # measure of player quality\n",
    "    expected_points = [df.loc[ix,expected_column] for ix in df.index]\n",
    "    goalkeepers = [1.0 if df.loc[ix,'position']=='GK' else 0.0 for ix in df.index]\n",
    "    defenders = [1.0 if df.loc[ix,'position']=='DEF' else 0.0 for ix in df.index]\n",
    "    midfielders = [1.0 if df.loc[ix,'position']=='MID' else 0.0 for ix in df.index]\n",
    "    forwards = [1.0 if df.loc[ix,'position']=='FWD' else 0.0 for ix in df.index]\n",
    "    teams = []\n",
    "    for team in df['team'].unique():\n",
    "        teams.append( [1.0 if df.loc[ix,'team']==team else 0.0 for ix in df.index] )\n",
    "\n",
    "    # CONSTRAINTS\n",
    "\n",
    "    # select 11 players\n",
    "    model += lpSum(variables) == 11\n",
    "    # select 1 captain\n",
    "    model += lpSum(captaincy_variables) == 1\n",
    "    # captain must be one of the 11 players in the team\n",
    "    for i in range(0,len(variables)):\n",
    "        model += captaincy_variables[i] <= variables[i]\n",
    "    # set maximum price for starting 11\n",
    "    model += np.dot(prices,variables) <= max_price\n",
    "    # only 1 goalkeeper\n",
    "    model += np.dot(goalkeepers,variables) == 1\n",
    "    # at least 3 defenders\n",
    "    model += np.dot(defenders,variables) >= 3\n",
    "    # at most 5 defenders\n",
    "    model += np.dot(defenders,variables) <= 5\n",
    "    # at most 5 midfielders\n",
    "    model += np.dot(midfielders,variables) <= 5\n",
    "    # at least 1 forward\n",
    "    model += np.dot(forwards,variables) >= 1\n",
    "    # at most 3 forwards\n",
    "    model += np.dot(forwards,variables) <= 3\n",
    "    # max 3 players from any given team\n",
    "    for team in teams:\n",
    "        model += np.dot(team,variables) <= 3\n",
    "\n",
    "    # OBJECTIVE\n",
    "    # the second part doubles the captain's points\n",
    "    model += np.dot(expected_points,variables) + np.dot(expected_points,captaincy_variables)\n",
    "\n",
    "    # SOLVE OPTIMIZATION\n",
    "\n",
    "    status = model.solve()\n",
    "    print(f'Status: {LpStatus[model.status]}')\n",
    "    #print(f'Mean total points per gameweek: {model.objective.value()}')\n",
    "\n",
    "    players = [str(var) for var in model.variables() if var.value()==1]\n",
    "    captain = [player for player in players if 'cap' in player]\n",
    "    captain = int(captain[0].replace('cap_', ''))\n",
    "    players = [int(player) for player in players if 'cap' not in player]\n",
    "    dream_team = df.loc[players]\n",
    "    cost = (dream_team['price']).sum()\n",
    "    exp_points = dream_team[expected_column].sum() + df.loc[captain, expected_column]\n",
    "    print(f'Cost: {cost}')\n",
    "    print(f'Expected points per week: {exp_points}')\n",
    "    \n",
    "    display(dream_team[['position','web_name', 'team', 'price', expected_column]].sort_values('position'))\n",
    "    \n",
    "    return players"
   ]
  },
  {
   "cell_type": "markdown",
   "metadata": {},
   "source": [
    "# Data"
   ]
  },
  {
   "cell_type": "code",
   "execution_count": null,
   "metadata": {},
   "outputs": [],
   "source": [
    "path = Path('../../data/predictions/gameweek0.csv')\n",
    "projections = pd.read_csv(path, index_col=0)\n",
    "#projections = projections.rename(columns={'xP':'projected_points'})\n",
    "projections.head(5)"
   ]
  },
  {
   "cell_type": "code",
   "execution_count": null,
   "metadata": {},
   "outputs": [],
   "source": [
    "# decay for future projected points to model uncertainty increasing over time\n",
    "decay_coeff = 0.875\n",
    "projections['expected_points_with_decay'] = ( projections['expected_points']*decay_coeff\n",
    "                                              **(projections['gameweek']-1) )\n",
    "projections.head(5)"
   ]
  },
  {
   "cell_type": "code",
   "execution_count": null,
   "metadata": {},
   "outputs": [],
   "source": [
    "my_gameweeks = np.arange(1,11,1)\n",
    "df = projections[projections['gameweek'].isin(my_gameweeks)].groupby(by=['web_name']).sum()\\\n",
    "                                                        [['expected_points','expected_points_with_decay']]\n",
    "df['number_of_games'] = projections[projections['gameweek'].isin(my_gameweeks)].groupby('web_name').count()['element_type']\n",
    "df = df.reset_index()\n",
    "df"
   ]
  },
  {
   "cell_type": "code",
   "execution_count": null,
   "metadata": {},
   "outputs": [],
   "source": [
    "df['position'] = [projections.loc[projections['web_name']==name, 'element_type'].values[0] for name in df['web_name']]\n",
    "position_dict={1:'GK', 2:'DEF', 3:'MID', 4:'FWD'}\n",
    "df['position'] = df['position'].map(position_dict)\n",
    "df['position'] = pd.Categorical(df['position'], ['GK','DEF','MID','FWD'])\n",
    "df"
   ]
  },
  {
   "cell_type": "code",
   "execution_count": null,
   "metadata": {},
   "outputs": [],
   "source": [
    "df['price'] = [projections.loc[projections['web_name']==name, 'now_cost'].values[0] for name in df['web_name']]\n",
    "df['price'] = df['price'] / 10.0\n",
    "df"
   ]
  },
  {
   "cell_type": "code",
   "execution_count": null,
   "metadata": {},
   "outputs": [],
   "source": [
    "df['team'] = [projections.loc[projections['web_name']==name, 'team_name'].values[0] for name in df['web_name']]\n",
    "df"
   ]
  },
  {
   "cell_type": "code",
   "execution_count": null,
   "metadata": {},
   "outputs": [],
   "source": [
    "# drop duplicated players\n",
    "df = df[df.number_of_games<=10]"
   ]
  },
  {
   "cell_type": "markdown",
   "metadata": {},
   "source": [
    "# Optimization"
   ]
  },
  {
   "cell_type": "code",
   "execution_count": null,
   "metadata": {},
   "outputs": [],
   "source": [
    "team_value = 100\n",
    "money_in_the_bank = 0\n",
    "allowed_bench_value = 17.5\n",
    "max_price = team_value + money_in_the_bank - allowed_bench_value"
   ]
  },
  {
   "cell_type": "code",
   "execution_count": null,
   "metadata": {},
   "outputs": [],
   "source": [
    "ban = []\n",
    "\n",
    "# ban some cheap keepers in good teams who don't actually play\n",
    "cheap_keepers = []\n",
    "cheap_keepers_ix = df[df['web_name'].isin(cheap_keepers)].index\n",
    "ban = ban + list(cheap_keepers_ix)\n",
    "\n",
    "# ban given outfield players\n",
    "ban_field = ['Cancelo', 'Chalobah', 'Kane']\n",
    "ban_field_ix = df[df['web_name'].isin(ban_field)].index\n",
    "ban = ban + list(ban_field_ix)\n",
    "\n",
    "my_df = df.drop(ban).copy()"
   ]
  },
  {
   "cell_type": "code",
   "execution_count": null,
   "metadata": {},
   "outputs": [],
   "source": [
    "players = optimize(my_df, max_price, 'expected_points_with_decay')"
   ]
  },
  {
   "cell_type": "code",
   "execution_count": null,
   "metadata": {},
   "outputs": [],
   "source": []
  }
 ],
 "metadata": {
  "kernelspec": {
   "display_name": "venv23-24",
   "language": "python",
   "name": "python3"
  },
  "language_info": {
   "codemirror_mode": {
    "name": "ipython",
    "version": 3
   },
   "file_extension": ".py",
   "mimetype": "text/x-python",
   "name": "python",
   "nbconvert_exporter": "python",
   "pygments_lexer": "ipython3",
   "version": "3.10.6"
  },
  "orig_nbformat": 4
 },
 "nbformat": 4,
 "nbformat_minor": 2
}
