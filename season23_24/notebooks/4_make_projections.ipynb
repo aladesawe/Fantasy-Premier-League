{
 "cells": [
  {
   "cell_type": "code",
   "execution_count": null,
   "metadata": {},
   "outputs": [],
   "source": [
    "latest_gameweek = 5"
   ]
  },
  {
   "cell_type": "code",
   "execution_count": null,
   "metadata": {},
   "outputs": [],
   "source": [
    "import pandas as pd\n",
    "import numpy as np\n",
    "\n",
    "import json\n",
    "import requests\n",
    "from pathlib import Path\n",
    "from src.utils import fetch_latest_fpl_data\n",
    "\n",
    "import catboost\n",
    "\n",
    "pd.set_option('display.max_columns', 100)\n",
    "pd.set_option('display.max_rows', 100)"
   ]
  },
  {
   "cell_type": "code",
   "execution_count": null,
   "metadata": {},
   "outputs": [],
   "source": [
    "# fpl data\n",
    "filepath = Path('../data/fpl_df.csv')\n",
    "fpl_df = pd.read_csv(filepath, index_col=0, low_memory=False)\n",
    "display(fpl_df.head())\n",
    "display(fpl_df.shape)"
   ]
  },
  {
   "cell_type": "code",
   "execution_count": null,
   "metadata": {},
   "outputs": [],
   "source": [
    "# fpl fixtures\n",
    "filepath = Path('../data/fixtures/fpl_fixtures.csv')\n",
    "fixtures_fpl = pd.read_csv(filepath, index_col=0)\n",
    "display(fixtures_fpl.head())\n",
    "display(fixtures_fpl.shape)"
   ]
  },
  {
   "cell_type": "code",
   "execution_count": null,
   "metadata": {},
   "outputs": [],
   "source": [
    "features_no_shift = ['element_type', 'home']\n",
    "\n",
    "features_shift = ['corners_and_indirect_freekicks_order', 'creativity_rank', \n",
    "       'direct_freekicks_order', 'ict_index_rank', 'influence_rank',\n",
    "       'minutes', 'now_cost', 'penalties_order', 'points_per_game', \n",
    "       'selected_by_percent', 'threat_rank',\n",
    "       'team_xG_ewm_5', 'team_xG_ewm_10', 'team_xG_ewm_20',\n",
    "       'team_xG_ewm_40', 'team_xGA_ewm_5', 'team_xGA_ewm_10',\n",
    "       'team_xGA_ewm_20', 'team_xGA_ewm_40', \n",
    "       'opponent_xG_ewm_5', 'opponent_xG_ewm_10',\n",
    "       'opponent_xG_ewm_20', 'opponent_xG_ewm_40', 'opponent_xGA_ewm_5',\n",
    "       'opponent_xGA_ewm_10', 'opponent_xGA_ewm_20',\n",
    "       'opponent_xGA_ewm_40', \n",
    "       'gameweek_assists_ewm_5', 'gameweek_bps_ewm_5',\n",
    "       'gameweek_creativity_ewm_5', 'event_points_ewm_5',\n",
    "       'gameweek_goals_scored_ewm_5', 'gameweek_goals_conceded_ewm_5',\n",
    "       'gameweek_saves_ewm_5', 'gameweek_threat_ewm_5',\n",
    "       'gameweek_xG_ewm_5', 'gameweek_xA_ewm_5', 'gameweek_xGA_ewm_5',\n",
    "       'gameweek_minutes_ewm_5', 'gameweek_xPoints_ewm_5',\n",
    "       'gameweek_assists_ewm_10', 'gameweek_bps_ewm_10',\n",
    "       'gameweek_creativity_ewm_10', 'event_points_ewm_10',\n",
    "       'gameweek_goals_scored_ewm_10', 'gameweek_goals_conceded_ewm_10',\n",
    "       'gameweek_saves_ewm_10', 'gameweek_threat_ewm_10',\n",
    "       'gameweek_xG_ewm_10', 'gameweek_xA_ewm_10', 'gameweek_xGA_ewm_10',\n",
    "       'gameweek_minutes_ewm_10', 'gameweek_xPoints_ewm_10',\n",
    "       'gameweek_assists_ewm_20', 'gameweek_bps_ewm_20',\n",
    "       'gameweek_creativity_ewm_20', 'event_points_ewm_20',\n",
    "       'gameweek_goals_scored_ewm_20', 'gameweek_goals_conceded_ewm_20',\n",
    "       'gameweek_saves_ewm_20', 'gameweek_threat_ewm_20',\n",
    "       'gameweek_xG_ewm_20', 'gameweek_xA_ewm_20', 'gameweek_xGA_ewm_20',\n",
    "       'gameweek_minutes_ewm_20', 'gameweek_xPoints_ewm_20',\n",
    "       'gameweek_assists_ewm_40', 'gameweek_bps_ewm_40',\n",
    "       'gameweek_creativity_ewm_40', 'event_points_ewm_40',\n",
    "       'gameweek_goals_scored_ewm_40', 'gameweek_goals_conceded_ewm_40',\n",
    "       'gameweek_saves_ewm_40', 'gameweek_threat_ewm_40',\n",
    "       'gameweek_xG_ewm_40', 'gameweek_xA_ewm_40', 'gameweek_xGA_ewm_40',\n",
    "       'gameweek_minutes_ewm_40', 'gameweek_xPoints_ewm_40',\n",
    "       'gameweek_assists_expanding', 'gameweek_bps_expanding',\n",
    "       'gameweek_creativity_expanding', 'event_points_expanding',\n",
    "       'gameweek_goals_scored_expanding',\n",
    "       'gameweek_goals_conceded_expanding', 'gameweek_saves_expanding',\n",
    "       'gameweek_threat_expanding', 'gameweek_xG_expanding',\n",
    "       'gameweek_xA_expanding', 'gameweek_xGA_expanding',\n",
    "       'gameweek_minutes_expanding', 'gameweek_xPoints_expanding',\n",
    "       'gameweek_assists_expanding_per90', 'gameweek_bps_expanding_per90',\n",
    "       'gameweek_creativity_expanding_per90',\n",
    "       'event_points_expanding_per90',\n",
    "       'gameweek_goals_scored_expanding_per90',\n",
    "       'gameweek_goals_conceded_expanding_per90',\n",
    "       'gameweek_saves_expanding_per90',\n",
    "       'gameweek_threat_expanding_per90', 'gameweek_xG_expanding_per90',\n",
    "       'gameweek_xA_expanding_per90', 'gameweek_xGA_expanding_per90',\n",
    "       'gameweek_xPoints_expanding_per90', 'xG_overperformance'\n",
    "    ]\n",
    "\n",
    "features = features_no_shift + features_shift"
   ]
  },
  {
   "cell_type": "code",
   "execution_count": null,
   "metadata": {},
   "outputs": [],
   "source": [
    "df = fpl_df.loc[fpl_df.season=='23-24'].groupby(['name'])[features + ['team_name']].last().reset_index()\n",
    "display(df)"
   ]
  },
  {
   "cell_type": "code",
   "execution_count": null,
   "metadata": {},
   "outputs": [],
   "source": [
    "path = Path('../data/team_data.csv')\n",
    "team_data = pd.read_csv(path, index_col=0)\n",
    "# get latest moving average info for each team\n",
    "team_data = team_data.groupby('value').last()\n",
    "ewm_cols = [col for col in team_data.columns if 'ewm' in col]\n",
    "team_data = team_data[ewm_cols]\n",
    "# change col names to have 'opponent' in front\n",
    "new_cols = ['opponent_' + col for col in ewm_cols]\n",
    "team_data.columns = new_cols\n",
    "team_data = team_data.reset_index()\n",
    "display(team_data)"
   ]
  },
  {
   "cell_type": "code",
   "execution_count": null,
   "metadata": {},
   "outputs": [],
   "source": [
    "# get prediction data by adding rows for each future game for each player and getting the right opponent data\n",
    "prediction_data = []\n",
    "first_gameweek = latest_gameweek + 1\n",
    "last_gameweek = np.min((latest_gameweek + 10, 38))\n",
    "for ix, row in df.iterrows():\n",
    "    my_team = row['team_name']\n",
    "    for gameweek in range(first_gameweek,last_gameweek+1):\n",
    "        \n",
    "        opponent_data = []\n",
    "        opponent_names = []\n",
    "        home_game = []\n",
    "        date_data = []\n",
    "        gameweek_data = []\n",
    "\n",
    "        # home games\n",
    "        home_games = fixtures_fpl[(fixtures_fpl.event==gameweek) & (fixtures_fpl.home_team==my_team)]\n",
    "        for ix2, row2 in home_games.iterrows():\n",
    "            opponent_name = row2['away_team']\n",
    "            # get opponents xg data            \n",
    "            opponent_data.append( team_data.loc[team_data.value==opponent_name, new_cols] )\n",
    "            # record opponent name\n",
    "            opponent_names.append( opponent_name )\n",
    "            # record whether home game\n",
    "            home_game.append( 1 )\n",
    "            # record date of game\n",
    "            date_data.append( row2['kickoff_time'] )\n",
    "            # record gameweek\n",
    "            gameweek_data.append( gameweek )\n",
    "        \n",
    "        # away games\n",
    "        away_games = fixtures_fpl[(fixtures_fpl.event==gameweek) & (fixtures_fpl.away_team==my_team)]\n",
    "        for ix2, row2 in away_games.iterrows():\n",
    "            opponent_name = row2['home_team']\n",
    "            opponent_data.append( team_data.loc[team_data.value==opponent_name, new_cols] )            \n",
    "            opponent_names.append( opponent_name )\n",
    "            home_game.append( 0 )\n",
    "            date_data.append( row2['kickoff_time'] )\n",
    "            gameweek_data.append( gameweek )\n",
    "\n",
    "        # create duplicate rows of the target player for each game and replace opponent data with correct info\n",
    "        for i in range(0,len(opponent_data)):\n",
    "            copy_of_row = row.copy()\n",
    "            copy_of_row[new_cols] = opponent_data[i].squeeze()\n",
    "            copy_of_row['opponent_team'] = opponent_names[i]\n",
    "            copy_of_row['home'] = home_game[i]\n",
    "            copy_of_row['date'] = date_data[i]\n",
    "            copy_of_row['gameweek'] = gameweek_data[i]\n",
    "            prediction_data.append( copy_of_row )\n",
    "\n",
    "prediction_df = pd.DataFrame(prediction_data).reset_index(drop=True)\n",
    "display(prediction_df.head())\n",
    "display(prediction_df.shape)"
   ]
  },
  {
   "cell_type": "code",
   "execution_count": null,
   "metadata": {},
   "outputs": [],
   "source": [
    "# load prediction model\n",
    "model = catboost.CatBoostRegressor()\n",
    "path = Path('../models/catboost_20230809-201635.cbm')\n",
    "model.load_model(path)"
   ]
  },
  {
   "cell_type": "code",
   "execution_count": null,
   "metadata": {},
   "outputs": [],
   "source": [
    "# make projections\n",
    "X = prediction_df[features]\n",
    "prediction_df['expected_points'] = model.predict(X)"
   ]
  },
  {
   "cell_type": "code",
   "execution_count": null,
   "metadata": {},
   "outputs": [],
   "source": [
    "prediction_df.loc[prediction_df.name.str.contains('Haaland'), ['name', 'team_name', 'opponent_team', 'home', 'date', 'expected_points']]"
   ]
  },
  {
   "cell_type": "code",
   "execution_count": null,
   "metadata": {},
   "outputs": [],
   "source": [
    "path = Path(f'../data/predictions/gameweek{latest_gameweek}.csv')\n",
    "prediction_df.to_csv(path)"
   ]
  },
  {
   "cell_type": "code",
   "execution_count": null,
   "metadata": {},
   "outputs": [],
   "source": []
  }
 ],
 "metadata": {
  "kernelspec": {
   "display_name": "venv23-24",
   "language": "python",
   "name": "python3"
  },
  "language_info": {
   "codemirror_mode": {
    "name": "ipython",
    "version": 3
   },
   "file_extension": ".py",
   "mimetype": "text/x-python",
   "name": "python",
   "nbconvert_exporter": "python",
   "pygments_lexer": "ipython3",
   "version": "3.10.13"
  },
  "orig_nbformat": 4
 },
 "nbformat": 4,
 "nbformat_minor": 2
}
