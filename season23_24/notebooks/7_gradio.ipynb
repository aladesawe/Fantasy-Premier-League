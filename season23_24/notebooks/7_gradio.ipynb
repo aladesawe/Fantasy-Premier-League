{
 "cells": [
  {
   "cell_type": "code",
   "execution_count": null,
   "metadata": {},
   "outputs": [],
   "source": [
    "latest_gameweek = 20"
   ]
  },
  {
   "cell_type": "code",
   "execution_count": null,
   "metadata": {},
   "outputs": [],
   "source": [
    "import pandas as pd\n",
    "import numpy as np\n",
    "from pathlib import Path\n",
    "\n",
    "import gradio as gr\n",
    "import plotly.graph_objects as go"
   ]
  },
  {
   "cell_type": "markdown",
   "metadata": {},
   "source": [
    "# Data"
   ]
  },
  {
   "cell_type": "code",
   "execution_count": null,
   "metadata": {},
   "outputs": [],
   "source": [
    "filepath = Path(f'../data/predictions/gameweek{latest_gameweek}.csv')\n",
    "projections = pd.read_csv(filepath, index_col=0)\n",
    "display(projections.head())\n",
    "display(projections.shape)"
   ]
  },
  {
   "cell_type": "code",
   "execution_count": null,
   "metadata": {},
   "outputs": [],
   "source": [
    "filepath = Path('../data/fpl_df.csv')\n",
    "fpl_df = pd.read_csv(filepath, index_col=0, low_memory=False)\n",
    "fpl_df = fpl_df[fpl_df.season=='23-24']\n",
    "display(fpl_df.head())\n",
    "display(fpl_df.shape)"
   ]
  },
  {
   "cell_type": "code",
   "execution_count": null,
   "metadata": {},
   "outputs": [],
   "source": [
    "df = fpl_df.groupby('name').last().reset_index()[['name', 'team_name', 'element_type', 'now_cost', \n",
    "                            'gameweek_minutes_ewm_20', 'points_per_game', 'total_points', \n",
    "                            'gameweek_xPoints_ewm_5', 'gameweek_xPoints_ewm_10', 'gameweek_xPoints_ewm_20', 'gameweek_xPoints_ewm_40']]\n",
    "df['games_played'] = np.round(np.where(df['points_per_game']!=0, df['total_points'] / df['points_per_game'], 0),0)\n",
    "df['price'] = df['now_cost'] / 10.0\n",
    "df['value'] = df['gameweek_xPoints_ewm_20'] / df['price']\n",
    "df['value_points'] = np.sqrt( df['gameweek_xPoints_ewm_20'] *  df['value'])\n",
    "\n",
    "expected_points_next_10gw = (projections[projections.gameweek.isin( np.arange(latest_gameweek+1, latest_gameweek+11, 1) )]\n",
    " .groupby('name')\n",
    " .sum()\n",
    " )[['expected_points']].reset_index().rename(columns={'expected_points':'expected_points_next_10_GW'})\n",
    "\n",
    "expected_points_next_5gw = (projections[projections.gameweek.isin( np.arange(latest_gameweek+1, latest_gameweek+6, 1) )]\n",
    " .groupby('name')\n",
    " .sum()\n",
    " )[['expected_points']].reset_index().rename(columns={'expected_points':'expected_points_next_5_GW'})\n",
    "\n",
    "expected_points_next_10gw\n",
    "df = df.merge(expected_points_next_10gw, on='name', how='left')\n",
    "df = df.merge(expected_points_next_5gw, on='name', how='left')\n",
    "display(df)"
   ]
  },
  {
   "cell_type": "code",
   "execution_count": null,
   "metadata": {},
   "outputs": [],
   "source": [
    "position_dict = {1:'GK', 2:'DEF', 3:'MID', 4:'FWD'}\n",
    "df['position'] = df['element_type'].map(position_dict)"
   ]
  },
  {
   "cell_type": "code",
   "execution_count": null,
   "metadata": {},
   "outputs": [],
   "source": [
    "df['name'].values[0]"
   ]
  },
  {
   "cell_type": "markdown",
   "metadata": {},
   "source": [
    "# Gradio functions"
   ]
  },
  {
   "cell_type": "code",
   "execution_count": null,
   "metadata": {},
   "outputs": [],
   "source": [
    "def plot_points_and_value(positions, teams, show_names, x_axis_feature):\n",
    "    \n",
    "    fig = go.Figure()\n",
    "\n",
    "    df_out = df[df.position.isin(positions)].copy()\n",
    "    if \"Select All\" not in teams:\n",
    "        df_out = df_out[df_out.team_name.isin(teams)]\n",
    "\n",
    "    fig.add_trace(\n",
    "            go.Scatter(\n",
    "                x=df_out[x_axis_feature],\n",
    "                y=df_out['value'],\n",
    "                mode=\"markers+text\",\n",
    "                hovertext=df_out['name'].values,\n",
    "                showlegend=False,\n",
    "                ),\n",
    "        )\n",
    "\n",
    "    if show_names:\n",
    "        fig.update_traces(\n",
    "            text = df_out['name'].values,\n",
    "            textposition='top center',\n",
    "            )\n",
    "\n",
    "    fig.update_layout(\n",
    "        #title=\"\",\n",
    "        template='plotly_dark',\n",
    "        xaxis_title=x_axis_feature,\n",
    "        yaxis_title='value',\n",
    "        #showlegend=True\n",
    "    )\n",
    "\n",
    "    return fig"
   ]
  },
  {
   "cell_type": "markdown",
   "metadata": {},
   "source": [
    "# Demo"
   ]
  },
  {
   "cell_type": "code",
   "execution_count": null,
   "metadata": {},
   "outputs": [],
   "source": [
    "position_list = list(df.position.unique())\n",
    "team_name_list = [\"Select All\"]\n",
    "team_name_list += list(np.sort(df.team_name.unique()))\n",
    "x_axis_feature = [\"gameweek_xPoints_ewm_20\", 'expected_points_next_10_GW']"
   ]
  },
  {
   "cell_type": "code",
   "execution_count": null,
   "metadata": {},
   "outputs": [],
   "source": [
    "demo = gr.Interface(\n",
    "    plot_points_and_value,\n",
    "    [\n",
    "        gr.CheckboxGroup(position_list, label=\"POSITION\"),\n",
    "        gr.Dropdown(team_name_list, label=\"TEAM\", multiselect=True),\n",
    "        gr.Checkbox('Show player names'),\n",
    "        gr.Dropdown(x_axis_feature, label=\"x-axis\"),\n",
    "    ],\n",
    "    gr.Plot(),\n",
    ").launch()"
   ]
  },
  {
   "cell_type": "markdown",
   "metadata": {},
   "source": [
    "# DEV STUFF"
   ]
  },
  {
   "cell_type": "code",
   "execution_count": null,
   "metadata": {},
   "outputs": [],
   "source": [
    "teams = ['Aston Villa']\n",
    "positions = ['MID']"
   ]
  },
  {
   "cell_type": "code",
   "execution_count": null,
   "metadata": {},
   "outputs": [],
   "source": [
    "fig = go.Figure()\n",
    "\n",
    "df_out = df[df.position.isin(positions)].copy()\n",
    "if \"Select All\" not in teams:\n",
    "    df_out = df_out[df_out.team_name.isin(teams)]\n",
    "\n",
    "fig.add_trace(\n",
    "    go.Scatter(\n",
    "        x=df_out['gameweek_xPoints_ewm_20'],\n",
    "        y=df_out['value'],\n",
    "        mode=\"markers+text\",\n",
    "        text = df_out['name'].values,\n",
    "        hovertext=df_out['name'].values,\n",
    "        showlegend=False,\n",
    "        ),\n",
    ")\n",
    "\n",
    "fig.update_traces(textposition='top center')\n",
    "\n",
    "fig.update_layout(\n",
    "    #title=\"\",\n",
    "    template='plotly_dark',\n",
    "    xaxis_title=\"gameweek_xPoints_ewm_20\",\n",
    "    yaxis_title='value',\n",
    "    #showlegend=True\n",
    ")\n",
    "\n"
   ]
  },
  {
   "cell_type": "code",
   "execution_count": null,
   "metadata": {},
   "outputs": [],
   "source": []
  }
 ],
 "metadata": {
  "kernelspec": {
   "display_name": "venv23-24",
   "language": "python",
   "name": "python3"
  },
  "language_info": {
   "codemirror_mode": {
    "name": "ipython",
    "version": 3
   },
   "file_extension": ".py",
   "mimetype": "text/x-python",
   "name": "python",
   "nbconvert_exporter": "python",
   "pygments_lexer": "ipython3",
   "version": "3.10.13"
  }
 },
 "nbformat": 4,
 "nbformat_minor": 2
}
