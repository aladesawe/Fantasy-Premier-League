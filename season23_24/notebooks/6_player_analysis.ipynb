{
 "cells": [
  {
   "cell_type": "code",
   "execution_count": null,
   "metadata": {},
   "outputs": [],
   "source": [
    "latest_gameweek = 20"
   ]
  },
  {
   "cell_type": "code",
   "execution_count": null,
   "metadata": {},
   "outputs": [],
   "source": [
    "import pandas as pd\n",
    "import numpy as np\n",
    "from pathlib import Path\n",
    "\n",
    "import catboost\n",
    "import shap\n",
    "\n",
    "import plotly.graph_objects as go\n",
    "import matplotlib.pyplot as plt\n",
    "\n",
    "pd.set_option('display.max_columns', 300)\n",
    "#pd.set_option('display.max_rows', 100)"
   ]
  },
  {
   "cell_type": "markdown",
   "metadata": {},
   "source": [
    "# Data"
   ]
  },
  {
   "cell_type": "code",
   "execution_count": null,
   "metadata": {},
   "outputs": [],
   "source": [
    "filepath = Path(f'../data/predictions/gameweek{latest_gameweek}.csv')\n",
    "projections = pd.read_csv(filepath, index_col=0)\n",
    "display(projections.head())\n",
    "display(projections.shape)"
   ]
  },
  {
   "cell_type": "code",
   "execution_count": null,
   "metadata": {},
   "outputs": [],
   "source": [
    "filepath = Path('../data/fpl_df.csv')\n",
    "fpl_df = pd.read_csv(filepath, index_col=0, low_memory=False)\n",
    "fpl_df = fpl_df[fpl_df.season=='23-24']\n",
    "display(fpl_df.head())\n",
    "display(fpl_df.shape)"
   ]
  },
  {
   "cell_type": "code",
   "execution_count": null,
   "metadata": {},
   "outputs": [],
   "source": [
    "df = fpl_df.groupby('name').last().reset_index()[['name', 'team_name', 'element_type', 'now_cost', \n",
    "                            'gameweek_minutes_ewm_20', 'points_per_game', 'total_points', \n",
    "                            'gameweek_xPoints_ewm_5', 'gameweek_xPoints_ewm_10', 'gameweek_xPoints_ewm_20', 'gameweek_xPoints_ewm_40']]\n",
    "df['games_played'] = np.round(np.where(df['points_per_game']!=0, df['total_points'] / df['points_per_game'], 0),0)\n",
    "df['price'] = df['now_cost'] / 10.0\n",
    "df['value'] = df['gameweek_xPoints_ewm_20'] / df['price']\n",
    "df['value_points'] = np.sqrt( df['gameweek_xPoints_ewm_20'] *  df['value'])\n",
    "df"
   ]
  },
  {
   "cell_type": "code",
   "execution_count": null,
   "metadata": {},
   "outputs": [],
   "source": [
    "expected_points_next_10gw = (projections[projections.gameweek.isin( np.arange(latest_gameweek+1, latest_gameweek+11, 1) )]\n",
    " .groupby('name')\n",
    " .sum()\n",
    " )[['expected_points']].reset_index().rename(columns={'expected_points':'expected_points_next_10_GW'})\n",
    "\n",
    "expected_points_next_5gw = (projections[projections.gameweek.isin( np.arange(latest_gameweek+1, latest_gameweek+6, 1) )]\n",
    " .groupby('name')\n",
    " .sum()\n",
    " )[['expected_points']].reset_index().rename(columns={'expected_points':'expected_points_next_5_GW'})\n",
    "\n",
    "expected_points_next_10gw"
   ]
  },
  {
   "cell_type": "code",
   "execution_count": null,
   "metadata": {},
   "outputs": [],
   "source": [
    "df = df.merge(expected_points_next_10gw, on='name', how='left')\n",
    "df = df.merge(expected_points_next_5gw, on='name', how='left')\n",
    "display(df.head())"
   ]
  },
  {
   "cell_type": "markdown",
   "metadata": {},
   "source": [
    "# Analysis"
   ]
  },
  {
   "cell_type": "code",
   "execution_count": null,
   "metadata": {},
   "outputs": [],
   "source": [
    "(df[(df.games_played>=5)]\n",
    "        .sort_values(by='expected_points_next_10_GW', ascending=False)\n",
    "        .head(20))[['name', 'team_name', 'price', 'games_played',\n",
    "                    'points_per_game', 'total_points', 'gameweek_xPoints_ewm_20', 'expected_points_next_10_GW',\n",
    "                    'value_points']]"
   ]
  },
  {
   "cell_type": "code",
   "execution_count": null,
   "metadata": {},
   "outputs": [],
   "source": [
    "df[df['name'].str.contains('Pickford')][['name', 'team_name', 'price', 'games_played',\n",
    "                    'points_per_game', 'total_points', 'gameweek_xPoints_ewm_5', 'gameweek_xPoints_ewm_10',\n",
    "                    'gameweek_xPoints_ewm_20', 'expected_points_next_10_GW', 'value_points']]"
   ]
  },
  {
   "cell_type": "code",
   "execution_count": null,
   "metadata": {},
   "outputs": [],
   "source": [
    "positions = ['GOALKEEPERS', 'DEFENDERS', 'MIDFIELDERS', 'FORWARDS']\n",
    "\n",
    "for ix, position in enumerate(positions):\n",
    "    print(position)\n",
    "    display(\n",
    "        (df[(df.games_played>=5) & (df.element_type==ix+1)]\n",
    "        .sort_values(by='expected_points_next_10_GW', ascending=False) \n",
    "        .head(20))[['name', 'team_name', 'price', 'games_played',\n",
    "                    'points_per_game', 'total_points', 'gameweek_xPoints_ewm_20',\n",
    "                    'expected_points_next_10_GW', 'value_points']]\n",
    "    )\n"
   ]
  },
  {
   "cell_type": "code",
   "execution_count": null,
   "metadata": {},
   "outputs": [],
   "source": [
    "my_price = 6.1\n",
    "my_player = 'Gordon'\n",
    "print('Value_points with my_price:')\n",
    "print(np.sqrt(df.loc[df['name'].str.contains(my_player), 'gameweek_xPoints_ewm_20']**2/my_price))"
   ]
  },
  {
   "cell_type": "code",
   "execution_count": null,
   "metadata": {},
   "outputs": [],
   "source": [
    "fpl_df.loc[fpl_df['name'].str.contains('Gordon'), ['name', 'event_points', 'gameweek_xPoints', 'gameweek_xPoints_expanding_per90']] #André Onana"
   ]
  },
  {
   "cell_type": "code",
   "execution_count": null,
   "metadata": {},
   "outputs": [],
   "source": [
    "(projections[projections.gameweek==(latest_gameweek+1)]\n",
    " .groupby('name')\n",
    " .sum()\n",
    " .sort_values('expected_points', ascending=False).head(20))[['expected_points']]"
   ]
  },
  {
   "cell_type": "code",
   "execution_count": null,
   "metadata": {},
   "outputs": [],
   "source": [
    "(projections[(projections.gameweek.isin(np.arange(latest_gameweek+1, latest_gameweek+11)))]\n",
    " .groupby('name')\n",
    " .sum()\n",
    " .sort_values('expected_points', ascending=False).head(20))[['expected_points']]"
   ]
  },
  {
   "cell_type": "code",
   "execution_count": null,
   "metadata": {},
   "outputs": [],
   "source": [
    "projections[projections['name'].str.contains('Onana')].name.unique()"
   ]
  },
  {
   "cell_type": "code",
   "execution_count": null,
   "metadata": {},
   "outputs": [],
   "source": [
    "fpl_df.loc[fpl_df['name'].str.contains('Areola'), ['name', 'gameweek', 'gameweek_minutes', 'gameweek_xPoints', ]]"
   ]
  },
  {
   "cell_type": "code",
   "execution_count": null,
   "metadata": {},
   "outputs": [],
   "source": [
    "my_gameweek = latest_gameweek+1\n",
    "\n",
    "my_starting_11_names = ['Pickford', 'Trippier', 'Porro', 'Estupi', 'Saka', 'Bowen', 'Foden', 'Palmer', 'Julián Álvarez',  \n",
    "                  'Haaland', 'Watkins']\n",
    "my_subs_names = ['Turner', 'Gordon', 'Konsa', 'Taylor', ]\n",
    "\n",
    "my_starting_11 = pd.DataFrame()\n",
    "for my_name in my_starting_11_names:\n",
    "    my_starting_11 = pd.concat([\n",
    "                    my_starting_11, \n",
    "                    projections[(projections.gameweek==my_gameweek) & (projections.name.str.contains(my_name))]\n",
    "                    ])\n",
    "\n",
    "my_subs = pd.DataFrame()\n",
    "for my_name in my_subs_names:\n",
    "    my_subs = pd.concat([\n",
    "                    my_subs, \n",
    "                    projections[(projections.gameweek==my_gameweek) & (projections.name.str.contains(my_name))]\n",
    "                    ])\n",
    "\n",
    "expected_points = my_starting_11['expected_points'].sum() + my_starting_11['expected_points'].max()\n",
    "display(f'Expected points: {expected_points}')\n",
    "\n",
    "display(my_starting_11[['name', 'element_type', 'home', 'expected_points']])\n",
    "display(my_starting_11.shape[0])\n",
    "\n",
    "display(my_subs[['name', 'element_type', 'home', 'expected_points']])\n",
    "display(my_subs.shape[0])"
   ]
  },
  {
   "cell_type": "code",
   "execution_count": null,
   "metadata": {},
   "outputs": [],
   "source": [
    "(projections[(projections.gameweek==(latest_gameweek+1))]\n",
    " .groupby('name')\n",
    " .sum()\n",
    " .sort_values('expected_points', ascending=False).head(20))[['now_cost', 'expected_points']]"
   ]
  },
  {
   "cell_type": "code",
   "execution_count": null,
   "metadata": {},
   "outputs": [],
   "source": [
    "players = ['Pervis Estupiñán', 'Gabriel dos Santos Magalhães']\n",
    "colors = ['red', 'white']\n",
    "#players = ['Heung-Min Son', 'Bruno Borges Fernandes']\n",
    "#colors = ['white', 'red']\n",
    "\n",
    "fig = go.Figure()\n",
    "for count, player in enumerate(players):\n",
    "\n",
    "    my_projections = projections[projections['name']==player].sort_values(by='gameweek')\n",
    "\n",
    "    fig.add_trace(\n",
    "        go.Scatter(\n",
    "            x=np.unique(my_projections['gameweek']),\n",
    "            y=my_projections.groupby('gameweek').sum()['expected_points'],#.cumsum(),\n",
    "            mode=\"markers+lines\",\n",
    "            marker=dict(color=colors[count]),\n",
    "            name=player + ' - projected',\n",
    "            #hovertext=('Opponent: ' + my_projections['opp_team'] + \n",
    "            #           ', was_home: ' + my_projections['was_home'].astype(str)),\n",
    "            showlegend=True,\n",
    "            ),\n",
    "    )\n",
    "\n",
    "fig.update_layout(\n",
    "    #title=\"\",\n",
    "    template='plotly_dark',\n",
    "    xaxis_title=\"gameweek\",\n",
    "    yaxis_title='projected_points',\n",
    "    #showlegend=True\n",
    ")"
   ]
  },
  {
   "cell_type": "code",
   "execution_count": null,
   "metadata": {},
   "outputs": [],
   "source": [
    "for player in players:\n",
    "    my_projections = projections[projections['name']==player].sort_values(by='gameweek')\n",
    "    print(player)\n",
    "    display(my_projections[['opponent_team','home','gameweek', 'expected_points']].set_index('gameweek'))"
   ]
  },
  {
   "cell_type": "markdown",
   "metadata": {},
   "source": [
    "## SHAP"
   ]
  },
  {
   "cell_type": "code",
   "execution_count": null,
   "metadata": {},
   "outputs": [],
   "source": [
    "model_path = Path('../models/catboost_20240102-210118.cbm')\n",
    "model = catboost.CatBoostRegressor()\n",
    "model.load_model(model_path)"
   ]
  },
  {
   "cell_type": "code",
   "execution_count": null,
   "metadata": {},
   "outputs": [],
   "source": [
    "features_no_shift = ['element_type', 'home', 'opponent_xG_ewm_5', 'opponent_xG_ewm_10',\n",
    "       'opponent_xG_ewm_20', 'opponent_xG_ewm_40', 'opponent_xGA_ewm_5',\n",
    "       'opponent_xGA_ewm_10', 'opponent_xGA_ewm_20',\n",
    "       'opponent_xGA_ewm_40', ]\n",
    "\n",
    "features_shift = ['corners_and_indirect_freekicks_order', 'creativity_rank', \n",
    "       'direct_freekicks_order', 'ict_index_rank', 'influence_rank',\n",
    "       'minutes', 'now_cost', 'penalties_order', 'points_per_game', \n",
    "       'selected_by_percent', 'threat_rank',\n",
    "       'team_xG_ewm_5', 'team_xG_ewm_10', 'team_xG_ewm_20',\n",
    "       'team_xG_ewm_40', 'team_xGA_ewm_5', 'team_xGA_ewm_10',\n",
    "       'team_xGA_ewm_20', 'team_xGA_ewm_40', \n",
    "       'gameweek_assists_ewm_5', 'gameweek_bps_ewm_5',\n",
    "       'gameweek_creativity_ewm_5', 'event_points_ewm_5',\n",
    "       'gameweek_goals_scored_ewm_5', 'gameweek_goals_conceded_ewm_5',\n",
    "       'gameweek_saves_ewm_5', 'gameweek_threat_ewm_5',\n",
    "       'gameweek_xG_ewm_5', 'gameweek_xA_ewm_5', 'gameweek_xGA_ewm_5',\n",
    "       'gameweek_minutes_ewm_5', 'gameweek_xPoints_ewm_5',\n",
    "       'gameweek_assists_ewm_10', 'gameweek_bps_ewm_10',\n",
    "       'gameweek_creativity_ewm_10', 'event_points_ewm_10',\n",
    "       'gameweek_goals_scored_ewm_10', 'gameweek_goals_conceded_ewm_10',\n",
    "       'gameweek_saves_ewm_10', 'gameweek_threat_ewm_10',\n",
    "       'gameweek_xG_ewm_10', 'gameweek_xA_ewm_10', 'gameweek_xGA_ewm_10',\n",
    "       'gameweek_minutes_ewm_10', 'gameweek_xPoints_ewm_10',\n",
    "       'gameweek_assists_ewm_20', 'gameweek_bps_ewm_20',\n",
    "       'gameweek_creativity_ewm_20', 'event_points_ewm_20',\n",
    "       'gameweek_goals_scored_ewm_20', 'gameweek_goals_conceded_ewm_20',\n",
    "       'gameweek_saves_ewm_20', 'gameweek_threat_ewm_20',\n",
    "       'gameweek_xG_ewm_20', 'gameweek_xA_ewm_20', 'gameweek_xGA_ewm_20',\n",
    "       'gameweek_minutes_ewm_20', 'gameweek_xPoints_ewm_20',\n",
    "       'gameweek_assists_ewm_40', 'gameweek_bps_ewm_40',\n",
    "       'gameweek_creativity_ewm_40', 'event_points_ewm_40',\n",
    "       'gameweek_goals_scored_ewm_40', 'gameweek_goals_conceded_ewm_40',\n",
    "       'gameweek_saves_ewm_40', 'gameweek_threat_ewm_40',\n",
    "       'gameweek_xG_ewm_40', 'gameweek_xA_ewm_40', 'gameweek_xGA_ewm_40',\n",
    "       'gameweek_minutes_ewm_40', 'gameweek_xPoints_ewm_40',\n",
    "       'gameweek_assists_expanding', 'gameweek_bps_expanding',\n",
    "       'gameweek_creativity_expanding', 'event_points_expanding',\n",
    "       'gameweek_goals_scored_expanding',\n",
    "       'gameweek_goals_conceded_expanding', 'gameweek_saves_expanding',\n",
    "       'gameweek_threat_expanding', 'gameweek_xG_expanding',\n",
    "       'gameweek_xA_expanding', 'gameweek_xGA_expanding',\n",
    "       'gameweek_minutes_expanding', 'gameweek_xPoints_expanding',\n",
    "       'gameweek_assists_expanding_per90', 'gameweek_bps_expanding_per90',\n",
    "       'gameweek_creativity_expanding_per90',\n",
    "       'event_points_expanding_per90',\n",
    "       'gameweek_goals_scored_expanding_per90',\n",
    "       'gameweek_goals_conceded_expanding_per90',\n",
    "       'gameweek_saves_expanding_per90',\n",
    "       'gameweek_threat_expanding_per90', 'gameweek_xG_expanding_per90',\n",
    "       'gameweek_xA_expanding_per90', 'gameweek_xGA_expanding_per90',\n",
    "       'gameweek_xPoints_expanding_per90', 'xG_overperformance'\n",
    "    ]\n",
    "\n",
    "features = features_no_shift + features_shift\n",
    "\n",
    "target = ['event_points']"
   ]
  },
  {
   "cell_type": "code",
   "execution_count": null,
   "metadata": {},
   "outputs": [],
   "source": [
    "my_player = 'Konsa'\n",
    "projections.loc[projections['name'].str.contains(my_player), ['name', 'team_name', 'home', 'expected_points']]"
   ]
  },
  {
   "cell_type": "code",
   "execution_count": null,
   "metadata": {},
   "outputs": [],
   "source": [
    "explainer = shap.TreeExplainer(model)\n",
    "shap_values = explainer(projections.loc[projections['name'].str.contains(my_player), features]);"
   ]
  },
  {
   "cell_type": "code",
   "execution_count": null,
   "metadata": {},
   "outputs": [],
   "source": [
    "shap.plots.bar(shap_values, max_display=20)"
   ]
  },
  {
   "cell_type": "code",
   "execution_count": null,
   "metadata": {},
   "outputs": [],
   "source": []
  }
 ],
 "metadata": {
  "kernelspec": {
   "display_name": "venv23-24",
   "language": "python",
   "name": "python3"
  },
  "language_info": {
   "codemirror_mode": {
    "name": "ipython",
    "version": 3
   },
   "file_extension": ".py",
   "mimetype": "text/x-python",
   "name": "python",
   "nbconvert_exporter": "python",
   "pygments_lexer": "ipython3",
   "version": "3.10.13"
  },
  "orig_nbformat": 4
 },
 "nbformat": 4,
 "nbformat_minor": 2
}
