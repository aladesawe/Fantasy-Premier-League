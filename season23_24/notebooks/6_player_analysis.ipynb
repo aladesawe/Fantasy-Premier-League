{
 "cells": [
  {
   "cell_type": "code",
   "execution_count": null,
   "metadata": {},
   "outputs": [],
   "source": [
    "latest_gameweek = 5"
   ]
  },
  {
   "cell_type": "code",
   "execution_count": null,
   "metadata": {},
   "outputs": [],
   "source": [
    "import pandas as pd\n",
    "import numpy as np\n",
    "from pathlib import Path\n",
    "\n",
    "import plotly.graph_objects as go\n",
    "import matplotlib.pyplot as plt\n",
    "\n",
    "pd.set_option('display.max_columns', 300)\n",
    "#pd.set_option('display.max_rows', 100)"
   ]
  },
  {
   "cell_type": "markdown",
   "metadata": {},
   "source": [
    "# Data"
   ]
  },
  {
   "cell_type": "code",
   "execution_count": null,
   "metadata": {},
   "outputs": [],
   "source": [
    "filepath = Path(f'../data/predictions/gameweek{latest_gameweek}.csv')\n",
    "projections = pd.read_csv(filepath, index_col=0)\n",
    "display(projections.head())\n",
    "display(projections.shape)"
   ]
  },
  {
   "cell_type": "code",
   "execution_count": null,
   "metadata": {},
   "outputs": [],
   "source": [
    "filepath = Path('../data/fpl_df.csv')\n",
    "fpl_df = pd.read_csv(filepath, index_col=0, low_memory=False)\n",
    "fpl_df = fpl_df[fpl_df.season=='23-24']\n",
    "display(fpl_df.head())\n",
    "display(fpl_df.shape)"
   ]
  },
  {
   "cell_type": "code",
   "execution_count": null,
   "metadata": {},
   "outputs": [],
   "source": [
    "df = fpl_df.groupby('name').last().reset_index()[['name', 'team_name', 'element_type', 'now_cost', 'points_per_game', 'total_points']]\n",
    "df"
   ]
  },
  {
   "cell_type": "markdown",
   "metadata": {},
   "source": [
    "# Analysis"
   ]
  },
  {
   "cell_type": "code",
   "execution_count": null,
   "metadata": {},
   "outputs": [],
   "source": [
    "(projections[projections.gameweek==(latest_gameweek+1)]\n",
    " .groupby('name')\n",
    " .sum()\n",
    " .sort_values('expected_points', ascending=False).head(20))[['expected_points']]"
   ]
  },
  {
   "cell_type": "code",
   "execution_count": null,
   "metadata": {},
   "outputs": [],
   "source": [
    "(projections[(projections.gameweek.isin([7,8])) & (projections.element_type==4)]\n",
    " .groupby('name')\n",
    " .sum()\n",
    " .sort_values('expected_points', ascending=False).head(20))[['expected_points']]"
   ]
  },
  {
   "cell_type": "code",
   "execution_count": null,
   "metadata": {},
   "outputs": [],
   "source": [
    "projections[projections['name'].str.contains('Julián Álvarez')].head()"
   ]
  },
  {
   "cell_type": "code",
   "execution_count": null,
   "metadata": {},
   "outputs": [],
   "source": [
    "my_gameweek = latest_gameweek+2\n",
    "\n",
    "my_starting_11_names = ['Pickford', 'Estu', 'Chilwell', 'Dias', 'Saka', 'Fernandes', 'Rashford', 'Sterling',\n",
    "                  'Maddison', 'Jackson', 'Haaland']\n",
    "my_subs_names = ['Turner', 'Botman', 'Archer', 'i Bell']\n",
    "\n",
    "my_starting_11 = pd.DataFrame()\n",
    "for my_name in my_starting_11_names:\n",
    "    my_starting_11 = pd.concat([\n",
    "                    my_starting_11, \n",
    "                    projections[(projections.gameweek==my_gameweek) & (projections.name.str.contains(my_name))]\n",
    "                    ])\n",
    "\n",
    "my_subs = pd.DataFrame()\n",
    "for my_name in my_subs_names:\n",
    "    my_subs = pd.concat([\n",
    "                    my_subs, \n",
    "                    projections[(projections.gameweek==my_gameweek) & (projections.name.str.contains(my_name))]\n",
    "                    ])\n",
    "\n",
    "expected_points = my_starting_11['expected_points'].sum() + my_starting_11['expected_points'].max()\n",
    "display(f'Expected points: {expected_points}')\n",
    "\n",
    "display(my_starting_11[['name', 'element_type', 'home', 'expected_points']])\n",
    "display(my_starting_11.shape[0])\n",
    "\n",
    "display(my_subs[['name', 'element_type', 'home', 'expected_points']])\n",
    "display(my_subs.shape[0])"
   ]
  },
  {
   "cell_type": "code",
   "execution_count": null,
   "metadata": {},
   "outputs": [],
   "source": [
    "(projections[(projections.gameweek==(latest_gameweek+1)) & (projections.element_type==1)]\n",
    " .groupby('name')\n",
    " .sum()\n",
    " .sort_values('expected_points', ascending=False).head(20))[['now_cost', 'expected_points']]"
   ]
  },
  {
   "cell_type": "code",
   "execution_count": null,
   "metadata": {},
   "outputs": [],
   "source": [
    "players = ['Nicolas Jackson', 'Julián Álvarez']\n",
    "colors = ['blue', 'white']\n",
    "#players = ['Heung-Min Son', 'Bruno Borges Fernandes']\n",
    "#colors = ['white', 'red']\n",
    "\n",
    "fig = go.Figure()\n",
    "for count, player in enumerate(players):\n",
    "\n",
    "    my_projections = projections[projections['name']==player].sort_values(by='gameweek')\n",
    "\n",
    "    fig.add_trace(\n",
    "        go.Scatter(\n",
    "            x=np.unique(my_projections['gameweek']),\n",
    "            y=my_projections.groupby('gameweek').sum()['expected_points'],#.cumsum(),\n",
    "            mode=\"markers+lines\",\n",
    "            marker=dict(color=colors[count]),\n",
    "            name=player + ' - projected',\n",
    "            #hovertext=('Opponent: ' + my_projections['opp_team'] + \n",
    "            #           ', was_home: ' + my_projections['was_home'].astype(str)),\n",
    "            showlegend=True,\n",
    "            ),\n",
    "    )\n",
    "\n",
    "fig.update_layout(\n",
    "    #title=\"\",\n",
    "    template='plotly_dark',\n",
    "    xaxis_title=\"gameweek\",\n",
    "    yaxis_title='projected_points',\n",
    "    #showlegend=True\n",
    ")"
   ]
  },
  {
   "cell_type": "code",
   "execution_count": null,
   "metadata": {},
   "outputs": [],
   "source": [
    "for player in players:\n",
    "    my_projections = projections[projections['name']==player].sort_values(by='gameweek')\n",
    "    print(player)\n",
    "    display(my_projections[['opponent_team','home','gameweek', 'expected_points']].set_index('gameweek'))"
   ]
  },
  {
   "cell_type": "code",
   "execution_count": null,
   "metadata": {},
   "outputs": [],
   "source": []
  }
 ],
 "metadata": {
  "kernelspec": {
   "display_name": "venv23-24",
   "language": "python",
   "name": "python3"
  },
  "language_info": {
   "codemirror_mode": {
    "name": "ipython",
    "version": 3
   },
   "file_extension": ".py",
   "mimetype": "text/x-python",
   "name": "python",
   "nbconvert_exporter": "python",
   "pygments_lexer": "ipython3",
   "version": "3.10.13"
  },
  "orig_nbformat": 4
 },
 "nbformat": 4,
 "nbformat_minor": 2
}
