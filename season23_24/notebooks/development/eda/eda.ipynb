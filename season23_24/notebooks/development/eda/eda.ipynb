{
 "cells": [
  {
   "cell_type": "code",
   "execution_count": null,
   "metadata": {},
   "outputs": [],
   "source": [
    "import pandas as pd\n",
    "import numpy as np\n",
    "\n",
    "import json\n",
    "import requests\n",
    "\n",
    "from pathlib import Path\n",
    "import os\n",
    "import datetime\n",
    "\n",
    "pd.set_option('display.max_columns', 100)\n",
    "pd.set_option('display.max_rows', 100)"
   ]
  },
  {
   "cell_type": "code",
   "execution_count": null,
   "metadata": {},
   "outputs": [],
   "source": [
    "# fetch FPL data online\n",
    "fpl_orig_data = json.loads(requests.get('https://fantasy.premierleague.com/api/bootstrap-static/').text)\n",
    "fpl_data = pd.DataFrame(fpl_orig_data['elements'])\n",
    "fpl_data"
   ]
  },
  {
   "cell_type": "code",
   "execution_count": null,
   "metadata": {},
   "outputs": [],
   "source": [
    "fpl_data[~fpl_data.chance_of_playing_next_round.apply(lambda x: np.isnan(x))]"
   ]
  },
  {
   "cell_type": "code",
   "execution_count": null,
   "metadata": {},
   "outputs": [],
   "source": [
    "np.isnan(fpl_data.loc[0,'chance_of_playing_next_round'])"
   ]
  },
  {
   "cell_type": "code",
   "execution_count": null,
   "metadata": {},
   "outputs": [],
   "source": [
    "# for some reason, fpl team numbers are otherwise alphabetic, except Leeds comes after Leicester...\n",
    "teams = ['Arsenal', 'Aston Villa', 'Bournemouth', 'Brentford', 'Brighton',\n",
    "        'Chelsea', 'Crystal Palace', 'Everton', 'Fulham', 'Leicester City', 'Leeds United',\n",
    "         'Liverpool', 'Manchester City', 'Manchester Utd', 'Newcastle Utd',\n",
    "       'Nottingham Forest', 'Southampton', 'Tottenham', 'West Ham','Wolves']\n",
    "\n",
    "fpl_data['team'] = [teams[i-1] for i in fpl_data['team']]"
   ]
  },
  {
   "cell_type": "code",
   "execution_count": null,
   "metadata": {},
   "outputs": [],
   "source": [
    "# change dtypes to numeric where appropriate\n",
    "aux = []\n",
    "for ix, col in fpl_data.items():\n",
    "    aux.append(pd.to_numeric(col, errors='ignore'))\n",
    "df = pd.DataFrame(aux).T"
   ]
  },
  {
   "cell_type": "code",
   "execution_count": null,
   "metadata": {},
   "outputs": [],
   "source": [
    "df.groupby('team')['expected_goals_conceded'].sum() / 11"
   ]
  },
  {
   "cell_type": "code",
   "execution_count": null,
   "metadata": {},
   "outputs": [],
   "source": [
    "df.groupby('team')['expected_goals'].sum()"
   ]
  },
  {
   "cell_type": "code",
   "execution_count": null,
   "metadata": {},
   "outputs": [],
   "source": [
    "filepath = Path('../../../../season22_23/data/fpl_data/fpl_week_1.csv')\n",
    "last_season_week1 = pd.read_csv(filepath)\n",
    "last_season_week1.head()"
   ]
  },
  {
   "cell_type": "code",
   "execution_count": null,
   "metadata": {},
   "outputs": [],
   "source": [
    "filepath = Path('../../../../season22_23/data/fpl_data/fpl_week_38.csv')\n",
    "last_season_week38 = pd.read_csv(filepath, index_col=0)\n",
    "last_season_week38.head()"
   ]
  },
  {
   "cell_type": "code",
   "execution_count": null,
   "metadata": {},
   "outputs": [],
   "source": [
    "set(last_season_week38.columns).difference(set(last_season_week1.columns))"
   ]
  },
  {
   "attachments": {},
   "cell_type": "markdown",
   "metadata": {},
   "source": [
    "### 22-23 week 38 new data processing scheme"
   ]
  },
  {
   "cell_type": "code",
   "execution_count": null,
   "metadata": {},
   "outputs": [],
   "source": [
    "# all data for season 22-23\n",
    "data = []\n",
    "for i in range(38):\n",
    "    filepath = Path(f'../../../../season22_23/data/fpl_data/fpl_week_{i+1}.csv')\n",
    "    gameweek_data = pd.read_csv(filepath, index_col=0)\n",
    "    #modification_time = os.path.getmtime(filepath)\n",
    "    #modification_datetime = datetime.datetime.fromtimestamp(modification_time)\n",
    "    #gameweek_data['modification_datetime'] = modification_datetime\n",
    "    data.append(gameweek_data)\n",
    "\n",
    "df = pd.concat(data, ignore_index=True)\n",
    "display(df.head())\n",
    "display(df.tail())\n",
    "display(df.shape)"
   ]
  },
  {
   "cell_type": "code",
   "execution_count": null,
   "metadata": {},
   "outputs": [],
   "source": [
    "print('Percentage null:')\n",
    "df.isnull().sum() / df.shape[0]"
   ]
  },
  {
   "cell_type": "code",
   "execution_count": null,
   "metadata": {},
   "outputs": [],
   "source": [
    "df.name.nunique()"
   ]
  },
  {
   "cell_type": "code",
   "execution_count": null,
   "metadata": {},
   "outputs": [],
   "source": [
    "df.id.nunique()"
   ]
  },
  {
   "cell_type": "code",
   "execution_count": null,
   "metadata": {},
   "outputs": [],
   "source": [
    "df_grouped = df.groupby(['web_name', 'id']).count().reset_index()\n",
    "df_grouped[df_grouped.id.duplicated()]"
   ]
  },
  {
   "cell_type": "code",
   "execution_count": null,
   "metadata": {},
   "outputs": [],
   "source": [
    "df_grouped[df_grouped.id==159]"
   ]
  },
  {
   "cell_type": "code",
   "execution_count": null,
   "metadata": {},
   "outputs": [],
   "source": [
    "df[df['id']==159]"
   ]
  },
  {
   "cell_type": "code",
   "execution_count": null,
   "metadata": {},
   "outputs": [],
   "source": [
    "df.groupby(['web_name'])['points_per_game'].expanding(10).mean()"
   ]
  },
  {
   "cell_type": "code",
   "execution_count": null,
   "metadata": {},
   "outputs": [],
   "source": [
    "df.groupby(['web_name'])['points_per_game'].rolling(10).mean()"
   ]
  },
  {
   "cell_type": "code",
   "execution_count": null,
   "metadata": {},
   "outputs": [],
   "source": [
    "df['new_points'] = df.groupby(['web_name'])['total_points'].diff()\n",
    "df[df.web_name=='Tierney'].head(20)[['web_name', 'total_points', 'new_points']]"
   ]
  },
  {
   "attachments": {},
   "cell_type": "markdown",
   "metadata": {},
   "source": [
    "# all data created last season"
   ]
  },
  {
   "cell_type": "code",
   "execution_count": null,
   "metadata": {},
   "outputs": [],
   "source": []
  }
 ],
 "metadata": {
  "kernelspec": {
   "display_name": "venv23-24",
   "language": "python",
   "name": "python3"
  },
  "language_info": {
   "codemirror_mode": {
    "name": "ipython",
    "version": 3
   },
   "file_extension": ".py",
   "mimetype": "text/x-python",
   "name": "python",
   "nbconvert_exporter": "python",
   "pygments_lexer": "ipython3",
   "version": "3.10.6"
  },
  "orig_nbformat": 4
 },
 "nbformat": 4,
 "nbformat_minor": 2
}
