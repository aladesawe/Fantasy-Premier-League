{
 "cells": [
  {
   "cell_type": "code",
   "execution_count": null,
   "metadata": {},
   "outputs": [],
   "source": [
    "import requests\n",
    "import json"
   ]
  },
  {
   "cell_type": "code",
   "execution_count": null,
   "metadata": {},
   "outputs": [],
   "source": [
    "session = requests.session()\n",
    "\n",
    "headers={\"User-Agent\": \"Dalvik/2.1.0 (Linux; U; Android 5.1; PRO 5 Build/LMY47D)\", 'accept-language': 'en'}\n",
    "\n",
    "data = { \"login\": \"jaksticks@gmail.com\", \"password\": \"ADD PASSWORD HERE!\", \"app\": \"plfpl-web\", \"redirect_uri\": \"https://fantasy.premierleague.com/a/login\" }\n",
    "\n",
    "url = \"https://users.premierleague.com/accounts/login/\"\n",
    "\n",
    "res = session.post(url, data = data, headers = headers)\n",
    "\n",
    "team_url = \"https://fantasy.premierleague.com/api/my-team/1304322/\"\n",
    "\n",
    "res = session.get(team_url)\n",
    "\n",
    "team = json.loads(res.content)\n",
    "\n",
    "display(team)"
   ]
  },
  {
   "cell_type": "code",
   "execution_count": null,
   "metadata": {},
   "outputs": [],
   "source": []
  }
 ],
 "metadata": {
  "kernelspec": {
   "display_name": "venv23-24",
   "language": "python",
   "name": "python3"
  },
  "language_info": {
   "codemirror_mode": {
    "name": "ipython",
    "version": 3
   },
   "file_extension": ".py",
   "mimetype": "text/x-python",
   "name": "python",
   "nbconvert_exporter": "python",
   "pygments_lexer": "ipython3",
   "version": "3.10.13"
  }
 },
 "nbformat": 4,
 "nbformat_minor": 2
}
