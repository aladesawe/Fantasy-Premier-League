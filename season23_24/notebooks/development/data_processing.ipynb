{
 "cells": [
  {
   "cell_type": "code",
   "execution_count": null,
   "metadata": {},
   "outputs": [],
   "source": [
    "import pandas as pd\n",
    "import numpy as np\n",
    "\n",
    "from pathlib import Path\n",
    "import os\n",
    "import datetime as dt\n",
    "\n",
    "pd.set_option('display.max_columns', 500)\n",
    "pd.set_option('display.max_rows', 100)"
   ]
  },
  {
   "cell_type": "markdown",
   "metadata": {},
   "source": [
    "# Collect data"
   ]
  },
  {
   "cell_type": "code",
   "execution_count": null,
   "metadata": {},
   "outputs": [],
   "source": [
    "data = []\n",
    "\n",
    "# filepaths for all the data for each season since 20-21\n",
    "filepaths = []\n",
    "for i in range(38):\n",
    "    filepaths.append(\n",
    "        Path(f'../../../season20_21/data/fpl/data_week{i+1}.csv')\n",
    "    )\n",
    "    filepaths.append(\n",
    "        Path(f'../../../season21_22/data/fpl/data_week{i+1}.csv')\n",
    "    )\n",
    "    filepaths.append(\n",
    "        Path(f'../../../season22_23/data/fpl_data/fpl_week_{i+1}.csv')\n",
    "    )\n",
    "\n",
    "for filepath in filepaths:\n",
    "    gameweek_data = pd.read_csv(filepath, index_col=0)\n",
    "    modification_time = os.path.getmtime(filepath)\n",
    "    modification_datetime = dt.datetime.fromtimestamp(modification_time)\n",
    "    gameweek_data['modification_datetime'] = modification_datetime\n",
    "    data.append(gameweek_data)\n",
    "\n",
    "display(len(data))"
   ]
  },
  {
   "cell_type": "code",
   "execution_count": null,
   "metadata": {},
   "outputs": [],
   "source": [
    "pd.concat(data, ignore_index=True)"
   ]
  },
  {
   "cell_type": "code",
   "execution_count": null,
   "metadata": {},
   "outputs": [],
   "source": [
    "# all data for season 20-21\n",
    "data = []\n",
    "for i in range(38):\n",
    "    filepath = Path(f'../../../season20_21/data/fpl/data_week{i+1}.csv')\n",
    "    gameweek_data = pd.read_csv(filepath, index_col=0)\n",
    "    gameweek_data['gameweek'] = i+1\n",
    "    data.append(gameweek_data)\n",
    "\n",
    "df = pd.concat(data, ignore_index=True)\n",
    "display(df.head())\n",
    "display(df.shape)"
   ]
  },
  {
   "cell_type": "code",
   "execution_count": null,
   "metadata": {},
   "outputs": [],
   "source": [
    "xg_data = []\n",
    "xga_data = []\n",
    "for ix, row in df.iterrows():\n",
    "    my_gameweek = row['gameweek']\n",
    "    xg_data.append( row[f'xG_week{my_gameweek}'] )\n",
    "    xga_data.append( row[f'xGA_week{my_gameweek}'] )\n",
    "\n",
    "df['gameweek_xG'] = xg_data\n",
    "df['gameweek_xGA'] = xga_data\n",
    "\n",
    "display(df.head())"
   ]
  },
  {
   "cell_type": "code",
   "execution_count": null,
   "metadata": {},
   "outputs": [],
   "source": [
    "columns_20_21 = ['assists', 'bonus', 'bps', 'clean_sheets', 'corners_and_indirect_freekicks_order', 'creativity', 'creativity_rank', \n",
    "                 'creativity_rank_type', 'direct_freekicks_order', 'dreamteam_count', 'element_type', 'event_points', 'first_name', \n",
    "                 'goals_conceded', 'goals_scored', 'ict_index', 'ict_index_rank', 'ict_index_rank_type', 'influence', 'influence_rank',\n",
    "                 'influence_rank_type', 'minutes', 'now_cost', 'own_goals', 'penalties_missed', 'penalties_order', 'penalties_saved',\n",
    "                 'points_per_game', 'red_cards', 'saves', 'second_name', 'selected_by_percent', 'threat', 'threat_rank', 'threat_rank_type',\n",
    "                 'total_points', 'web_name', 'yellow_cards', 'team_name', 'xG', 'xA', 'gameweek', 'gameweek_xG', 'gameweek_xGA']"
   ]
  },
  {
   "cell_type": "code",
   "execution_count": null,
   "metadata": {},
   "outputs": [],
   "source": [
    "df20_21 = df[columns_20_21].copy()\n",
    "df20_21"
   ]
  },
  {
   "cell_type": "code",
   "execution_count": null,
   "metadata": {},
   "outputs": [],
   "source": [
    "df20_21[df20_21.web_name=='Aubameyang'].head()"
   ]
  },
  {
   "cell_type": "markdown",
   "metadata": {},
   "source": [
    "Need to write a script that\n",
    "- extracts xGA from correct column based on gameweek\n",
    "- finds the opponent (team) for each gameweek, calculates their relevant metrics coming into the game and takes double gameweeks etc. into account"
   ]
  },
  {
   "cell_type": "code",
   "execution_count": null,
   "metadata": {},
   "outputs": [],
   "source": [
    "# FPL fixtures needed to get correct gameweeks for each match\n",
    "\n",
    "filepath = Path(f'../../../season20_21/data/fpl/fixtures.csv')\n",
    "fixtures = pd.read_csv(filepath, index_col=0)\n",
    "fixtures['kickoff_time'] = pd.to_datetime(fixtures.kickoff_time)\n",
    "\n",
    "display(fixtures.head())\n",
    "display(fixtures.shape)"
   ]
  },
  {
   "cell_type": "code",
   "execution_count": null,
   "metadata": {},
   "outputs": [],
   "source": [
    "# teams needed to map fixture team_ids to actual team names\n",
    "\n",
    "filepath = Path(f'../../../season20_21/data/fpl/teams.csv')\n",
    "teams = pd.read_csv(filepath, index_col=0)\n",
    "display(teams)"
   ]
  },
  {
   "cell_type": "code",
   "execution_count": null,
   "metadata": {},
   "outputs": [],
   "source": [
    "# map team_id to actual name\n",
    "team_id_dict = dict(zip(teams.id.values, teams.name.values))\n",
    "display(team_id_dict)"
   ]
  },
  {
   "cell_type": "code",
   "execution_count": null,
   "metadata": {},
   "outputs": [],
   "source": [
    "fixtures['away_team'] = fixtures['team_a'].apply(lambda x: team_id_dict[x])\n",
    "fixtures['home_team'] = fixtures['team_h'].apply(lambda x: team_id_dict[x])\n",
    "display(fixtures.head())"
   ]
  },
  {
   "cell_type": "code",
   "execution_count": null,
   "metadata": {},
   "outputs": [],
   "source": [
    "# FBREF data needed for xg values\n",
    "filepath = Path(f'../../../season20_21/data/fbref/fixtures20_21.csv')\n",
    "fixtures_fbref = pd.read_csv(filepath, index_col=0)\n",
    "\n",
    "#drop null rows\n",
    "fixtures_fbref = fixtures_fbref[~fixtures_fbref.isnull().all(axis=1)] \n",
    "\n",
    "fixtures_fbref['Date'] = pd.to_datetime(fixtures_fbref['Date'])\n",
    "\n",
    "display(fixtures_fbref.head())\n",
    "display(fixtures_fbref.shape)"
   ]
  },
  {
   "cell_type": "code",
   "execution_count": null,
   "metadata": {},
   "outputs": [],
   "source": [
    "# map fbref team names to fpl team names\n",
    "team_name_dict = dict(zip(np.sort(fixtures_fbref.Home.unique()), np.sort(fixtures.home_team.unique())))\n",
    "display(team_name_dict)"
   ]
  },
  {
   "cell_type": "code",
   "execution_count": null,
   "metadata": {},
   "outputs": [],
   "source": [
    "fixtures_fbref['Home'] = fixtures_fbref['Home'].apply(lambda x: team_name_dict[x])\n",
    "fixtures_fbref['Away'] = fixtures_fbref['Away'].apply(lambda x: team_name_dict[x])\n",
    "fixtures_fbref.head()"
   ]
  },
  {
   "cell_type": "code",
   "execution_count": null,
   "metadata": {},
   "outputs": [],
   "source": [
    "# get xg data to fpl fixtures df\n",
    "\n",
    "home_xg = []\n",
    "away_xg = []\n",
    "for ix, row in fixtures.iterrows():\n",
    "    home_team = row.home_team\n",
    "    away_team = row.away_team\n",
    "    home_team_xg = fixtures_fbref.loc[(fixtures_fbref['Home']==home_team) & (fixtures_fbref['Away']==away_team), 'xG home'].values[0]\n",
    "    away_team_xg = fixtures_fbref.loc[(fixtures_fbref['Home']==home_team) & (fixtures_fbref['Away']==away_team), 'xG away'].values[0]\n",
    "    home_xg.append( home_team_xg )\n",
    "    away_xg.append( away_team_xg )\n",
    "\n",
    "fixtures['xg_home'] = home_xg\n",
    "fixtures['xg_away'] = away_xg\n",
    "\n",
    "display(fixtures.head())"
   ]
  },
  {
   "cell_type": "code",
   "execution_count": null,
   "metadata": {},
   "outputs": [],
   "source": [
    "fixtures.isnull().sum()"
   ]
  },
  {
   "cell_type": "code",
   "execution_count": null,
   "metadata": {},
   "outputs": [],
   "source": [
    "# get each team's data on one row\n",
    "fixtures_melt = fixtures.melt(id_vars=['xg_home', 'xg_away', 'team_h_score', 'team_a_score', 'event', 'kickoff_time', 'id'], value_vars=['home_team', 'away_team'])\n",
    "\n",
    "# get team's xG (home xG if at home, away xG if at an away game)\n",
    "fixtures_melt['xG'] = fixtures_melt.apply(lambda x: x['xg_home'] if x['variable']=='home_team' else x['xg_away'], axis=1)\n",
    "fixtures_melt['xGA'] = fixtures_melt.apply(lambda x: x['xg_away'] if x['variable']=='home_team' else x['xg_home'], axis=1)\n",
    "\n",
    "# sort by date\n",
    "fixtures_melt = fixtures_melt.sort_values(by='kickoff_time').reset_index(drop=True)\n",
    "\n",
    "# calculate rolling averages\n",
    "#fixtures_melt['xG_rolling_10'] = fixtures_melt[['value','xG']].groupby(by='value').rolling(10).mean().reset_index().sort_values(by='level_1')['xG'].values\n",
    "for i in [5,9,18,38]:\n",
    "    fixtures_melt[f'xG_ewm_{i}'] = fixtures_melt[['value','xG']].groupby(by='value').ewm(alpha=1/i).mean().reset_index().sort_values(by='level_1')['xG'].values\n",
    "    fixtures_melt[f'xGA_ewm_{i}'] = fixtures_melt[['value','xGA']].groupby(by='value').ewm(alpha=1/i).mean().reset_index().sort_values(by='level_1')['xGA'].values\n",
    "\n",
    "fixtures_melt"
   ]
  },
  {
   "cell_type": "code",
   "execution_count": null,
   "metadata": {},
   "outputs": [],
   "source": [
    "fixtures_melt[fixtures_melt.value=='Fulham'].head()"
   ]
  },
  {
   "cell_type": "code",
   "execution_count": null,
   "metadata": {},
   "outputs": [],
   "source": [
    "df20_21.head()"
   ]
  },
  {
   "cell_type": "code",
   "execution_count": null,
   "metadata": {},
   "outputs": [],
   "source": [
    "# columns to be fetched from team data\n",
    "col_names = [f'xG_ewm_{i}' for i in [5,9,18,38]]\n",
    "col_names += [f'xGA_ewm_{i}' for i in [5,9,18,38]]\n",
    "nr_cols = len(col_names) \n",
    "team_data = []\n",
    "opponent_data = []\n",
    "for ix, row in df20_21.iterrows():\n",
    "    gameweek = row.gameweek\n",
    "    team = row.team_name\n",
    "    games = fixtures_melt[(fixtures_melt.value==team) & (fixtures_melt.event==gameweek)]\n",
    "    if games.shape[0]!=1:\n",
    "        team_data.append( np.array([np.nan]*nr_cols) )\n",
    "        opponent_data.append( np.array([np.nan]*nr_cols) )\n",
    "    elif games.shape[0]==1:\n",
    "        # add team data\n",
    "        team_data.append( games[col_names].values.flatten() )\n",
    "        # find opponent data\n",
    "        home_game = games.variable.values[0]=='home_team'\n",
    "        game_id = games.id.values[0]\n",
    "        if home_game:\n",
    "            opponent_team = fixtures.loc[(fixtures.home_team==team) & (fixtures.event==gameweek), 'away_team'].values[0]\n",
    "        else:\n",
    "            opponent_team = fixtures.loc[(fixtures.away_team==team) & (fixtures.event==gameweek), 'home_team'].values[0]\n",
    "        opponent_games = fixtures_melt[(fixtures_melt.value==opponent_team) & (fixtures_melt.event==gameweek) & (fixtures_melt.id==game_id)]\n",
    "        # add opponent data\n",
    "        opponent_data.append( opponent_games[col_names].values.flatten() )\n",
    "    else:\n",
    "        print(f'Check number of games for ix {ix}!')\n",
    "     \n",
    "\n",
    "new_col_names = ['team_'+col for col in col_names]\n",
    "team_data_df = pd.DataFrame(team_data, columns=new_col_names)\n",
    "new_oppo_col_names = ['opponent_'+col for col in col_names]\n",
    "opponent_data_df = pd.DataFrame(opponent_data, columns=new_oppo_col_names)\n",
    "\n",
    "df20_21 = df20_21.join([team_data_df, opponent_data_df])\n",
    "\n",
    "display(df20_21.head())\n",
    "display(df20_21.tail())\n",
    "display(df20_21.shape)"
   ]
  },
  {
   "cell_type": "code",
   "execution_count": null,
   "metadata": {},
   "outputs": [],
   "source": [
    "cols_list = ['minutes', 'xG']\n",
    "cols_list += [f'xG_week{i+1}' for i in range(3)] \n",
    "cols_list += [f'xGA_week{i+1}' for i in range(3)] \n",
    "cols_list += ['gameweek_xG']\n",
    "cols_list += ['gameweek_xGA']\n",
    "aux = df.loc[df['web_name'].str.contains('Aubameyang'), cols_list].copy()\n",
    "aux['gameweek_minutes'] = aux['minutes'].diff().fillna(aux['minutes'])\n",
    "aux['gameweek_xG_aux'] = aux['xG'].diff().fillna(aux['xG'])\n",
    "\n",
    "display(aux)"
   ]
  },
  {
   "cell_type": "code",
   "execution_count": null,
   "metadata": {},
   "outputs": [],
   "source": []
  },
  {
   "cell_type": "code",
   "execution_count": null,
   "metadata": {},
   "outputs": [],
   "source": []
  },
  {
   "cell_type": "code",
   "execution_count": null,
   "metadata": {},
   "outputs": [],
   "source": []
  },
  {
   "cell_type": "code",
   "execution_count": null,
   "metadata": {},
   "outputs": [],
   "source": []
  },
  {
   "cell_type": "code",
   "execution_count": null,
   "metadata": {},
   "outputs": [],
   "source": [
    "# all data for season 21-22\n",
    "data = []\n",
    "for i in range(38):\n",
    "    filepath = Path(f'../../../season21_22/data/fpl/data_week{i+1}.csv')\n",
    "    gameweek_data = pd.read_csv(filepath, index_col=0)\n",
    "    modification_time = os.path.getmtime(filepath)\n",
    "    modification_datetime = datetime.datetime.fromtimestamp(modification_time)\n",
    "    gameweek_data['modification_datetime'] = modification_datetime\n",
    "    data.append(gameweek_data)\n",
    "\n",
    "data = pd.concat(data, ignore_index=True)\n",
    "display(data.head())"
   ]
  },
  {
   "cell_type": "code",
   "execution_count": null,
   "metadata": {},
   "outputs": [],
   "source": [
    "# all data for season 22-23\n",
    "for i in range(38):\n",
    "    filepath = Path(f'../../../../season22_23/data/fpl_data/fpl_week_{i+1}.csv')\n",
    "    gameweek_data = pd.read_csv(filepath, index_col=0)\n",
    "    modification_time = os.path.getmtime(filepath)\n",
    "    modification_datetime = datetime.datetime.fromtimestamp(modification_time)\n",
    "    gameweek_data['modification_datetime'] = modification_datetime\n",
    "    data.append(gameweek_data)"
   ]
  },
  {
   "cell_type": "code",
   "execution_count": null,
   "metadata": {},
   "outputs": [],
   "source": []
  }
 ],
 "metadata": {
  "kernelspec": {
   "display_name": "venv23-24",
   "language": "python",
   "name": "python3"
  },
  "language_info": {
   "codemirror_mode": {
    "name": "ipython",
    "version": 3
   },
   "file_extension": ".py",
   "mimetype": "text/x-python",
   "name": "python",
   "nbconvert_exporter": "python",
   "pygments_lexer": "ipython3",
   "version": "3.10.6"
  },
  "orig_nbformat": 4
 },
 "nbformat": 4,
 "nbformat_minor": 2
}
