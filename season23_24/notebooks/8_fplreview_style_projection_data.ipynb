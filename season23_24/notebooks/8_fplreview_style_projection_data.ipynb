{
 "cells": [
  {
   "cell_type": "markdown",
   "metadata": {},
   "source": [
    "This notebook is used to create a csv file that includes my point projections in a format similar to fplreview.com. This csv file can then be used for making advanced team optimization plans using Sertalp B. Cay's repo \"fpl-optimization\"."
   ]
  },
  {
   "cell_type": "code",
   "execution_count": null,
   "metadata": {},
   "outputs": [],
   "source": [
    "latest_gameweek = 29"
   ]
  },
  {
   "cell_type": "code",
   "execution_count": null,
   "metadata": {},
   "outputs": [],
   "source": [
    "import numpy as np\n",
    "import pandas as pd\n",
    "from pathlib import Path\n",
    "import json"
   ]
  },
  {
   "cell_type": "markdown",
   "metadata": {},
   "source": [
    "# Save team data"
   ]
  },
  {
   "cell_type": "code",
   "execution_count": null,
   "metadata": {},
   "outputs": [],
   "source": [
    "# get login credentials for fetching team data\n",
    "file_path = Path('../../login_credentials/fpl_login.json')\n",
    "login_credentials = pd.read_json(file_path, typ='series')"
   ]
  },
  {
   "cell_type": "code",
   "execution_count": null,
   "metadata": {},
   "outputs": [],
   "source": [
    "# utility function for fetching team data\n",
    "from src.utils import fetch_my_team"
   ]
  },
  {
   "cell_type": "code",
   "execution_count": null,
   "metadata": {},
   "outputs": [],
   "source": [
    "# fetch my team data\n",
    "my_team = fetch_my_team(login_credentials.user_name, login_credentials.password, login_credentials.team_id)"
   ]
  },
  {
   "cell_type": "code",
   "execution_count": null,
   "metadata": {},
   "outputs": [],
   "source": [
    "# save team data\n",
    "file_path = Path('../data/team.json')\n",
    "with open(file_path, 'w') as f:\n",
    "    json.dump(my_team, f)"
   ]
  },
  {
   "cell_type": "markdown",
   "metadata": {},
   "source": [
    "# Edit projections into fplreview format \n",
    "### (to be used with fpl-optimization repo solver)"
   ]
  },
  {
   "cell_type": "code",
   "execution_count": null,
   "metadata": {},
   "outputs": [],
   "source": [
    "filepath = Path(f'../data/predictions/gameweek{latest_gameweek}.csv')\n",
    "projections = pd.read_csv(filepath, index_col=0)\n",
    "display(projections.head())\n",
    "display(projections.shape)"
   ]
  },
  {
   "cell_type": "code",
   "execution_count": null,
   "metadata": {},
   "outputs": [],
   "source": [
    "filepath = Path('../data/fpl_df.csv')\n",
    "fpl_df = pd.read_csv(filepath, index_col=0, low_memory=False)\n",
    "fpl_df = fpl_df[fpl_df.season=='23-24']\n",
    "display(fpl_df.head())\n",
    "display(fpl_df.shape)"
   ]
  },
  {
   "cell_type": "code",
   "execution_count": null,
   "metadata": {},
   "outputs": [],
   "source": [
    "df = fpl_df.groupby('name').last().reset_index()[['id', 'name','points_per_game', 'total_points',]]\n",
    "#df['id'] = df.id.astype(int)\n",
    "df['games_played'] = np.round(np.where(df['points_per_game']!=0, df['total_points'] / df['points_per_game'], 0),0)\n",
    "display(df.head())\n",
    "display(df.shape)"
   ]
  },
  {
   "cell_type": "code",
   "execution_count": null,
   "metadata": {},
   "outputs": [],
   "source": [
    "# drop duplicate players (some players get new spelling for their name during the season causing duplicates)\n",
    "duplicate_ids = df.loc[df.id.duplicated(), 'id'].unique()\n",
    "for id in duplicate_ids:\n",
    "    ix = df.loc[df.id==id, 'games_played'].idxmin()\n",
    "    df = df.drop(ix)\n",
    "display(df.head())\n",
    "display(df.shape)"
   ]
  },
  {
   "cell_type": "code",
   "execution_count": null,
   "metadata": {},
   "outputs": [],
   "source": [
    "# drop unneccesary columns\n",
    "df = df.drop(['points_per_game', 'total_points','games_played'], axis=1)\n",
    "display(df.head())\n",
    "display(df.shape)"
   ]
  },
  {
   "cell_type": "code",
   "execution_count": null,
   "metadata": {},
   "outputs": [],
   "source": [
    "# merge id info to projections\n",
    "projections = projections.merge(df, on='name', how='left')\n",
    "#projections.head()"
   ]
  },
  {
   "cell_type": "code",
   "execution_count": null,
   "metadata": {},
   "outputs": [],
   "source": [
    "# add xMins variable that is needed later\n",
    "projections['xMins'] = 90"
   ]
  },
  {
   "cell_type": "code",
   "execution_count": null,
   "metadata": {},
   "outputs": [],
   "source": [
    "projections[['id', 'expected_points', 'xMins', 'gameweek']]"
   ]
  },
  {
   "cell_type": "code",
   "execution_count": null,
   "metadata": {},
   "outputs": [],
   "source": [
    "projections_pivot = (\n",
    "    projections\n",
    "    .pivot_table(\n",
    "    columns=['gameweek',],\n",
    "    index='id', \n",
    "    values=['expected_points','xMins'], \n",
    "    aggfunc='sum'\n",
    "    )\n",
    ")\n",
    "\n",
    "projections_pivot.head()"
   ]
  },
  {
   "cell_type": "code",
   "execution_count": null,
   "metadata": {},
   "outputs": [],
   "source": [
    "new_cols = []\n",
    "for col in projections_pivot.columns:\n",
    "    if col[0] == 'expected_points':\n",
    "        new_col = str(col[1]) + '_Pts'\n",
    "        new_cols.append(new_col)\n",
    "    elif col[0] == 'xMins':\n",
    "        new_col = str(col[1]) + '_xMins'\n",
    "        new_cols.append(new_col)\n",
    "\n",
    "projections_pivot.columns = new_cols\n",
    "projections_pivot = projections_pivot.reset_index()\n",
    "projections_pivot = projections_pivot.rename(columns={'id':'ID'})\n",
    "\n",
    "projections_pivot.head()"
   ]
  },
  {
   "cell_type": "code",
   "execution_count": null,
   "metadata": {},
   "outputs": [],
   "source": [
    "filepath = Path('../data/projections_pivot_table.csv')\n",
    "projections_pivot.to_csv(filepath)"
   ]
  },
  {
   "cell_type": "code",
   "execution_count": null,
   "metadata": {},
   "outputs": [],
   "source": [
    "projections_pivot[projections_pivot.ID==19]"
   ]
  },
  {
   "cell_type": "code",
   "execution_count": null,
   "metadata": {},
   "outputs": [],
   "source": []
  }
 ],
 "metadata": {
  "kernelspec": {
   "display_name": "venv23-24",
   "language": "python",
   "name": "python3"
  },
  "language_info": {
   "codemirror_mode": {
    "name": "ipython",
    "version": 3
   },
   "file_extension": ".py",
   "mimetype": "text/x-python",
   "name": "python",
   "nbconvert_exporter": "python",
   "pygments_lexer": "ipython3",
   "version": "3.10.13"
  }
 },
 "nbformat": 4,
 "nbformat_minor": 2
}
