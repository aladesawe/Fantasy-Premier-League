{
 "cells": [
  {
   "cell_type": "code",
   "execution_count": null,
   "metadata": {},
   "outputs": [],
   "source": [
    "latest_gameweek = 2"
   ]
  },
  {
   "cell_type": "code",
   "execution_count": null,
   "metadata": {},
   "outputs": [],
   "source": [
    "import pandas as pd\n",
    "import numpy as np\n",
    "\n",
    "from pathlib import Path\n",
    "import os\n",
    "import datetime as dt\n",
    "import pickle\n",
    "import json\n",
    "import requests\n",
    "from src.utils import fetch_latest_fpl_data\n",
    "\n",
    "import matplotlib.pyplot as plt\n",
    "import plotly.express as px\n",
    "\n",
    "pd.set_option('display.max_columns', 500)\n",
    "pd.set_option('display.max_rows', 100)"
   ]
  },
  {
   "cell_type": "markdown",
   "metadata": {},
   "source": [
    "# Fetch new data"
   ]
  },
  {
   "cell_type": "code",
   "execution_count": null,
   "metadata": {},
   "outputs": [],
   "source": [
    "# teams for season 23-24\n",
    "teams = ['Arsenal', 'Aston Villa', 'Bournemouth', 'Brentford', 'Brighton',\n",
    "         'Burnley', 'Chelsea', 'Crystal Palace', 'Everton', 'Fulham',\n",
    "         'Liverpool', 'Luton', 'Manchester City', 'Manchester Utd',\n",
    "         'Newcastle Utd', 'Nottingham Forest', 'Sheffield Utd', 'Tottenham',\n",
    "         'West Ham', 'Wolves']"
   ]
  },
  {
   "cell_type": "markdown",
   "metadata": {},
   "source": [
    "## FPL player data"
   ]
  },
  {
   "cell_type": "code",
   "execution_count": null,
   "metadata": {},
   "outputs": [],
   "source": [
    "# fetch FPL data online\n",
    "fpl_online_data = json.loads(requests.get('https://fantasy.premierleague.com/api/bootstrap-static/').text)\n",
    "fpl_online_df = pd.DataFrame(fpl_online_data['elements'])\n",
    "fpl_online_df['team_name'] = [teams[i] for i in fpl_online_df['team']-1]\n",
    "fpl_online_df['name'] = fpl_online_df.apply(lambda x: x['first_name'] + ' ' + x['second_name'], axis=1)\n",
    "fpl_online_df"
   ]
  },
  {
   "cell_type": "code",
   "execution_count": null,
   "metadata": {},
   "outputs": [],
   "source": [
    "# CREATE NEW DATA SET IF THERE IS NEW DATA AVAILABLE AND SAVE TO FILE\n",
    "\n",
    "# fetch latest fpl data from data folder\n",
    "#folder_path_str = '../data/fpl/'\n",
    "#folder_path = Path(folder_path_str)\n",
    "#files = os.listdir(folder_path)\n",
    "# drop non-csv files (e.g. DS_Store)\n",
    "#files = [file for file in files if file.endswith('.csv')]\n",
    "# sort files and pick last one\n",
    "#files = np.sort(files)\n",
    "#file = files[-1]\n",
    "#full_path = folder_path_str + file\n",
    "#old_data = pd.read_csv(full_path, index_col=0)\n",
    "\n",
    "old_data = fetch_latest_fpl_data()\n",
    "\n",
    "# only take players who have played, i.e., minutes>0\n",
    "new_data = fpl_online_df[fpl_online_df.minutes>0].copy()\n",
    "# players who have now played but had not previously played at all\n",
    "new_data_1 = new_data[~new_data.name.isin(old_data.name.unique())].copy()\n",
    "# players whose minutes are higher now than previously\n",
    "aux = new_data[new_data.name.isin(old_data.name.unique())].copy()\n",
    "new_rows = []\n",
    "for ix, row in aux.iterrows():\n",
    "    player_name = row['name']\n",
    "    change_in_minutes = row['minutes'] - old_data.loc[old_data.name==player_name, 'minutes'].iloc[-1]\n",
    "    if change_in_minutes > 0:\n",
    "        new_rows.append(row)\n",
    "if len(new_rows) > 0:\n",
    "    new_data_2 = pd.DataFrame(new_rows)\n",
    "else:\n",
    "    new_data_2 = pd.DataFrame() # empty df\n",
    "\n",
    "# overwrites old new_data variable\n",
    "new_data = pd.concat([new_data_1, new_data_2], ignore_index=True)\n",
    "display(new_data)"
   ]
  },
  {
   "cell_type": "code",
   "execution_count": null,
   "metadata": {},
   "outputs": [],
   "source": [
    "# create new data set combining old and new data and save to file\n",
    "if new_data.shape[0] > 0:\n",
    "\n",
    "    # add info\n",
    "    new_data['gameweek'] = latest_gameweek\n",
    "    new_data['season'] = '23-24'\n",
    "    time_now = dt.datetime.now()\n",
    "    new_data['data_retrieved_datetime'] = time_now\n",
    "    display(new_data)\n",
    "\n",
    "    full_data = pd.concat([old_data, new_data], ignore_index=True)\n",
    "    print(f'Full data shape: {full_data.shape}')\n",
    "    \n",
    "    # save new full data\n",
    "    path = Path('../data/fpl/data_' + str(time_now.strftime(\"%Y%m%d-%H%M%S\")) + '.csv')\n",
    "    full_data.to_csv(path)"
   ]
  },
  {
   "cell_type": "markdown",
   "metadata": {},
   "source": [
    "## FPL fixtures data"
   ]
  },
  {
   "cell_type": "code",
   "execution_count": null,
   "metadata": {},
   "outputs": [],
   "source": [
    "# get FPL fixtures data\n",
    "fpl_fixtures_data = json.loads(requests.get('https://fantasy.premierleague.com/api/fixtures/').text)\n",
    "fpl_fixtures = pd.DataFrame(fpl_fixtures_data)\n",
    "fpl_fixtures['home_team'] = [teams[i] for i in fpl_fixtures['team_h']-1]\n",
    "fpl_fixtures['away_team'] = [teams[i] for i in fpl_fixtures['team_a']-1]\n",
    "fpl_fixtures"
   ]
  },
  {
   "cell_type": "code",
   "execution_count": null,
   "metadata": {},
   "outputs": [],
   "source": [
    "filepath = Path('../data/fixtures/fpl_fixtures.csv')\n",
    "fpl_fixtures.to_csv(filepath)"
   ]
  },
  {
   "cell_type": "markdown",
   "metadata": {},
   "source": [
    "## FBRef fixtures"
   ]
  },
  {
   "cell_type": "code",
   "execution_count": null,
   "metadata": {},
   "outputs": [],
   "source": [
    "data = pd.read_html('https://fbref.com/en/comps/9/schedule/Premier-League-Scores-and-Fixtures')\n",
    "fbref_fixtures = data[0]\n",
    "fbref_fixtures = fbref_fixtures[fbref_fixtures['xG'].notnull()]\n",
    "fbref_fixtures = fbref_fixtures.rename(columns={'xG':'xG_home', 'xG.1':'xG_away'})\n",
    "display(fbref_fixtures)"
   ]
  },
  {
   "cell_type": "code",
   "execution_count": null,
   "metadata": {},
   "outputs": [],
   "source": [
    "filepath = Path('../data/fixtures/fbref_fixtures.csv')\n",
    "fbref_fixtures.to_csv(filepath)"
   ]
  },
  {
   "cell_type": "markdown",
   "metadata": {},
   "source": []
  }
 ],
 "metadata": {
  "kernelspec": {
   "display_name": "venv23-24",
   "language": "python",
   "name": "python3"
  },
  "language_info": {
   "codemirror_mode": {
    "name": "ipython",
    "version": 3
   },
   "file_extension": ".py",
   "mimetype": "text/x-python",
   "name": "python",
   "nbconvert_exporter": "python",
   "pygments_lexer": "ipython3",
   "version": "3.10.6"
  },
  "orig_nbformat": 4
 },
 "nbformat": 4,
 "nbformat_minor": 2
}
