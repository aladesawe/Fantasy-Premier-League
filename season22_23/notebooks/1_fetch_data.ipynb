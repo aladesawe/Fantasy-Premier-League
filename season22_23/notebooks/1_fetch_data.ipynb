{
 "cells": [
  {
   "attachments": {},
   "cell_type": "markdown",
   "id": "af9ae855",
   "metadata": {},
   "source": [
    "TO DO\n",
    "- Develop code to handle no game / double game gameweeks (see, e.g. funtion get_was_home)"
   ]
  },
  {
   "cell_type": "code",
   "execution_count": null,
   "id": "2b737499",
   "metadata": {},
   "outputs": [],
   "source": [
    "# number of latest gameweek\n",
    "gameweek = 38\n",
    "# check number of total players from fpl's site\n",
    "total_players = 11447257"
   ]
  },
  {
   "cell_type": "code",
   "execution_count": null,
   "id": "e5bb2821",
   "metadata": {},
   "outputs": [],
   "source": [
    "import pandas as pd\n",
    "import numpy as np\n",
    "\n",
    "import json\n",
    "import requests\n",
    "import sys\n",
    "\n",
    "# allow more data columns to be shown than by default\n",
    "pd.set_option('display.max_columns', 500)"
   ]
  },
  {
   "cell_type": "code",
   "execution_count": null,
   "id": "d2695789",
   "metadata": {},
   "outputs": [],
   "source": [
    "sys.path.append('..')"
   ]
  },
  {
   "cell_type": "code",
   "execution_count": null,
   "id": "7d3d5a09",
   "metadata": {},
   "outputs": [],
   "source": [
    "import py_scripts.download_data as download_data"
   ]
  },
  {
   "attachments": {},
   "cell_type": "markdown",
   "id": "be150f72",
   "metadata": {},
   "source": [
    "# Fetch FPL data"
   ]
  },
  {
   "cell_type": "code",
   "execution_count": null,
   "id": "be27ac70",
   "metadata": {},
   "outputs": [],
   "source": [
    "# for some reason, fpl team numbers are otherwise alphabetic, except Leeds comes after Leicester...\n",
    "teams = ['Arsenal', 'Aston Villa', 'Bournemouth', 'Brentford', 'Brighton',\n",
    "        'Chelsea', 'Crystal Palace', 'Everton', 'Fulham', 'Leicester City', 'Leeds United',\n",
    "         'Liverpool', 'Manchester City', 'Manchester Utd', 'Newcastle Utd',\n",
    "       'Nottingham Forest', 'Southampton', 'Tottenham', 'West Ham','Wolves']"
   ]
  },
  {
   "cell_type": "code",
   "execution_count": null,
   "id": "e906d6b1",
   "metadata": {
    "scrolled": true
   },
   "outputs": [],
   "source": [
    "# fetch FPL data online\n",
    "fpl_orig_data = json.loads(requests.get('https://fantasy.premierleague.com/api/bootstrap-static/').text)\n",
    "fpl_data = pd.DataFrame(fpl_orig_data['elements'])\n",
    "#fpl_data.set_index('id',inplace=True)\n",
    "fpl_data['season'] = '2022-23'\n",
    "fpl_data['name'] = fpl_data['first_name'] + ' ' + fpl_data['second_name']\n",
    "# normalize spelling of names\n",
    "fpl_data['name'] = fpl_data['name'].str.normalize('NFD').str.encode('ascii','ignore').str.decode('ascii')\n",
    "#fpl_data['name'] = fpl_data['name'].map(player_name_dict).fillna(fpl_data['name'])\n",
    "position_dict={1:'GK', 2:'DEF', 3:'MID', 4:'FWD'}\n",
    "fpl_data['position'] = fpl_data['element_type'].map(position_dict)\n",
    "# change team number to team name\n",
    "fpl_data['team'] = [teams[i-1] for i in fpl_data['team']]\n",
    "fpl_data['GW'] = gameweek\n",
    "fpl_data['value'] = fpl_data['now_cost']/10.0\n",
    "fpl_data['selected'] = (fpl_data['selected_by_percent'].astype(float) / 100) * total_players\n",
    "fpl_data['transfers_balance'] = fpl_data['transfers_in_event'] - fpl_data['transfers_out_event']\n",
    "fpl_data"
   ]
  },
  {
   "cell_type": "code",
   "execution_count": null,
   "id": "8a6cfbe7",
   "metadata": {
    "scrolled": true
   },
   "outputs": [],
   "source": [
    "# get FPL fixtures data\n",
    "fpl_fixtures_data = json.loads(requests.get('https://fantasy.premierleague.com/api/fixtures/').text)\n",
    "fpl_fixtures = pd.DataFrame(fpl_fixtures_data)\n",
    "fpl_fixtures['home_team'] = [teams[i] for i in fpl_fixtures['team_h']-1]\n",
    "fpl_fixtures['away_team'] = [teams[i] for i in fpl_fixtures['team_a']-1]\n",
    "fpl_fixtures"
   ]
  },
  {
   "cell_type": "code",
   "execution_count": null,
   "id": "5a1b8995",
   "metadata": {},
   "outputs": [],
   "source": [
    "def get_opponent(my_row, fpl_fixtures, gameweek):\n",
    "    my_team = my_row['team']\n",
    "    # my_team is the home team\n",
    "    if fpl_fixtures.loc[(fpl_fixtures['event']==gameweek) & (fpl_fixtures['home_team']==my_team)].shape[0]==1:\n",
    "        opponent_team = fpl_fixtures.loc[(fpl_fixtures['event']==gameweek) & (fpl_fixtures['home_team']==my_team), \\\n",
    "                                         'away_team']\n",
    "    # my_team is the away team\n",
    "    if fpl_fixtures.loc[(fpl_fixtures['event']==gameweek) & (fpl_fixtures['away_team']==my_team)].shape[0]==1:\n",
    "        opponent_team = fpl_fixtures.loc[(fpl_fixtures['event']==gameweek) & (fpl_fixtures['away_team']==my_team), \\\n",
    "                                         'home_team']\n",
    "    if fpl_fixtures.loc[(fpl_fixtures['event']==gameweek) & ( (fpl_fixtures['home_team']==my_team) | \n",
    "                      (fpl_fixtures['away_team']==my_team) )].shape[0]!=1:\n",
    "        player = my_row['name']\n",
    "        print(f'Number of games not equal to one for {player} ({my_team})')\n",
    "        return np.nan\n",
    "\n",
    "    return opponent_team.values[0]"
   ]
  },
  {
   "cell_type": "code",
   "execution_count": null,
   "id": "77d79508",
   "metadata": {},
   "outputs": [],
   "source": [
    "def get_kickoff_time(my_row, fpl_fixtures, gameweek):\n",
    "    my_team = my_row['team']\n",
    "    kickoff_time = fpl_fixtures.loc[(fpl_fixtures['event']==gameweek) & ( (fpl_fixtures['home_team']==my_team) | \n",
    "                      (fpl_fixtures['away_team']==my_team) ), 'kickoff_time']\n",
    "    if kickoff_time.shape[0]==1:\n",
    "        return kickoff_time.values[0]\n",
    "    else:\n",
    "        player = my_row['name']\n",
    "        print(f'Kickoff_time shape not one for {player} ({my_team})')\n",
    "        return np.nan"
   ]
  },
  {
   "cell_type": "code",
   "execution_count": null,
   "id": "333839f6",
   "metadata": {},
   "outputs": [],
   "source": [
    "def get_was_home(my_row, fpl_fixtures, gameweek):\n",
    "    my_team = my_row['team']\n",
    "    if fpl_fixtures.loc[(fpl_fixtures['event']==gameweek) & (fpl_fixtures['home_team']==my_team)].shape[0]==1:\n",
    "        return 1\n",
    "    elif fpl_fixtures.loc[(fpl_fixtures['event']==gameweek) & (fpl_fixtures['away_team']==my_team)].shape[0]==1:\n",
    "        return 0\n",
    "    else:\n",
    "        player = my_row['name']\n",
    "        print(f'Error in get_was_home for {player} ({my_team})')\n",
    "        return np.nan"
   ]
  },
  {
   "cell_type": "code",
   "execution_count": null,
   "id": "affc202f",
   "metadata": {
    "scrolled": true
   },
   "outputs": [],
   "source": [
    "fpl_data['opp_team_name'] = fpl_data.apply(lambda x: get_opponent(x, fpl_fixtures, gameweek), axis=1)\n",
    "fpl_data['kickoff_time'] = fpl_data.apply(lambda x: get_kickoff_time(x, fpl_fixtures, gameweek), axis=1)\n",
    "fpl_data['was_home'] = fpl_data.apply(lambda x: get_was_home(x, fpl_fixtures, gameweek), axis=1)\n",
    "fpl_data"
   ]
  },
  {
   "cell_type": "code",
   "execution_count": null,
   "id": "f3c389bb",
   "metadata": {},
   "outputs": [],
   "source": [
    "fpl_data.to_csv(f'../data/fpl_data/fpl_week_{gameweek}.csv')\n",
    "fpl_fixtures.to_csv('../data/fpl_fixtures.csv')"
   ]
  },
  {
   "cell_type": "code",
   "execution_count": null,
   "id": "8da5540f",
   "metadata": {},
   "outputs": [],
   "source": [
    "difference_columns = [\n",
    "    'total_points', 'assists', 'bonus', 'bps', 'clean_sheets', 'creativity', \n",
    "    'goals_conceded', 'goals_scored', 'ict_index', 'influence', 'minutes', 'own_goals', 'penalties_missed',\n",
    "    'penalties_saved', 'saves', 'threat', 'yellow_cards', 'red_cards'\n",
    "]"
   ]
  },
  {
   "cell_type": "code",
   "execution_count": null,
   "id": "91ff3adc",
   "metadata": {},
   "outputs": [],
   "source": [
    "def calculate_difference_to_previous_gameweek(my_row):\n",
    "    my_id = my_row['id']\n",
    "    if my_id in old_ids:\n",
    "        for my_column in difference_columns:\n",
    "            my_row[my_column] = (my_row[my_column] -\n",
    "                                     fpl_previous.loc[fpl_previous['id']==my_id, my_column]).values[0]\n",
    "        return my_row\n",
    "    elif my_id in new_ids:\n",
    "        # for new players, these should be the same already, but just in case\n",
    "        my_row['total_points'] = my_row['event_points']\n",
    "        return my_row\n",
    "    else:\n",
    "        print(f'Player id neither old or new: {my_id}')\n",
    "        return np.nan"
   ]
  },
  {
   "cell_type": "code",
   "execution_count": null,
   "id": "6a07496d",
   "metadata": {
    "scrolled": true
   },
   "outputs": [],
   "source": [
    "# create a csv that contains each week's fpl data in one table\n",
    "if gameweek==1:\n",
    "    fpl_data['total_points'] = fpl_data['event_points']\n",
    "    fpl_data[fpl_data['minutes']>0].to_csv('../data/fpl_data.csv')\n",
    "    print(f'Gameweek {gameweek} data saved.')\n",
    "elif gameweek>1:\n",
    "    fpl_previous = pd.read_csv(f'../data/fpl_data/fpl_week_{gameweek-1}.csv')\n",
    "    new_ids = set(fpl_data['id']).difference(set(fpl_previous['id']))\n",
    "    old_ids = set(fpl_data['id']).intersection(set(fpl_previous['id']))\n",
    "    # convert all difference columns to floats\n",
    "    fpl_data[difference_columns] = fpl_data[difference_columns].astype(float)\n",
    "    fpl_gameweek = fpl_data.apply(lambda x: calculate_difference_to_previous_gameweek(x), axis=1)\n",
    "    fpl_gameweek = fpl_gameweek[fpl_gameweek['minutes']>0]\n",
    "    print(f'Number of players that played this week: {fpl_gameweek.shape[0]}')\n",
    "    fpl_previous_weeks = pd.read_csv('../data/fpl_data.csv', index_col=0)\n",
    "    print(f'Size of fpl_previous_weeks: {fpl_previous_weeks.shape[0]}')\n",
    "    #fpl_previous_weeks = fpl_previous_weeks[fpl_previous_weeks['GW']<gameweek]\n",
    "    fpl_all_weeks = pd.concat([fpl_previous_weeks, fpl_gameweek], axis=0)\n",
    "    print(f'Size of fpl_all_weeks: {fpl_all_weeks.shape[0]}')\n",
    "    display(fpl_all_weeks)\n",
    "else:\n",
    "    print('Check gameweek!')"
   ]
  },
  {
   "cell_type": "code",
   "execution_count": null,
   "id": "1662076a",
   "metadata": {},
   "outputs": [],
   "source": [
    "# save data\n",
    "if gameweek>1:\n",
    "    fpl_all_weeks.to_csv('../data/fpl_data.csv')"
   ]
  },
  {
   "attachments": {},
   "cell_type": "markdown",
   "id": "a2d55f3a",
   "metadata": {},
   "source": [
    "# Fetch fbref data"
   ]
  },
  {
   "cell_type": "code",
   "execution_count": null,
   "id": "40a277f8",
   "metadata": {
    "scrolled": true
   },
   "outputs": [],
   "source": [
    "url = 'https://fbref.com/en/comps/9/schedule/Premier-League-Scores-and-Fixtures'\n",
    "links = download_data.get_match_report_links(url)\n",
    "links"
   ]
  },
  {
   "cell_type": "code",
   "execution_count": null,
   "id": "c7dbd027",
   "metadata": {
    "scrolled": true
   },
   "outputs": [],
   "source": [
    "# check which matches (links) are already collected\n",
    "with open('../data/fbref_fixture_links.txt') as f:\n",
    "    old_links = f.read().splitlines()\n",
    "old_links"
   ]
  },
  {
   "cell_type": "code",
   "execution_count": null,
   "id": "68344750",
   "metadata": {},
   "outputs": [],
   "source": [
    "# get links to games for which data has not been collected yet\n",
    "new_links = [link for link in links if link not in old_links]\n",
    "new_links"
   ]
  },
  {
   "cell_type": "code",
   "execution_count": null,
   "id": "50455ee0",
   "metadata": {
    "scrolled": true
   },
   "outputs": [],
   "source": [
    "fbref_data = download_data.download_match_report_data(new_links)\n",
    "# normalize spelling of player names\n",
    "fbref_data[('General','Player')] = fbref_data[('General','Player')].str.normalize('NFD').str.encode('ascii','ignore').str.decode('ascii')\n",
    "# map certain player names such that they are the same for both fpl and fbref data\n",
    "#fbref_data[('General','Player')] = fbref_data[('General','Player')].map(player_name_dict).fillna(fbref_data[('General','Player')])\n",
    "fbref_data"
   ]
  },
  {
   "cell_type": "code",
   "execution_count": null,
   "id": "27f45d4d",
   "metadata": {
    "scrolled": true
   },
   "outputs": [],
   "source": [
    "# change column name to align the new Opta data with the old Statsbomb data\n",
    "fbref_data.columns = fbref_data.columns.values\n",
    "fbref_data.columns = pd.MultiIndex.from_tuples(fbref_data.rename(columns={('Expected', 'xAG'): ('Expected', 'xA')}))\n",
    "fbref_data"
   ]
  },
  {
   "cell_type": "code",
   "execution_count": null,
   "id": "a7c5dd1b",
   "metadata": {
    "scrolled": true
   },
   "outputs": [],
   "source": [
    "# save links that have been downloaded already so that in the future one can only fetch data from new games\n",
    "with open('../data/fbref_fixture_links.txt', 'w') as f:\n",
    "    f.write('\\n'.join(links))"
   ]
  },
  {
   "cell_type": "code",
   "execution_count": null,
   "id": "30d59785",
   "metadata": {},
   "outputs": [],
   "source": [
    "old_fbref_data = pd.read_csv('../data/fbref_data.csv', index_col=0, header=[0,1])\n",
    "#old_fbref_data.to_csv(f'../data/fbref_data_backup_week{gameweek}.csv')"
   ]
  },
  {
   "cell_type": "code",
   "execution_count": null,
   "id": "0ae77d80",
   "metadata": {},
   "outputs": [],
   "source": [
    "fbref_data = pd.concat([old_fbref_data, fbref_data], axis=0)\n",
    "print(f'Number of rows in fbref_data: {fbref_data.shape[0]}.')"
   ]
  },
  {
   "cell_type": "code",
   "execution_count": null,
   "id": "777d176c",
   "metadata": {},
   "outputs": [],
   "source": [
    "fbref_data.to_csv(f'../data/fbref_data.csv')"
   ]
  },
  {
   "attachments": {},
   "cell_type": "markdown",
   "id": "3cecca3a",
   "metadata": {},
   "source": [
    "## 22-23 Match results"
   ]
  },
  {
   "cell_type": "code",
   "execution_count": null,
   "id": "5f3c1df0",
   "metadata": {
    "scrolled": true
   },
   "outputs": [],
   "source": [
    "url = 'https://fbref.com/en/comps/9/schedule/Premier-League-Scores-and-Fixtures'\n",
    "data = pd.read_html(url)\n",
    "results = data[0].dropna(axis=0, how='all').copy()\n",
    "results"
   ]
  },
  {
   "cell_type": "code",
   "execution_count": null,
   "id": "cf934b85",
   "metadata": {},
   "outputs": [],
   "source": [
    "# fix Nott Forest team name\n",
    "my_dict = {\"Nott'ham Forest\":'Nottingham Forest'}\n",
    "results['Home'] = results['Home'].map(my_dict).fillna(results['Home'])\n",
    "results['Away'] = results['Away'].map(my_dict).fillna(results['Away'])"
   ]
  },
  {
   "cell_type": "code",
   "execution_count": null,
   "id": "103b32e0",
   "metadata": {},
   "outputs": [],
   "source": [
    "results.to_csv('../data/PL_results_season22_23.csv')"
   ]
  },
  {
   "cell_type": "code",
   "execution_count": null,
   "id": "84a937fe",
   "metadata": {},
   "outputs": [],
   "source": []
  },
  {
   "cell_type": "code",
   "execution_count": null,
   "id": "417b8417",
   "metadata": {},
   "outputs": [],
   "source": []
  }
 ],
 "metadata": {
  "kernelspec": {
   "display_name": "Python 3 (ipykernel)",
   "language": "python",
   "name": "python3"
  },
  "language_info": {
   "codemirror_mode": {
    "name": "ipython",
    "version": 3
   },
   "file_extension": ".py",
   "mimetype": "text/x-python",
   "name": "python",
   "nbconvert_exporter": "python",
   "pygments_lexer": "ipython3",
   "version": "3.8.8"
  }
 },
 "nbformat": 4,
 "nbformat_minor": 5
}
