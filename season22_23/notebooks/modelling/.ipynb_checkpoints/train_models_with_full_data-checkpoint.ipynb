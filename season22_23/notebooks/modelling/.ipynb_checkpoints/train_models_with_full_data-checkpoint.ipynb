{
 "cells": [
  {
   "cell_type": "code",
   "execution_count": 1,
   "id": "2038c22f",
   "metadata": {},
   "outputs": [
    {
     "name": "stderr",
     "output_type": "stream",
     "text": [
      "/Users/jaakkotoivonen/opt/anaconda3/lib/python3.8/site-packages/xgboost/compat.py:36: FutureWarning: pandas.Int64Index is deprecated and will be removed from pandas in a future version. Use pandas.Index with the appropriate dtype instead.\n",
      "  from pandas import MultiIndex, Int64Index\n"
     ]
    }
   ],
   "source": [
    "import numpy as np\n",
    "import pandas as pd\n",
    "from xgboost import XGBRegressor\n",
    "from sklearn.metrics import r2_score, mean_squared_error, mean_absolute_error\n",
    "import shap\n",
    "\n",
    "pd.set_option('display.max_columns', 501)\n",
    "pd.set_option('display.max_rows', 501)"
   ]
  },
  {
   "cell_type": "code",
   "execution_count": 8,
   "id": "abfd07e5",
   "metadata": {},
   "outputs": [],
   "source": [
    "def train_model(xgb_params, fit_params, training_X, training_y, testing_X, testing_y):\n",
    "\n",
    "    # fit model\n",
    "    model = XGBRegressor(**xgb_params)\n",
    "    model.fit(training_X, training_y, eval_set=[(testing_X, testing_y)], **fit_params)\n",
    "\n",
    "    # metrics\n",
    "    predictions_test = model.predict(testing_X)\n",
    "    rmse_test = mean_squared_error(testing_y, predictions_test, squared=False)\n",
    "    mae_test = mean_absolute_error(testing_y, predictions_test)\n",
    "    r2_test = r2_score(testing_y, predictions_test)\n",
    "    print(f'Test RMSE: {rmse_test}')\n",
    "    print(f'Test MAE: {mae_test}')\n",
    "    print(f'Test R2: {r2_test}')\n",
    "    \n",
    "    return model"
   ]
  },
  {
   "cell_type": "code",
   "execution_count": 3,
   "id": "818b7c68",
   "metadata": {},
   "outputs": [],
   "source": [
    "# get the models trained with three years of data\n",
    "xgb_models = []\n",
    "for i in range(1,11):\n",
    "    xgb = XGBRegressor()\n",
    "    xgb.load_model(f'../../models/xgb_regression_game{i}.json')\n",
    "    xgb_models.append(xgb)"
   ]
  },
  {
   "cell_type": "code",
   "execution_count": 9,
   "id": "65f6e5d6",
   "metadata": {},
   "outputs": [
    {
     "ename": "NameError",
     "evalue": "name 'j' is not defined",
     "output_type": "error",
     "traceback": [
      "\u001b[0;31m---------------------------------------------------------------------------\u001b[0m",
      "\u001b[0;31mNameError\u001b[0m                                 Traceback (most recent call last)",
      "Input \u001b[0;32mIn [9]\u001b[0m, in \u001b[0;36m<cell line: 1>\u001b[0;34m()\u001b[0m\n\u001b[0;32m----> 1\u001b[0m data \u001b[38;5;241m=\u001b[39m pd\u001b[38;5;241m.\u001b[39mread_csv(\u001b[38;5;124mf\u001b[39m\u001b[38;5;124m'\u001b[39m\u001b[38;5;124m../../data/data_for_modelling_game_\u001b[39m\u001b[38;5;132;01m{\u001b[39;00mj\u001b[38;5;132;01m}\u001b[39;00m\u001b[38;5;124m.csv\u001b[39m\u001b[38;5;124m'\u001b[39m, index_col\u001b[38;5;241m=\u001b[39m\u001b[38;5;241m0\u001b[39m)\n\u001b[1;32m      2\u001b[0m data\n",
      "\u001b[0;31mNameError\u001b[0m: name 'j' is not defined"
     ]
    }
   ],
   "source": [
    "data = pd.read_csv(f'../../data/data_for_modelling_game_{j}.csv', index_col=0)\n",
    "data"
   ]
  },
  {
   "cell_type": "code",
   "execution_count": 7,
   "id": "bf8f8268",
   "metadata": {
    "scrolled": true
   },
   "outputs": [
    {
     "data": {
      "text/plain": [
       "{'objective': 'reg:squarederror',\n",
       " 'base_score': 0.5,\n",
       " 'booster': 'gbtree',\n",
       " 'colsample_bylevel': 1,\n",
       " 'colsample_bynode': 1,\n",
       " 'colsample_bytree': 0.8254703688775018,\n",
       " 'enable_categorical': False,\n",
       " 'gamma': 0.25226144515542404,\n",
       " 'gpu_id': -1,\n",
       " 'importance_type': None,\n",
       " 'interaction_constraints': '',\n",
       " 'learning_rate': 0.06285391203893921,\n",
       " 'max_delta_step': 0,\n",
       " 'max_depth': 3,\n",
       " 'min_child_weight': 1.8725484088145359,\n",
       " 'missing': nan,\n",
       " 'monotone_constraints': '()',\n",
       " 'n_estimators': 200,\n",
       " 'n_jobs': 8,\n",
       " 'num_parallel_tree': 1,\n",
       " 'predictor': 'auto',\n",
       " 'random_state': 42,\n",
       " 'reg_alpha': 0,\n",
       " 'reg_lambda': 1,\n",
       " 'scale_pos_weight': 1,\n",
       " 'subsample': 0.7993913128492731,\n",
       " 'tree_method': 'auto',\n",
       " 'validate_parameters': 1,\n",
       " 'verbosity': None}"
      ]
     },
     "execution_count": 7,
     "metadata": {},
     "output_type": "execute_result"
    }
   ],
   "source": [
    "# re-train models with correct params using also the validation set for training)\n",
    "for model in xgb_models:\n",
    "    params = model.get_params()\n",
    "    "
   ]
  },
  {
   "cell_type": "code",
   "execution_count": null,
   "id": "189b1cd4",
   "metadata": {},
   "outputs": [],
   "source": []
  }
 ],
 "metadata": {
  "kernelspec": {
   "display_name": "Python 3 (ipykernel)",
   "language": "python",
   "name": "python3"
  },
  "language_info": {
   "codemirror_mode": {
    "name": "ipython",
    "version": 3
   },
   "file_extension": ".py",
   "mimetype": "text/x-python",
   "name": "python",
   "nbconvert_exporter": "python",
   "pygments_lexer": "ipython3",
   "version": "3.8.8"
  }
 },
 "nbformat": 4,
 "nbformat_minor": 5
}
