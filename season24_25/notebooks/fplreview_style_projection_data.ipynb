{
 "cells": [
  {
   "cell_type": "markdown",
   "metadata": {},
   "source": [
    "This notebook is used to create a csv file that includes my point projections in a format similar to fplreview.com. This csv file can then be used for making advanced team optimization plans using Sertalp B. Cay's repo \"fpl-optimization\"."
   ]
  },
  {
   "cell_type": "code",
   "execution_count": 1,
   "metadata": {},
   "outputs": [],
   "source": [
    "latest_gameweek = 7"
   ]
  },
  {
   "cell_type": "code",
   "execution_count": 2,
   "metadata": {},
   "outputs": [],
   "source": [
    "import numpy as np\n",
    "import pandas as pd\n",
    "from pathlib import Path\n",
    "import json"
   ]
  },
  {
   "cell_type": "markdown",
   "metadata": {},
   "source": [
    "# Save team data\n",
    "Info on your own team; starting point for the optimization."
   ]
  },
  {
   "cell_type": "code",
   "execution_count": 3,
   "metadata": {},
   "outputs": [],
   "source": [
    "# get login credentials for fetching team data\n",
    "file_path = Path('../../login_credentials/fpl_login.json')\n",
    "#file_path = Path('../../login_credentials/fpl_login_2.json')\n",
    "login_credentials = pd.read_json(file_path, typ='series')"
   ]
  },
  {
   "cell_type": "code",
   "execution_count": 4,
   "metadata": {},
   "outputs": [],
   "source": [
    "# utility function for fetching team data\n",
    "from src.utils import fetch_my_team"
   ]
  },
  {
   "cell_type": "code",
   "execution_count": null,
   "metadata": {},
   "outputs": [],
   "source": [
    "# fetch my team data\n",
    "my_team = fetch_my_team(login_credentials.user_name, login_credentials.password, login_credentials.team_id)\n",
    "my_team"
   ]
  },
  {
   "cell_type": "code",
   "execution_count": 6,
   "metadata": {},
   "outputs": [],
   "source": [
    "# save team data to fpl-optimization repo\n",
    "file_path = Path('../../../repos/fpl-optimization/data/team.json')\n",
    "with open(file_path, 'w') as f:\n",
    "    json.dump(my_team, f)"
   ]
  },
  {
   "cell_type": "markdown",
   "metadata": {},
   "source": [
    "# Edit projections into fplreview format \n",
    "### (to be used with fpl-optimization repo solver)"
   ]
  },
  {
   "cell_type": "code",
   "execution_count": null,
   "metadata": {},
   "outputs": [],
   "source": [
    "filepath = Path(f'../data/predictions/gameweek{latest_gameweek}.csv')\n",
    "projections = pd.read_csv(filepath, index_col=0)\n",
    "if 'id' in projections.columns:\n",
    "    projections = projections.drop('id', axis=1)\n",
    "display(projections.head())\n",
    "display(projections.shape)"
   ]
  },
  {
   "cell_type": "code",
   "execution_count": null,
   "metadata": {},
   "outputs": [],
   "source": [
    "if latest_gameweek>0:\n",
    "    filepath = Path('../data/fpl_df.csv')\n",
    "elif latest_gameweek==0:\n",
    "    filepath = Path('../data/fpl_df_preseason_online.csv')\n",
    "else:\n",
    "    print('Check latest_gameweek!')\n",
    "\n",
    "fpl_df = pd.read_csv(filepath, index_col=0, low_memory=False)\n",
    "fpl_df = fpl_df[fpl_df.season=='24-25']\n",
    "display(fpl_df.head())\n",
    "display(fpl_df.shape)"
   ]
  },
  {
   "cell_type": "code",
   "execution_count": null,
   "metadata": {},
   "outputs": [],
   "source": [
    "df = fpl_df.groupby('name').last().reset_index()[['id', 'name','points_per_game', 'total_points',]]\n",
    "#df['id'] = df.id.astype(int)\n",
    "df['games_played'] = np.round(np.where(df['points_per_game']!=0, df['total_points'] / df['points_per_game'], 0),0)\n",
    "display(df.head())\n",
    "display(df.shape)"
   ]
  },
  {
   "cell_type": "code",
   "execution_count": null,
   "metadata": {},
   "outputs": [],
   "source": [
    "# drop duplicate players (some players get new spelling for their name during the season causing duplicates)\n",
    "duplicate_ids = df.loc[df.id.duplicated(), 'id'].unique()\n",
    "for id in duplicate_ids:\n",
    "    ix = df.loc[df.id==id, 'games_played'].idxmin()\n",
    "    df = df.drop(ix)\n",
    "display(df.head())\n",
    "display(df.shape)"
   ]
  },
  {
   "cell_type": "code",
   "execution_count": null,
   "metadata": {},
   "outputs": [],
   "source": [
    "# drop unneccesary columns\n",
    "df = df.drop(['points_per_game', 'total_points','games_played'], axis=1)\n",
    "display(df.head())\n",
    "display(df.shape)"
   ]
  },
  {
   "cell_type": "code",
   "execution_count": null,
   "metadata": {},
   "outputs": [],
   "source": [
    "# merge id info to projections\n",
    "projections = projections.merge(df, on='name', how='left')\n",
    "projections.head()"
   ]
  },
  {
   "cell_type": "code",
   "execution_count": 13,
   "metadata": {},
   "outputs": [],
   "source": [
    "# add xMins variable that is needed later\n",
    "projections['xMins'] = 90"
   ]
  },
  {
   "cell_type": "code",
   "execution_count": null,
   "metadata": {},
   "outputs": [],
   "source": [
    "projections[['id', 'expected_points', 'xMins', 'gameweek']]"
   ]
  },
  {
   "cell_type": "code",
   "execution_count": null,
   "metadata": {},
   "outputs": [],
   "source": [
    "projections_pivot = (\n",
    "    projections\n",
    "    .pivot_table(\n",
    "    columns=['gameweek',],\n",
    "    index='id', \n",
    "    values=['expected_points','xMins'], \n",
    "    aggfunc='sum'\n",
    "    )\n",
    ")\n",
    "\n",
    "projections_pivot.head()"
   ]
  },
  {
   "cell_type": "code",
   "execution_count": null,
   "metadata": {},
   "outputs": [],
   "source": [
    "new_cols = []\n",
    "for col in projections_pivot.columns:\n",
    "    if col[0] == 'expected_points':\n",
    "        new_col = str(col[1]) + '_Pts'\n",
    "        new_cols.append(new_col)\n",
    "    elif col[0] == 'xMins':\n",
    "        new_col = str(col[1]) + '_xMins'\n",
    "        new_cols.append(new_col)\n",
    "\n",
    "projections_pivot.columns = new_cols\n",
    "projections_pivot = projections_pivot.reset_index()\n",
    "projections_pivot = projections_pivot.rename(columns={'id':'ID'})\n",
    "\n",
    "projections_pivot.head()"
   ]
  },
  {
   "cell_type": "code",
   "execution_count": 33,
   "metadata": {},
   "outputs": [],
   "source": [
    "filepath = Path('../../../repos/fpl-optimization/data/fplreview.csv')\n",
    "projections_pivot.to_csv(filepath)"
   ]
  },
  {
   "cell_type": "markdown",
   "metadata": {},
   "source": [
    "### Option to make manual changes, e.g., to xPts (based on injuries)"
   ]
  },
  {
   "cell_type": "markdown",
   "metadata": {},
   "source": [
    "### adjust points\n",
    "\n",
    "If model is underestimating e.g. Haaland currently, test how many points more he would need to be getting in order to be drafed to the team in the optimization."
   ]
  },
  {
   "cell_type": "code",
   "execution_count": null,
   "metadata": {},
   "outputs": [],
   "source": [
    "projections.loc[projections['name'].str.contains('Have'), 'id'].unique()\n",
    "#projections.loc[projections['name'].str.contains('Palme'), 'id'].unique()"
   ]
  },
  {
   "cell_type": "code",
   "execution_count": null,
   "metadata": {},
   "outputs": [],
   "source": [
    "player_id = 4\n",
    "display(projections.loc[projections.id==player_id, 'name'].unique())\n",
    "display(projections_pivot[projections_pivot.ID==player_id])"
   ]
  },
  {
   "cell_type": "code",
   "execution_count": null,
   "metadata": {},
   "outputs": [],
   "source": [
    "pts_cols = [col for col in projections_pivot.columns if 'Pts' in col]\n",
    "projections_pivot.loc[projections_pivot.ID==player_id, pts_cols].sum(axis=1) / 10"
   ]
  },
  {
   "cell_type": "code",
   "execution_count": null,
   "metadata": {},
   "outputs": [],
   "source": [
    "gameweeks = np.arange(latest_gameweek+1,latest_gameweek+11)\n",
    "add_constant = 1.5\n",
    "\n",
    "for i in range(len(gameweeks)):\n",
    "    projections_pivot.loc[projections_pivot.ID==player_id, f'{gameweeks[i]}_Pts'] = \\\n",
    "        projections_pivot.loc[projections_pivot.ID==player_id, f'{gameweeks[i]}_Pts'] + add_constant\n",
    "\n",
    "display(projections_pivot[projections_pivot.ID==player_id])"
   ]
  },
  {
   "cell_type": "markdown",
   "metadata": {},
   "source": [
    "### Odegaard"
   ]
  },
  {
   "cell_type": "code",
   "execution_count": null,
   "metadata": {},
   "outputs": [],
   "source": [
    "projections.loc[projections['name'].str.contains('degaard'), 'id'].unique()"
   ]
  },
  {
   "cell_type": "code",
   "execution_count": null,
   "metadata": {},
   "outputs": [],
   "source": [
    "player_id = 13\n",
    "display(projections.loc[projections.id==player_id, 'name'].unique())\n",
    "display(projections_pivot[projections_pivot.ID==player_id])"
   ]
  },
  {
   "cell_type": "code",
   "execution_count": null,
   "metadata": {},
   "outputs": [],
   "source": [
    "np.arange(latest_gameweek+1,latest_gameweek+3)"
   ]
  },
  {
   "cell_type": "code",
   "execution_count": null,
   "metadata": {},
   "outputs": [],
   "source": [
    "gameweeks = np.arange(latest_gameweek+1,latest_gameweek+3)\n",
    "weights = [0.5, 0.75]\n",
    "\n",
    "for i in range(len(gameweeks)):\n",
    "    projections_pivot.loc[projections_pivot.ID==player_id, f'{gameweeks[i]}_Pts'] = \\\n",
    "        weights[i]*projections_pivot.loc[projections_pivot.ID==player_id, f'{gameweeks[i]}_Pts']\n",
    "\n",
    "display(projections_pivot[projections_pivot.ID==player_id])"
   ]
  },
  {
   "cell_type": "markdown",
   "metadata": {},
   "source": [
    "### De Bruyne"
   ]
  },
  {
   "cell_type": "code",
   "execution_count": null,
   "metadata": {},
   "outputs": [],
   "source": [
    "projections.loc[projections['name'].str.contains('Bruy'), 'id'].unique()"
   ]
  },
  {
   "cell_type": "code",
   "execution_count": null,
   "metadata": {},
   "outputs": [],
   "source": [
    "player_id = 345\n",
    "display(projections.loc[projections.id==player_id, 'name'].unique())\n",
    "display(projections_pivot[projections_pivot.ID==player_id])"
   ]
  },
  {
   "cell_type": "code",
   "execution_count": null,
   "metadata": {},
   "outputs": [],
   "source": [
    "gameweeks = [8,9]\n",
    "weights = [0.5,0.75]\n",
    "\n",
    "for i in range(len(gameweeks)):\n",
    "    projections_pivot.loc[projections_pivot.ID==player_id, f'{gameweeks[i]}_Pts'] = \\\n",
    "        weights[i]*projections_pivot.loc[projections_pivot.ID==player_id, f'{gameweeks[i]}_Pts']\n",
    "\n",
    "display(projections_pivot[projections_pivot.ID==player_id])"
   ]
  },
  {
   "cell_type": "markdown",
   "metadata": {},
   "source": [
    "### Pedro"
   ]
  },
  {
   "cell_type": "code",
   "execution_count": null,
   "metadata": {},
   "outputs": [],
   "source": [
    "projections.loc[projections['name'].str.contains('Pedro'), 'id'].unique()"
   ]
  },
  {
   "cell_type": "code",
   "execution_count": null,
   "metadata": {},
   "outputs": [],
   "source": [
    "player_id = 129\n",
    "display(projections.loc[projections.id==player_id, 'name'].unique())\n",
    "display(projections_pivot[projections_pivot.ID==player_id])"
   ]
  },
  {
   "cell_type": "code",
   "execution_count": null,
   "metadata": {},
   "outputs": [],
   "source": [
    "gameweeks = [8,9,10,11]\n",
    "weights = [0,0,0,0]\n",
    "\n",
    "for i in range(len(gameweeks)):\n",
    "    projections_pivot.loc[projections_pivot.ID==player_id, f'{gameweeks[i]}_Pts'] = \\\n",
    "        weights[i]*projections_pivot.loc[projections_pivot.ID==player_id, f'{gameweeks[i]}_Pts']\n",
    "\n",
    "display(projections_pivot[projections_pivot.ID==player_id])"
   ]
  },
  {
   "cell_type": "markdown",
   "metadata": {},
   "source": [
    "### Turner"
   ]
  },
  {
   "cell_type": "code",
   "execution_count": null,
   "metadata": {},
   "outputs": [],
   "source": [
    "projections.loc[projections['name'].str.contains('Turner'), 'id'].unique()"
   ]
  },
  {
   "cell_type": "code",
   "execution_count": null,
   "metadata": {},
   "outputs": [],
   "source": [
    "player_id = 28\n",
    "projections_pivot[projections_pivot.ID==player_id]"
   ]
  },
  {
   "cell_type": "code",
   "execution_count": null,
   "metadata": {},
   "outputs": [],
   "source": [
    "gameweeks = np.arange(latest_gameweek+1,39)\n",
    "weights = np.zeros(len(gameweeks))\n",
    "\n",
    "for i in range(len(gameweeks)):\n",
    "    projections_pivot.loc[projections_pivot.ID==player_id, f'{gameweeks[i]}_Pts'] = \\\n",
    "        weights[i]*projections_pivot.loc[projections_pivot.ID==player_id, f'{gameweeks[i]}_Pts']\n",
    "\n",
    "display(projections_pivot[projections_pivot.ID==player_id])"
   ]
  },
  {
   "cell_type": "markdown",
   "metadata": {},
   "source": [
    "### Ederson"
   ]
  },
  {
   "cell_type": "code",
   "execution_count": null,
   "metadata": {},
   "outputs": [],
   "source": [
    "projections.loc[projections['name'].str.contains('Eders'), 'id'].unique()"
   ]
  },
  {
   "cell_type": "code",
   "execution_count": null,
   "metadata": {},
   "outputs": [],
   "source": [
    "player_id = 352\n",
    "projections_pivot[projections_pivot.ID==player_id]"
   ]
  },
  {
   "cell_type": "code",
   "execution_count": null,
   "metadata": {},
   "outputs": [],
   "source": [
    "gameweeks = np.arange(latest_gameweek+1,39)\n",
    "weights = np.zeros(len(gameweeks))\n",
    "\n",
    "for i in range(len(gameweeks)):\n",
    "    projections_pivot.loc[projections_pivot.ID==player_id, f'{gameweeks[i]}_Pts'] = \\\n",
    "        weights[i]*projections_pivot.loc[projections_pivot.ID==player_id, f'{gameweeks[i]}_Pts']\n",
    "\n",
    "display(projections_pivot[projections_pivot.ID==player_id])"
   ]
  },
  {
   "cell_type": "code",
   "execution_count": null,
   "metadata": {},
   "outputs": [],
   "source": [
    "# save data\n",
    "filepath = Path('../../../repos/fpl-optimization/data/fplreview.csv')\n",
    "projections_pivot.to_csv(filepath)"
   ]
  },
  {
   "cell_type": "markdown",
   "metadata": {},
   "source": [
    "# Other stuff"
   ]
  },
  {
   "cell_type": "code",
   "execution_count": null,
   "metadata": {},
   "outputs": [],
   "source": [
    "# check ids\n",
    "projections.loc[projections['name'].str.contains('Havertz'), ['id','name']]"
   ]
  },
  {
   "cell_type": "code",
   "execution_count": null,
   "metadata": {},
   "outputs": [],
   "source": [
    "projections.loc[projections.id==491, ['name','team_name']]"
   ]
  },
  {
   "cell_type": "code",
   "execution_count": null,
   "metadata": {},
   "outputs": [],
   "source": [
    "# banned players from solver \n",
    "projections.loc[projections.id.isin([69, 110, 13, 345, 333, 25, 129]), 'name'].unique()"
   ]
  },
  {
   "cell_type": "code",
   "execution_count": null,
   "metadata": {},
   "outputs": [],
   "source": [
    "projections[projections.id==24]"
   ]
  },
  {
   "cell_type": "code",
   "execution_count": null,
   "metadata": {},
   "outputs": [],
   "source": []
  }
 ],
 "metadata": {
  "kernelspec": {
   "display_name": "venv23-24",
   "language": "python",
   "name": "python3"
  },
  "language_info": {
   "codemirror_mode": {
    "name": "ipython",
    "version": 3
   },
   "file_extension": ".py",
   "mimetype": "text/x-python",
   "name": "python",
   "nbconvert_exporter": "python",
   "pygments_lexer": "ipython3",
   "version": "3.10.13"
  }
 },
 "nbformat": 4,
 "nbformat_minor": 2
}
