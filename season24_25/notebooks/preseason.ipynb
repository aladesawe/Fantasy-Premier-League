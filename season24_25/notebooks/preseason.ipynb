{
 "cells": [
  {
   "cell_type": "code",
   "execution_count": null,
   "metadata": {},
   "outputs": [],
   "source": [
    "import pandas as pd\n",
    "import numpy as np\n",
    "import json\n",
    "import requests\n",
    "from pathlib import Path\n",
    "\n",
    "pd.set_option('display.max_columns', 300)"
   ]
  },
  {
   "cell_type": "code",
   "execution_count": null,
   "metadata": {},
   "outputs": [],
   "source": [
    "teams = ['Arsenal', 'Aston Villa', 'Bournemouth', 'Brentford', 'Brighton', 'Chelsea', 'Crystal Palace', 'Everton', 'Fulham', 'Ipswich Town', 'Leicester City', 'Liverpool', 'Manchester City', 'Manchester Utd', 'Newcastle Utd', 'Nottingham Forest', 'Southampton', 'Tottenham', 'West Ham', 'Wolves']"
   ]
  },
  {
   "cell_type": "code",
   "execution_count": null,
   "metadata": {},
   "outputs": [],
   "source": [
    "# fetch FPL data online\n",
    "fpl_online_data = json.loads(requests.get('https://fantasy.premierleague.com/api/bootstrap-static/').text)\n",
    "fpl_online_df = pd.DataFrame(fpl_online_data['elements'])\n",
    "fpl_online_df['team_name'] = [teams[i] for i in fpl_online_df['team']-1]\n",
    "fpl_online_df['name'] = fpl_online_df.apply(lambda x: x['first_name'] + ' ' + x['second_name'], axis=1)\n",
    "fpl_online_df"
   ]
  },
  {
   "cell_type": "code",
   "execution_count": null,
   "metadata": {},
   "outputs": [],
   "source": [
    "# old data\n",
    "my_path = Path('../data/modeling/fpl_df.csv')\n",
    "fpl_df = pd.read_csv(my_path, index_col=0)\n",
    "fpl_df "
   ]
  },
  {
   "cell_type": "code",
   "execution_count": null,
   "metadata": {},
   "outputs": [],
   "source": [
    "fpl_df_latest = fpl_df.groupby(['first_name', 'second_name']).last().reset_index()\n",
    "fpl_df_latest['name'] = fpl_df_latest.apply(lambda x: x['first_name'] + ' ' + x['second_name'], axis=1)\n",
    "fpl_df_latest"
   ]
  },
  {
   "cell_type": "code",
   "execution_count": null,
   "metadata": {},
   "outputs": [],
   "source": [
    "# only keep players that are found this season\n",
    "fpl_df_latest = fpl_df_latest[fpl_df_latest['name'].isin(fpl_online_df.name.unique())].reset_index()\n",
    "fpl_df_latest"
   ]
  },
  {
   "cell_type": "code",
   "execution_count": null,
   "metadata": {},
   "outputs": [],
   "source": [
    "correct_teams = []\n",
    "correct_positions = []\n",
    "for ix, row in fpl_df_latest.iterrows():\n",
    "    my_name = row['name']\n",
    "    my_position = row.element_type\n",
    "    online_team = fpl_online_df.loc[fpl_online_df.name==my_name, 'team'].item()\n",
    "    online_position = fpl_online_df.loc[fpl_online_df.name==my_name, 'element_type'].item()\n",
    "    correct_teams.append(online_team)\n",
    "    correct_positions.append(online_position)\n",
    "\n",
    "fpl_df_latest['team'] = correct_teams\n",
    "fpl_df_latest['element_type'] = correct_positions\n",
    "\n",
    "fpl_df_latest"
   ]
  },
  {
   "cell_type": "code",
   "execution_count": null,
   "metadata": {},
   "outputs": [],
   "source": [
    "fpl_df_latest['team_name'] = [teams[i] for i in fpl_df_latest['team']-1]\n",
    "fpl_df_latest"
   ]
  },
  {
   "cell_type": "code",
   "execution_count": null,
   "metadata": {},
   "outputs": [],
   "source": []
  }
 ],
 "metadata": {
  "kernelspec": {
   "display_name": "venv23-24",
   "language": "python",
   "name": "python3"
  },
  "language_info": {
   "codemirror_mode": {
    "name": "ipython",
    "version": 3
   },
   "file_extension": ".py",
   "mimetype": "text/x-python",
   "name": "python",
   "nbconvert_exporter": "python",
   "pygments_lexer": "ipython3",
   "version": "3.10.13"
  }
 },
 "nbformat": 4,
 "nbformat_minor": 2
}
