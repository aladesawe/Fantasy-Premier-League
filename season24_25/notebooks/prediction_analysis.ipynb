{
 "cells": [
  {
   "cell_type": "code",
   "execution_count": 16,
   "metadata": {},
   "outputs": [],
   "source": [
    "import pandas as pd\n",
    "import numpy as np\n",
    "from pathlib import Path\n",
    "import os\n",
    "from datetime import datetime\n",
    "\n",
    "import plotly.express as px\n",
    "from plotly.subplots import make_subplots\n",
    "import plotly.graph_objects as go"
   ]
  },
  {
   "cell_type": "code",
   "execution_count": null,
   "metadata": {},
   "outputs": [],
   "source": [
    "all_predictions = []\n",
    "folder_path = '../data/predictions/'\n",
    "files = os.listdir(folder_path)\n",
    "# drop non-csv files (e.g. DS_Store)\n",
    "files = [file for file in files if file.endswith('.csv')]\n",
    "for file in files:\n",
    "    predictions_week = pd.read_csv(folder_path + file, index_col=0)\n",
    "    creation_time = os.path.getctime(folder_path + file)\n",
    "    creation_date = datetime.fromtimestamp(creation_time).date()\n",
    "    predictions_week['prediction_date'] = creation_date\n",
    "    all_predictions.append(predictions_week)\n",
    "len(all_predictions)"
   ]
  },
  {
   "cell_type": "code",
   "execution_count": null,
   "metadata": {},
   "outputs": [],
   "source": [
    "player_name = 'Haaland'\n",
    "player_predictions = pd.DataFrame()\n",
    "for week in range(len(all_predictions)):\n",
    "    new_player_predictions = (all_predictions[week][all_predictions[week]\n",
    "                                .name.str.contains(player_name)].copy())\n",
    "    player_predictions = pd.concat((player_predictions, new_player_predictions))\n",
    "player_predictions"
   ]
  },
  {
   "cell_type": "code",
   "execution_count": null,
   "metadata": {},
   "outputs": [],
   "source": [
    "player_predictions.columns.tolist()"
   ]
  },
  {
   "cell_type": "code",
   "execution_count": null,
   "metadata": {},
   "outputs": [],
   "source": [
    "player_predictions[['prediction_date', 'gameweek', 'opponent_team', 'expected_points']]"
   ]
  },
  {
   "cell_type": "code",
   "execution_count": null,
   "metadata": {},
   "outputs": [],
   "source": [
    "grouped = (player_predictions[['prediction_date', 'gameweek', 'opponent_team', 'expected_points']]\n",
    "           .sort_values(by='prediction_date')\n",
    "           .groupby(['gameweek', 'opponent_team']))\n",
    "grouped.groups"
   ]
  },
  {
   "cell_type": "code",
   "execution_count": null,
   "metadata": {},
   "outputs": [],
   "source": [
    "for name, group in grouped:\n",
    "    print(f\"Group: {name}\")\n",
    "    print(group)"
   ]
  },
  {
   "cell_type": "code",
   "execution_count": null,
   "metadata": {},
   "outputs": [],
   "source": [
    "for name, group in grouped:\n",
    "    print(f\"Group: {name}\")\n",
    "    fig = px.line(x=group.prediction_date, y=group.expected_points, markers=True)\n",
    "    fig.show()"
   ]
  },
  {
   "cell_type": "code",
   "execution_count": null,
   "metadata": {},
   "outputs": [],
   "source": [
    "subtitles = []\n",
    "for name, group in grouped:\n",
    "    subtitles.append('Week ' + str(name[0]) + ' ' +name[1])\n",
    "subtitles"
   ]
  },
  {
   "cell_type": "code",
   "execution_count": null,
   "metadata": {},
   "outputs": [],
   "source": [
    "nr_figs = len(grouped.groups)\n",
    "fig = make_subplots(rows=nr_figs, cols=1, subplot_titles=subtitles)\n",
    "\n",
    "i=1\n",
    "for name, group in grouped:\n",
    "    fig.append_trace(go.Scatter(\n",
    "        x=group.prediction_date,\n",
    "        y=group.expected_points,\n",
    "        showlegend=False,\n",
    "    ), row=i, col=1)\n",
    "    i+=1\n",
    "\n",
    "fig.update_layout(height=100*nr_figs, width=600)\n",
    "fig.show()"
   ]
  },
  {
   "cell_type": "code",
   "execution_count": null,
   "metadata": {},
   "outputs": [],
   "source": [
    "mean_predictions = (player_predictions[['prediction_date', 'expected_points']]\n",
    "           .groupby(['prediction_date'])).mean()\n",
    "mean_predictions"
   ]
  },
  {
   "cell_type": "code",
   "execution_count": null,
   "metadata": {},
   "outputs": [],
   "source": [
    "px.line(x=mean_predictions.index, y=mean_predictions.expected_points, markers=True)"
   ]
  },
  {
   "cell_type": "code",
   "execution_count": null,
   "metadata": {},
   "outputs": [],
   "source": []
  }
 ],
 "metadata": {
  "kernelspec": {
   "display_name": "venv23-24",
   "language": "python",
   "name": "python3"
  },
  "language_info": {
   "codemirror_mode": {
    "name": "ipython",
    "version": 3
   },
   "file_extension": ".py",
   "mimetype": "text/x-python",
   "name": "python",
   "nbconvert_exporter": "python",
   "pygments_lexer": "ipython3",
   "version": "3.10.13"
  }
 },
 "nbformat": 4,
 "nbformat_minor": 2
}
