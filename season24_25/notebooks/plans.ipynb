{
 "cells": [
  {
   "cell_type": "code",
   "execution_count": 3,
   "metadata": {},
   "outputs": [],
   "source": [
    "import pandas as pd\n",
    "import numpy as np\n",
    "from pathlib import Path\n",
    "import os"
   ]
  },
  {
   "cell_type": "code",
   "execution_count": null,
   "metadata": {},
   "outputs": [],
   "source": [
    "all_plans = []\n",
    "folder_path = '../../../repos/fpl-optimization/data/results/'\n",
    "files = os.listdir(folder_path)\n",
    "# drop non-csv files (e.g. DS_Store)\n",
    "files = [file for file in files if file.endswith('.csv')]\n",
    "for file in files:\n",
    "    plan = pd.read_csv(folder_path + file, index_col=0)\n",
    "    all_plans.append(plan)\n",
    "len(all_plans)"
   ]
  },
  {
   "cell_type": "code",
   "execution_count": null,
   "metadata": {},
   "outputs": [],
   "source": [
    "for plan in all_plans:\n",
    "    print('--------------------')\n",
    "    print('NEW PLAN')\n",
    "    print('--------------------')\n",
    "    weeks = plan.week.unique()\n",
    "    for my_week in weeks:\n",
    "        print(my_week)\n",
    "        print('Transfers out:')\n",
    "        print(plan[(plan.week==my_week) & (plan.transfer_out==1)].name.tolist())\n",
    "        print('Transfers in:')\n",
    "        print(plan[(plan.week==my_week) & (plan.transfer_in==1)].name.tolist())\n",
    "        print()\n",
    "        \n",
    "    "
   ]
  },
  {
   "cell_type": "code",
   "execution_count": null,
   "metadata": {},
   "outputs": [],
   "source": [
    "plan = all_plans[4]\n",
    "my_week = 8\n",
    "print('Transfers out:')\n",
    "print(plan[(plan.week==my_week) & (plan.transfer_out==1)].name.tolist())\n",
    "print('Transfers in:')\n",
    "print(plan[(plan.week==my_week) & (plan.transfer_in==1)].name.tolist())"
   ]
  },
  {
   "cell_type": "code",
   "execution_count": null,
   "metadata": {},
   "outputs": [],
   "source": [
    "print('Starting 11')\n",
    "print(plan[(plan.week==my_week) & (plan.lineup==1)].name.tolist())\n",
    "print()\n",
    "print('Subs')\n",
    "print(plan[(plan.week==my_week) & (plan.bench>=0)].sort_values(by='bench').name.tolist())\n",
    "print()\n",
    "print('Captain')\n",
    "print(plan[(plan.week==my_week) & (plan.captain==1)].name.tolist())\n",
    "print('Vice captain')\n",
    "print(plan[(plan.week==my_week) & (plan.vicecaptain==1)].name.tolist())\n"
   ]
  },
  {
   "cell_type": "code",
   "execution_count": null,
   "metadata": {},
   "outputs": [],
   "source": [
    "plan[(plan.week==my_week) & (plan.captain==1)]"
   ]
  },
  {
   "cell_type": "code",
   "execution_count": null,
   "metadata": {},
   "outputs": [],
   "source": []
  }
 ],
 "metadata": {
  "kernelspec": {
   "display_name": "venv23-24",
   "language": "python",
   "name": "python3"
  },
  "language_info": {
   "codemirror_mode": {
    "name": "ipython",
    "version": 3
   },
   "file_extension": ".py",
   "mimetype": "text/x-python",
   "name": "python",
   "nbconvert_exporter": "python",
   "pygments_lexer": "ipython3",
   "version": "3.10.13"
  }
 },
 "nbformat": 4,
 "nbformat_minor": 2
}
