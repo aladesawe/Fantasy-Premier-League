{
 "cells": [
  {
   "cell_type": "code",
   "execution_count": 2,
   "id": "062402dc",
   "metadata": {},
   "outputs": [],
   "source": [
    "import pandas \n",
    "import numpy\n",
    "import pickle\n",
    "from pathlib import Path"
   ]
  },
  {
   "cell_type": "code",
   "execution_count": 4,
   "id": "cf982027",
   "metadata": {},
   "outputs": [],
   "source": [
    "path = Path('../../models/xgboost_predictor.pickle')\n",
    "with open(path,'rb') as f:\n",
    "    model = pickle.load(f)"
   ]
  },
  {
   "cell_type": "code",
   "execution_count": 69,
   "id": "62de6704",
   "metadata": {},
   "outputs": [
    {
     "data": {
      "text/html": [
       "<div>\n",
       "<style scoped>\n",
       "    .dataframe tbody tr th:only-of-type {\n",
       "        vertical-align: middle;\n",
       "    }\n",
       "\n",
       "    .dataframe tbody tr th {\n",
       "        vertical-align: top;\n",
       "    }\n",
       "\n",
       "    .dataframe thead th {\n",
       "        text-align: right;\n",
       "    }\n",
       "</style>\n",
       "<table border=\"1\" class=\"dataframe\">\n",
       "  <thead>\n",
       "    <tr style=\"text-align: right;\">\n",
       "      <th></th>\n",
       "      <th>xG per 90</th>\n",
       "      <th>xA per 90</th>\n",
       "      <th>xGA per 90</th>\n",
       "      <th>goalkeeper</th>\n",
       "      <th>defender</th>\n",
       "      <th>midfielder</th>\n",
       "      <th>forward</th>\n",
       "      <th>form 5</th>\n",
       "      <th>form 10</th>\n",
       "      <th>team xG per 90</th>\n",
       "      <th>team xGA per 90</th>\n",
       "      <th>home</th>\n",
       "      <th>opponent xG per 90</th>\n",
       "      <th>opponent xGA per 90</th>\n",
       "    </tr>\n",
       "  </thead>\n",
       "  <tbody>\n",
       "    <tr>\n",
       "      <th>0</th>\n",
       "      <td>0.5</td>\n",
       "      <td>0.1</td>\n",
       "      <td>1</td>\n",
       "      <td>0</td>\n",
       "      <td>0</td>\n",
       "      <td>0</td>\n",
       "      <td>1</td>\n",
       "      <td>6.5</td>\n",
       "      <td>6</td>\n",
       "      <td>1.5</td>\n",
       "      <td>1</td>\n",
       "      <td>1</td>\n",
       "      <td>1.1</td>\n",
       "      <td>1.1</td>\n",
       "    </tr>\n",
       "  </tbody>\n",
       "</table>\n",
       "</div>"
      ],
      "text/plain": [
       "   xG per 90  xA per 90  xGA per 90  goalkeeper  defender  midfielder  \\\n",
       "0        0.5        0.1           1           0         0           0   \n",
       "\n",
       "   forward  form 5  form 10  team xG per 90  team xGA per 90  home  \\\n",
       "0        1     6.5        6             1.5                1     1   \n",
       "\n",
       "   opponent xG per 90  opponent xGA per 90  \n",
       "0                 1.1                  1.1  "
      ]
     },
     "execution_count": 69,
     "metadata": {},
     "output_type": "execute_result"
    }
   ],
   "source": [
    "test_data = [[0.5, 0.1, 1, 0, 0, 0, 1, 6.5, 6, 1.5, 1, 1, 1.1, 1.1]]\n",
    "test_dataframe = pandas.DataFrame(test_data, columns=['xG per 90', 'xA per 90', 'xGA per 90', 'goalkeeper', \\\n",
    "                                          'defender', 'midfielder', 'forward', 'form 5', 'form 10', \\\n",
    "                                          'team xG per 90', 'team xGA per 90', 'home', 'opponent xG per 90', \\\n",
    "                                          'opponent xGA per 90'])\n",
    "test_dataframe"
   ]
  },
  {
   "cell_type": "code",
   "execution_count": 70,
   "id": "cfcbddde",
   "metadata": {},
   "outputs": [
    {
     "data": {
      "text/plain": [
       "array([6.542206], dtype=float32)"
      ]
     },
     "execution_count": 70,
     "metadata": {},
     "output_type": "execute_result"
    }
   ],
   "source": [
    "model.predict(test_dataframe)"
   ]
  },
  {
   "cell_type": "code",
   "execution_count": null,
   "id": "6743f3ae",
   "metadata": {},
   "outputs": [],
   "source": []
  }
 ],
 "metadata": {
  "kernelspec": {
   "display_name": "Python 3",
   "language": "python",
   "name": "python3"
  },
  "language_info": {
   "codemirror_mode": {
    "name": "ipython",
    "version": 3
   },
   "file_extension": ".py",
   "mimetype": "text/x-python",
   "name": "python",
   "nbconvert_exporter": "python",
   "pygments_lexer": "ipython3",
   "version": "3.8.8"
  }
 },
 "nbformat": 4,
 "nbformat_minor": 5
}
