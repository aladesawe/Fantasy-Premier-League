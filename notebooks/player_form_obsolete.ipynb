{
 "cells": [
  {
   "cell_type": "markdown",
   "metadata": {},
   "source": [
    "Here we calculate player form over 5 and 10 gameweek periods. This currently does not take into account that players may sometimes play two games in a gameweek."
   ]
  },
  {
   "cell_type": "code",
   "execution_count": null,
   "metadata": {},
   "outputs": [],
   "source": [
    "# recent gameweek\n",
    "latest_gameweek = 19"
   ]
  },
  {
   "cell_type": "code",
   "execution_count": null,
   "metadata": {},
   "outputs": [],
   "source": [
    "import pandas as pd\n",
    "import numpy as np\n",
    "\n",
    "# allow more data columns to be shown than by default\n",
    "pd.set_option('max_columns',100)"
   ]
  },
  {
   "cell_type": "code",
   "execution_count": null,
   "metadata": {},
   "outputs": [],
   "source": [
    "# fetch FPL data\n",
    "filepath = '../data/fpl/data_week' + str(latest_gameweek) + '.csv'\n",
    "players = pd.read_csv(filepath, index_col=0)"
   ]
  },
  {
   "cell_type": "code",
   "execution_count": null,
   "metadata": {},
   "outputs": [],
   "source": [
    "# how many gameweeks do we look form for\n",
    "for i in [5,10]:\n",
    "    number_gameweeks = i\n",
    "    # create a list of relevant column names\n",
    "    column_list = []\n",
    "    for i in range(0,number_gameweeks):\n",
    "        column_list.append('xPoints week ' + str(latest_gameweek-i))\n",
    "    # calculate form\n",
    "    column_name = 'form ' + str(number_gameweeks)\n",
    "    players[column_name] = players[column_list].mean(axis=1)"
   ]
  },
  {
   "cell_type": "code",
   "execution_count": null,
   "metadata": {
    "scrolled": true
   },
   "outputs": [],
   "source": [
    "# give a sorted list showing the players with best 'form 5'\n",
    "players[['web_name', 'games played','total_points', 'points_per_game','adjusted points','adjusted points per game',\\\n",
    "                                'form 5', 'form 10']].sort_values(by='form 5', ascending=False)"
   ]
  },
  {
   "cell_type": "code",
   "execution_count": null,
   "metadata": {},
   "outputs": [],
   "source": [
    "# save data\n",
    "filepath = '../data/fpl/data_week' + str(latest_gameweek) + '.csv'\n",
    "players.to_csv(filepath)"
   ]
  },
  {
   "cell_type": "code",
   "execution_count": null,
   "metadata": {},
   "outputs": [],
   "source": []
  },
  {
   "cell_type": "code",
   "execution_count": null,
   "metadata": {},
   "outputs": [],
   "source": []
  }
 ],
 "metadata": {
  "kernelspec": {
   "display_name": "Python 3",
   "language": "python",
   "name": "python3"
  },
  "language_info": {
   "codemirror_mode": {
    "name": "ipython",
    "version": 3
   },
   "file_extension": ".py",
   "mimetype": "text/x-python",
   "name": "python",
   "nbconvert_exporter": "python",
   "pygments_lexer": "ipython3",
   "version": "3.6.7"
  }
 },
 "nbformat": 4,
 "nbformat_minor": 2
}
