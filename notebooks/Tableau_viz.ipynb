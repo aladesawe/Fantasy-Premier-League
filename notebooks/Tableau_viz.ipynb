{
 "cells": [
  {
   "cell_type": "markdown",
   "metadata": {},
   "source": [
    "# Tableau \n",
    "\n",
    "Here we create a csv file that is used for making further Tableau visualizations. "
   ]
  },
  {
   "cell_type": "code",
   "execution_count": 1,
   "metadata": {},
   "outputs": [],
   "source": [
    "# recent gameweek\n",
    "gameweek = 18"
   ]
  },
  {
   "cell_type": "code",
   "execution_count": 2,
   "metadata": {},
   "outputs": [],
   "source": [
    "# import basic libraries\n",
    "import pandas as pd\n",
    "import numpy as np\n",
    "\n",
    "pd.set_option('max_columns',100)"
   ]
  },
  {
   "cell_type": "code",
   "execution_count": 3,
   "metadata": {},
   "outputs": [],
   "source": [
    "# fetch player stats data\n",
    "all_df = pd.read_csv('../data/fpl/data_week1.csv', index_col=0)\n",
    "all_df['gameweek'] = 1\n",
    "all_df['xPoints'] = all_df['adjusted points']\n",
    "\n",
    "for week in range(2,gameweek+1):\n",
    "    filepath = '../data/fpl/data_week' + str(week) + '.csv'\n",
    "    df = pd.read_csv(filepath, index_col=0)\n",
    "    df['gameweek'] = week\n",
    "    column_name = 'xPoints week ' + str(week)\n",
    "    df['xPoints'] = df[column_name]\n",
    "    all_df = all_df.append(df,sort='False')"
   ]
  },
  {
   "cell_type": "code",
   "execution_count": 8,
   "metadata": {},
   "outputs": [
    {
     "data": {
      "text/plain": [
       "(10702, 214)"
      ]
     },
     "execution_count": 8,
     "metadata": {},
     "output_type": "execute_result"
    }
   ],
   "source": [
    "all_df.shape"
   ]
  },
  {
   "cell_type": "code",
   "execution_count": 6,
   "metadata": {},
   "outputs": [],
   "source": [
    "# save data\n",
    "filepath = '../data/fpl/all_data.csv'\n",
    "all_df.to_csv(filepath)"
   ]
  },
  {
   "cell_type": "code",
   "execution_count": null,
   "metadata": {},
   "outputs": [],
   "source": []
  }
 ],
 "metadata": {
  "kernelspec": {
   "display_name": "Python 3",
   "language": "python",
   "name": "python3"
  },
  "language_info": {
   "codemirror_mode": {
    "name": "ipython",
    "version": 3
   },
   "file_extension": ".py",
   "mimetype": "text/x-python",
   "name": "python",
   "nbconvert_exporter": "python",
   "pygments_lexer": "ipython3",
   "version": "3.6.7"
  }
 },
 "nbformat": 4,
 "nbformat_minor": 2
}
