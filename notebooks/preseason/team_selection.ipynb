{
 "cells": [
  {
   "cell_type": "code",
   "execution_count": 1,
   "metadata": {},
   "outputs": [],
   "source": [
    "# recent gameweek\n",
    "gameweek = 1"
   ]
  },
  {
   "cell_type": "code",
   "execution_count": 2,
   "metadata": {},
   "outputs": [],
   "source": [
    "# import basic libraries\n",
    "import pandas as pd\n",
    "import numpy as np\n",
    "from scipy import stats\n",
    "\n",
    "pd.set_option('max_columns',100)"
   ]
  },
  {
   "cell_type": "code",
   "execution_count": 3,
   "metadata": {},
   "outputs": [],
   "source": [
    "# check whether team total cost is less than allowed\n",
    "def is_within_budget(team, cost_threshold):\n",
    "    return team['now_cost'].sum()/10.0 <= cost_threshold        "
   ]
  },
  {
   "cell_type": "code",
   "execution_count": 4,
   "metadata": {},
   "outputs": [],
   "source": [
    "# create a custom discrete probability distribution\n",
    "def discrete_probabilities(nr_elements):\n",
    "    x = np.arange(nr_elements)\n",
    "    weights = np.arange(nr_elements,0,-1) / nr_elements\n",
    "    probabilities = weights / np.sum(weights)\n",
    "    return stats.rv_discrete(values=(x, probabilities))"
   ]
  },
  {
   "cell_type": "code",
   "execution_count": 5,
   "metadata": {},
   "outputs": [],
   "source": [
    "# replace a player from a team that is over the budget\n",
    "def downgrade_team(team,nr_goalkeepers,nr_field):\n",
    "    # choose a random number between 0-10 with custom weighting\n",
    "#    custom_probability_generator_team = discrete_probabilities(11)\n",
    "    custom_ix = custom_probability_generator_team.rvs()\n",
    "    # find ix of player to be replaced\n",
    "    replace_ix = team.sort_values(by='valuePoints metric').index[custom_ix]\n",
    "    # find playing position of player to be replaced\n",
    "    element_type = team.loc[replace_ix,'element_type']\n",
    "    # order potential replacements based on valuePoints\n",
    "    players_ordered = df.loc[(~df.index.isin(team.index)) & (df['element_type']==element_type) & minGames]\\\n",
    "                                                .sort_values(by='valuePoints metric', ascending=False).head(nr_field)\n",
    "    if element_type > 1:\n",
    "        custom_probability_generator_new_player = discrete_probabilities(nr_field)\n",
    "    else:\n",
    "        custom_probability_generator_new_player = discrete_probabilities(nr_goalkeepers)\n",
    "    custom_ix = custom_probability_generator_new_player.rvs()\n",
    "    new_ix = players_ordered.index[custom_ix]\n",
    "    team = team.drop(replace_ix)\n",
    "    team = team.append(df.loc[new_ix])\n",
    "    team = team.sort_values(by='element_type')\n",
    "    # total cost of dream team\n",
    "    total_cost = team['now_cost'].sum()/10.0\n",
    "    # total points for dream team (best player's points doubled for captaincy)\n",
    "    total_points = team['adjusted points per game'].sum() + team['adjusted points per game'].max()\n",
    "    return team, total_cost, total_points"
   ]
  },
  {
   "cell_type": "code",
   "execution_count": 6,
   "metadata": {},
   "outputs": [],
   "source": [
    "def upgrade_team(team, cash_available):\n",
    "    input_team = team # NOT USED?!\n",
    "    changes = 0\n",
    "    for i in range(11):\n",
    "        player_ix = team.sort_values(by='valuePoints metric').index[i]\n",
    "        player_cost = df.loc[player_ix,'now_cost'] / 10.0\n",
    "        element_type = df.loc[player_ix,'element_type']\n",
    "        better_player_ix = df.loc[(~df.index.isin(team.index)) & (df['element_type']==element_type) & minGames \\\n",
    "                                 & (df['now_cost']/10.0 <= (player_cost+cash_available))]\\\n",
    "                                    .sort_values(by='valuePoints metric', ascending=False).index[0]\n",
    "\n",
    "        if df.loc[better_player_ix,'valuePoints metric'] > df.loc[player_ix,'valuePoints metric']:\n",
    "            team = team.drop(player_ix)\n",
    "            team = df.loc[better_player_ix:better_player_ix].append(team)\n",
    "            changes = 1\n",
    "\n",
    "        # total cost of team\n",
    "        total_cost = team['now_cost'].sum()/10.0\n",
    "        cash_available = cost_threshold - total_cost\n",
    "        # total points for dream team (best player's points doubled for captaincy)\n",
    "        total_points = team['adjusted points per game'].sum() + team['adjusted points per game'].max()  \n",
    "        team = team.sort_values(by='element_type')\n",
    "        return team, cash_available, total_cost, total_points, changes"
   ]
  },
  {
   "cell_type": "code",
   "execution_count": 7,
   "metadata": {},
   "outputs": [],
   "source": [
    "# fetch FPL data\n",
    "#filepath = '../../data/fpl/data_week' + str(gameweek) + '.csv'\n",
    "filepath = 'data_week' + str(gameweek) + '.csv'\n",
    "df = pd.read_csv(filepath, index_col=0)"
   ]
  },
  {
   "cell_type": "code",
   "execution_count": 8,
   "metadata": {},
   "outputs": [],
   "source": [
    "# value = expected points / cost\n",
    "df['value'] = df['adjusted points per game'] / (df['now_cost'] / 10.0)\n",
    "# geometric mean of 'adjusted points per game' and 'value'\n",
    "df['valuePoints metric'] = np.sqrt(df['adjusted points per game'] * df['value'])"
   ]
  },
  {
   "cell_type": "code",
   "execution_count": 9,
   "metadata": {},
   "outputs": [],
   "source": [
    "goalkeepers = df['element_type'] == 1\n",
    "defenders = df['element_type'] == 2\n",
    "midfielders = df['element_type'] == 3\n",
    "forwards = df['element_type'] == 4\n",
    "\n",
    "minGames = df['games played'] >= 5"
   ]
  },
  {
   "cell_type": "markdown",
   "metadata": {},
   "source": [
    "Choose team formation and find an initial team with the best possible players."
   ]
  },
  {
   "cell_type": "code",
   "execution_count": 19,
   "metadata": {},
   "outputs": [
    {
     "name": "stdout",
     "output_type": "stream",
     "text": [
      "Best team with formation 4-4-2:\n",
      "\n",
      "id\n",
      "383              Lloris\n",
      "259    Alexander-Arnold\n",
      "255           Robertson\n",
      "104              Alonso\n",
      "102         Azpilicueta\n",
      "254               Salah\n",
      "302           Fernandes\n",
      "306            Rashford\n",
      "272           De Bruyne\n",
      "224               Vardy\n",
      "268              Agüero\n",
      "Name: web_name, dtype: object\n",
      "\n",
      "Total cost: 96.0\n",
      "\n",
      "Total points per gameweek: 66.58846393528586\n",
      "\n",
      "Is this team within budget?\n",
      "False\n"
     ]
    }
   ],
   "source": [
    "# set up formation (number of defenders, midfielders and forwards, 1 goalkeeper assumed)\n",
    "formation = [4,4,2]\n",
    "cost_threshold = 83\n",
    "# choose the best goalkeeper\n",
    "team_goalkeeper = df[goalkeepers & minGames].sort_values(by='adjusted points per game', ascending=False).head(1)\n",
    "# choose formation[0] best defenders\n",
    "team_defenders = df[defenders & minGames].sort_values(by='adjusted points per game', ascending=False).head(formation[0])\n",
    "# choose formation[1] best midfielders\n",
    "team_midfielders = df[midfielders & minGames].sort_values(by='adjusted points per game', ascending=False).head(formation[1])\n",
    "# choose formation[2] best forwards\n",
    "team_forwards = df[forwards & minGames].sort_values(by='adjusted points per game', ascending=False).head(formation[2])\n",
    "# create initial team\n",
    "team = team_goalkeeper.append(team_defenders).append(team_midfielders).append(team_forwards)\n",
    "# total cost of dream team\n",
    "total_cost = team['now_cost'].sum()/10.0\n",
    "# total points for dream team (best player's points doubled for captaincy)\n",
    "total_points = team['adjusted points per game'].sum() + team['adjusted points per game'].max()\n",
    "print('Best team with formation ' + str(formation[0]) + '-' + str(formation[1])+ '-' + str(formation[2]) + ':')\n",
    "print()\n",
    "print(team['web_name'])\n",
    "print()\n",
    "print('Total cost: ' + str(total_cost))\n",
    "print()\n",
    "print('Total points per gameweek: ' + str(total_points))\n",
    "print()\n",
    "print('Is this team within budget?')\n",
    "print(is_within_budget(team, cost_threshold))\n",
    "\n",
    "#save this team as an initial starting point for searches\n",
    "dream_team = team"
   ]
  },
  {
   "cell_type": "markdown",
   "metadata": {},
   "source": [
    "Start an iterative process looking for the best team with given formation and budget."
   ]
  },
  {
   "cell_type": "code",
   "execution_count": 20,
   "metadata": {},
   "outputs": [],
   "source": [
    "# createa a custom discrete probability distribution for numbers 0-10\n",
    "custom_probability_generator_team = discrete_probabilities(11)"
   ]
  },
  {
   "cell_type": "code",
   "execution_count": 21,
   "metadata": {},
   "outputs": [
    {
     "name": "stdout",
     "output_type": "stream",
     "text": [
      "0/100\n",
      "10/100\n",
      "20/100\n",
      "30/100\n",
      "40/100\n",
      "50/100\n",
      "60/100\n",
      "70/100\n",
      "80/100\n",
      "90/100\n",
      "id\n",
      "383         Lloris\n",
      "102    Azpilicueta\n",
      "269       Otamendi\n",
      "232       Chilwell\n",
      "104         Alonso\n",
      "468           Jota\n",
      "254          Salah\n",
      "302      Fernandes\n",
      "306       Rashford\n",
      "437        Antonio\n",
      "224          Vardy\n",
      "Name: web_name, dtype: object\n",
      "\n",
      "Total cost: 83.0\n",
      "\n",
      "Total points per gameweek: 62.02984376856566\n"
     ]
    }
   ],
   "source": [
    "iterations = 100\n",
    "nr_goalkeepers = 20\n",
    "nr_field = 30\n",
    "\n",
    "best_points = 0\n",
    "for i in range(iterations):\n",
    "    team = dream_team\n",
    "    while ~is_within_budget(team, cost_threshold):\n",
    "        team, total_cost, total_points = downgrade_team(team,nr_goalkeepers,nr_field)\n",
    "    \n",
    "    cash_available = cost_threshold - total_cost\n",
    "    changes = 1\n",
    "    while changes==1:\n",
    "        team, cash_available, total_cost, total_points, changes = upgrade_team(team, cash_available)\n",
    "    \n",
    "    if total_points > best_points:\n",
    "        best_team = team\n",
    "        best_points = total_points\n",
    "        best_cost = total_cost\n",
    "        \n",
    "    if i%10 == 0:\n",
    "        print(str(i) + '/' + str(iterations))\n",
    "    \n",
    "print(best_team['web_name'])\n",
    "print()\n",
    "print('Total cost: ' + str(best_cost))\n",
    "print()\n",
    "print('Total points per gameweek: ' + str(best_points))"
   ]
  },
  {
   "cell_type": "code",
   "execution_count": 22,
   "metadata": {},
   "outputs": [
    {
     "name": "stdout",
     "output_type": "stream",
     "text": [
      "Best team with formation 4-4-2:\n",
      "id\n",
      "383         Lloris\n",
      "102    Azpilicueta\n",
      "269       Otamendi\n",
      "232       Chilwell\n",
      "104         Alonso\n",
      "468           Jota\n",
      "254          Salah\n",
      "302      Fernandes\n",
      "306       Rashford\n",
      "437        Antonio\n",
      "224          Vardy\n",
      "Name: web_name, dtype: object\n",
      "\n",
      "Total cost: 83.0\n",
      "\n",
      "Total points per gameweek: 62.02984376856566\n"
     ]
    }
   ],
   "source": [
    "print('Best team with formation ' + str(formation[0]) + '-' + str(formation[1])+ '-' + str(formation[2]) + ':')\n",
    "print(best_team['web_name'])\n",
    "print()\n",
    "print('Total cost: ' + str(best_cost))\n",
    "print()\n",
    "print('Total points per gameweek: ' + str(best_points))"
   ]
  },
  {
   "cell_type": "code",
   "execution_count": 14,
   "metadata": {},
   "outputs": [
    {
     "name": "stdout",
     "output_type": "stream",
     "text": [
      "Best team with formation 3-4-3:\n",
      "id\n",
      "383         Lloris\n",
      "102    Azpilicueta\n",
      "104         Alonso\n",
      "255      Robertson\n",
      "302      Fernandes\n",
      "272      De Bruyne\n",
      "306       Rashford\n",
      "468           Jota\n",
      "118        Abraham\n",
      "91            Wood\n",
      "437        Antonio\n",
      "Name: web_name, dtype: object\n",
      "\n",
      "Total cost: 83.0\n",
      "\n",
      "Total points per gameweek: 61.04238520773331\n"
     ]
    }
   ],
   "source": [
    "print('Best team with formation ' + str(formation[0]) + '-' + str(formation[1])+ '-' + str(formation[2]) + ':')\n",
    "print(best_team['web_name'])\n",
    "print()\n",
    "print('Total cost: ' + str(best_cost))\n",
    "print()\n",
    "print('Total points per gameweek: ' + str(best_points))"
   ]
  },
  {
   "cell_type": "code",
   "execution_count": 18,
   "metadata": {},
   "outputs": [
    {
     "name": "stdout",
     "output_type": "stream",
     "text": [
      "Best team with formation 3-5-2:\n",
      "id\n",
      "383         Lloris\n",
      "102    Azpilicueta\n",
      "104         Alonso\n",
      "458           Boly\n",
      "119        Pulisic\n",
      "468           Jota\n",
      "254          Salah\n",
      "302      Fernandes\n",
      "306       Rashford\n",
      "91            Wood\n",
      "437        Antonio\n",
      "Name: web_name, dtype: object\n",
      "\n",
      "Total cost: 83.0\n",
      "\n",
      "Total points per gameweek: 61.13030414259992\n"
     ]
    }
   ],
   "source": [
    "print('Best team with formation ' + str(formation[0]) + '-' + str(formation[1])+ '-' + str(formation[2]) + ':')\n",
    "print(best_team['web_name'])\n",
    "print()\n",
    "print('Total cost: ' + str(best_cost))\n",
    "print()\n",
    "print('Total points per gameweek: ' + str(best_points))"
   ]
  },
  {
   "cell_type": "code",
   "execution_count": null,
   "metadata": {},
   "outputs": [],
   "source": []
  }
 ],
 "metadata": {
  "kernelspec": {
   "display_name": "Python 3",
   "language": "python",
   "name": "python3"
  },
  "language_info": {
   "codemirror_mode": {
    "name": "ipython",
    "version": 3
   },
   "file_extension": ".py",
   "mimetype": "text/x-python",
   "name": "python",
   "nbconvert_exporter": "python",
   "pygments_lexer": "ipython3",
   "version": "3.6.7"
  }
 },
 "nbformat": 4,
 "nbformat_minor": 2
}
